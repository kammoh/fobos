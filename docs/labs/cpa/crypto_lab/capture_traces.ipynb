{
 "cells": [
  {
   "cell_type": "markdown",
   "metadata": {},
   "source": [
    "## Correlation Power Analysis (CPA) Project"
   ]
  },
  {
   "cell_type": "markdown",
   "metadata": {},
   "source": [
    "Correlation Power Analysis (CPA) is a variat of side channel analysis that collects many power traces while the device under test (DUT) is performing a cryptographic operating. The attacker select an attack piont to where an intermediate value is calculated in the device. The intermeadiate value should be a function of known data (e.g plaintext) and a small portion of the key.\n",
    "The attacker use all possible values of the key portion to calculate the possible values of the intermediate. A power model (Hamming weight or distance) is used to calculated values propotional to the power consumtion of the device while u=it calculates the intermediate. These values are called the hypothetical power.\n",
    "The real power traces collected is then statistically correlated with hypothetical power to find the key most likley used in the crypto operation.\n"
   ]
  },
  {
   "cell_type": "markdown",
   "metadata": {},
   "source": [
    "In this project, you will apply CPA on a AES-128 FPGA implementation (DUT). A setup is provided to send test vectors to the DUT, collect the traces for you using a power probe and ADC. Later in the project, you will take the traces and run the CPA analysis software to find the secret key used in the algorithm."
   ]
  },
  {
   "cell_type": "code",
   "execution_count": null,
   "metadata": {},
   "outputs": [],
   "source": []
  },
  {
   "cell_type": "markdown",
   "metadata": {},
   "source": [
    "Step 2: Power measurement\n",
    "-------------------------\n",
    "Measure the power consumption of the  crypto device while it encrypts/decrypts D data blocks.\n",
    "We need to know the value *d* the corresponds to each data block. These values can be written as a vector **d** = [d\\ :sub:`1`, d\\ :sub:`2`, ..., d\\ :sub:`D`].\n",
    "The power consumption signal for a single encryption/decryption operation is called a trace.\n",
    "A trace is vector that records instantaneous power consumption for the time of interest (the time when the intermediate value is being processed).\n",
    "The trace generated while encrypting/decrypting data block *i* consists of *T* samples and can be viewed as a vector **t**\\ :sub:`i` = [t\\ :sub:`i,1`, t\\ :sub:`i,2`,... , t\\ :sub:`i,T`].\n",
    "The traces are stacked in a matrix **T** with dimensions *D x T* where each row i is a trace generated while encrypting/decrypting block *i*.\n"
   ]
  },
  {
   "cell_type": "code",
   "execution_count": 135,
   "metadata": {},
   "outputs": [],
   "source": [
    "import os\n",
    "import shutil\n",
    "import fobos.pynqctrl\n",
    "from fobos.fobosctrl import FOBOSCtrl\n",
    "import fobos.projmgr\n",
    "import fobos.nexys3dut\n",
    "import numpy as np"
   ]
  },
  {
   "cell_type": "code",
   "execution_count": null,
   "metadata": {},
   "outputs": [],
   "source": []
  },
  {
   "cell_type": "code",
   "execution_count": 136,
   "metadata": {},
   "outputs": [],
   "source": [
    "WORKSPACE = \"./fobosworkspace\"\n",
    "PROJECT_NAME = \"aes\"\n",
    "DIN_FILE_NAME = \"dinFile.txt\"\n",
    "CIPHER_FILE = \"ciphertext.txt\"\n",
    "TRACE_FILE  = \"powerTraces.npy\"\n",
    "DUT_BIT_FILE = \"half_duplex_dut.bit\""
   ]
  },
  {
   "cell_type": "code",
   "execution_count": 137,
   "metadata": {},
   "outputs": [],
   "source": [
    "TRACE_NUM = 1000\n",
    "DUT_CLk = 1\n",
    "OUT_LEN = 16\n",
    "SAMPLING_FREQ = 50\n",
    "ADC_GAIN = 20\n",
    "SAMPLES_PER_TRACE = 1000"
   ]
  },
  {
   "cell_type": "code",
   "execution_count": 138,
   "metadata": {},
   "outputs": [
    {
     "name": "stdout",
     "output_type": "stream",
     "text": [
      "Acquired hardware lock\n"
     ]
    }
   ],
   "source": [
    "# Instantiate FOBOS objects###########################################\n",
    "ctrl = fobos.pynqctrl.PYNQCtrl(IP, PORT)"
   ]
  },
  {
   "cell_type": "code",
   "execution_count": 139,
   "metadata": {},
   "outputs": [
    {
     "name": "stdout",
     "output_type": "stream",
     "text": [
      "outlen=16\n",
      "Programming device using the following commands:\n",
      "djtgcfg init -d Nexys3\n",
      "djtgcfg prog -d Nexys3 -i 0 -f ./fobosworkspace/aes/half_duplex_dut.bit\n",
      "b'Programming device. Do not touch your board. This may take a few minutes...\\nProgramming succeeded.\\n'\n",
      "Successfully created new capture directory at ./fobosworkspace/aes/capture/attempt-5\n",
      "Processing test vectors ...\n",
      "Done!\n"
     ]
    }
   ],
   "source": [
    "ctrl.setDUTClk(DUT_CLk)\n",
    "ctrl.setDUTInterface(FOBOSCtrl.INTERFACE_4BIT)\n",
    "ctrl.setOutLen(OUT_LEN)\n",
    "ctrl.setTriggerMode(FOBOSCtrl.TRG_FULL)\n",
    "###configure trace sampling\n",
    "ctrl.setSamplingFrequency(SAMPLING_FREQ)\n",
    "ctrl.setADCGain(ADC_GAIN)\n",
    "ctrl.setSamplesPerTrace(SAMPLES_PER_TRACE)\n",
    "# Configure project directories#########################################\n",
    "pm = fobos.projmgr.ProjectManager()\n",
    "pm.setWorkSpaceDir(WORKSPACE)\n",
    "pm.setProjName(PROJECT_NAME)\n",
    "projDir = pm.getProjDir()\n",
    "# program DUT ##########################################################\n",
    "dut = fobos.nexys3dut.Nexys3DUT()\n",
    "bitFile = os.path.join(projDir, DUT_BIT_FILE)\n",
    "dut.setBitFile(bitFile)\n",
    "dut.program()\n",
    "# prepare i/o files ####################################################\n",
    "tvFileName = os.path.join(projDir, DIN_FILE_NAME)\n",
    "tvFile = open(tvFileName, \"r\")\n",
    "captureDir = pm.getCaptureDir()\n",
    "cipherFileName = os.path.join(captureDir, CIPHER_FILE)\n",
    "cipherFile = open(cipherFileName, \"w\")\n",
    "traceFileName = os.path.join(captureDir, TRACE_FILE)\n",
    "traceFile = open(traceFileName, \"a+b\")\n",
    "shutil.copy(tvFileName, captureDir)\n",
    "# Get traces############################################################\n",
    "print('Processing test vectors ...')\n",
    "traceNum = 0\n",
    "while traceNum < TRACE_NUM:\n",
    "    data = tvFile.readline()\n",
    "    status, result, trace = ctrl.processData2(data, OUT_LEN)\n",
    "    # if status != fobos.OK:\n",
    "    #     print(\"TIMEOUT\")\n",
    "    cipherFile.write(result + \"\\n\")\n",
    "    np.save(traceFile, trace)\n",
    "    traceNum += 1\n",
    "print(\"Done!\")"
   ]
  },
  {
   "cell_type": "code",
   "execution_count": 133,
   "metadata": {},
   "outputs": [
    {
     "data": {
      "text/plain": [
       "[<matplotlib.lines.Line2D at 0x7f0479c9a210>]"
      ]
     },
     "execution_count": 133,
     "metadata": {},
     "output_type": "execute_result"
    },
    {
     "data": {
      "image/png": "[encoded data removed]",
      "text/plain": [
       "<Figure size 432x288 with 1 Axes>"
      ]
     },
     "metadata": {
      "needs_background": "light"
     },
     "output_type": "display_data"
    }
   ],
   "source": [
    "import matplotlib.pyplot as plt\n",
    "traceFile.seek(0)\n",
    "trace = np.load(traceFile)\n",
    "plt.plot(trace[0:900])"
   ]
  },
  {
   "cell_type": "code",
   "execution_count": 134,
   "metadata": {},
   "outputs": [
    {
     "name": "stdout",
     "output_type": "stream",
     "text": [
      "Disconnect requested. Bye!\n",
      "Released hardware lock.\n"
     ]
    }
   ],
   "source": [
    "ctrl.disconnect()\n",
    "tvFile.close()\n",
    "cipherFile.close()\n",
    "traceFile.close()"
   ]
  },
  {
   "cell_type": "code",
   "execution_count": null,
   "metadata": {},
   "outputs": [],
   "source": []
  }
 ],
 "metadata": {
  "kernelspec": {
   "display_name": "Python 3",
   "language": "python",
   "name": "python3"
  },
  "language_info": {
   "codemirror_mode": {
    "name": "ipython",
    "version": 3
   },
   "file_extension": ".py",
   "mimetype": "text/x-python",
   "name": "python",
   "nbconvert_exporter": "python",
   "pygments_lexer": "ipython3",
   "version": "3.7.6"
  }
 },
 "nbformat": 4,
 "nbformat_minor": 4
}
