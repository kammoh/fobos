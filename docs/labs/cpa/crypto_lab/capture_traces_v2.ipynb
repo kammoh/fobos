{
 "cells": [
  {
   "cell_type": "markdown",
   "metadata": {},
   "source": [
    "## Correlation Power Analysis (CPA) - Data Acquisition"
   ]
  },
  {
   "cell_type": "markdown",
   "metadata": {},
   "source": [
    "Correlation Power Analysis (CPA) is a variant of power side channel analysis that collects many power traces while the device under test (DUT) is performing a cryptographic operation. The attacker selects an attack piont where an intermediate value is calculated in the device. The intermeadiate value should be a function of known data (e.g plaintext) and a small portion of the key.\n",
    "The attacker uses all possible values of the key portion to calculate the possible values of the intermediate. A power model (e.g. Hamming weight or distance) is used to calculated values propotional to the power consumtion of the device while it calculates the intermediate. These values are called the hypothetical power.\n",
    "The real power traces collected are statistically correlated with hypothetical power to find the key portion most likley used in the crypto operation."
   ]
  },
  {
   "cell_type": "markdown",
   "metadata": {},
   "source": [
    "In this project, you will apply CPA on a AES-128 FPGA implementation (DUT). A setup is provided to send test vectors to the DUT, collect the traces for you using a power probe and ADC. Later in the project, you will take the traces and run the CPA analysis software to find the secret key used in the algorithm.\n",
    "The goal is to be familiar with the process of CPA and the settings involved."
   ]
  },
  {
   "cell_type": "markdown",
   "metadata": {},
   "source": [
    "Step 1: Choose the intermediate value\n",
    "--------------------------------------\n",
    "We choose an intermediate variable that is processed in the algorithm. The intermediate value is calculated as *f(d, k)*\n",
    "where *d* is a known non-constant value that can be derived from known data (e.g. plaintext) and *k* is small part of the key. The image below shows the block diagram of the AES-128 that we attack in this project. This an FPGA hardware implementation.\n",
    "\n",
    "The hypothetical power is calculated as: <br/>\n",
    "H(i,j) = HD(SBOX(CT(i) ), SBOX(key_guess(j) xor PT(i+1) ))\n",
    "\n",
    "The attack is performed on one key byte at a time.\n",
    "    \n",
    "![alt text](aes128.png \"Logo Title Text 1\")\n"
   ]
  },
  {
   "cell_type": "markdown",
   "metadata": {},
   "source": [
    "Step 2: Power measurement\n",
    "-------------------------\n",
    "Measure the power consumption of the  crypto device while it encrypts D data blocks.\n",
    "We need to know the value *d* that corresponds to each data block. These values can be written as a vector **d** = [d<sub>1</sub>, d<sub>2</sub>, ..., d<sub>D</sub>].\n",
    "The power consumption signal for a single encryption/decryption operation is called a trace.\n",
    "A trace is vector that records instantaneous power consumption for a period that inculdes the time when the intermediate value is processed.\n",
    "The trace generated while encrypting/decrypting data block *i* consists of *T* samples and can be viewed as a vector **t**<sub>i</sub> = [t<sub>i,1</sub>, t<sub>i,2</sub>,... , t<sub>i,T</sub>].\n",
    "The traces are stacked in a matrix **T** with dimensions *D x T* where each row *i* is a trace generated while encrypting/decrypting block *i*.\n"
   ]
  },
  {
   "cell_type": "markdown",
   "metadata": {},
   "source": [
    "The setup provided to you is composed of the following components:\n",
    "\n",
    "1. **FOBOS3 control board**: Receives test vectors from the SCA workstation and forwords them to the DUT (design-under-test). Once the DUT starts processing a test vector (running the crypto algorithm), the control board collects the instantaneous power consumption of the DUT using a current probe. The control board also generates a clock signal for the DUT and controls the trigger signal (used to trigger ADC/oscilloscope to collect a trace)\n",
    "\n",
    "2. **DUT board**: Here we instantiate the crypto core (a.k.a victim. AES-128 in this case) which we want to attack. We need to measure the power consumption of this board. We have a Digilent Nexys 3 board (uses a Xilinx Spartan6 FPGA) as a DUT board.\n",
    "\n",
    "3. **DPA workstation** : This is the machine where all capture/analysis scripts can be run. To collect traces, you run a script that connects to the control board via network, send test vectors one at a time, and receives results (ciphertext) and traces back from the control board. Results and traces are stored in files in the DPA workstation for furtuher analysis."
   ]
  },
  {
   "cell_type": "markdown",
   "metadata": {},
   "source": [
    "   ### Excercice\n",
    "  \n",
    "  #### Input files:\n",
    "1- On the top this notebook, click File-> Open. Go to fobsoworkspace/aes. What is the value of the first block we use as input (plaintext)? How many bytes are in the block and why?\n",
    "\n",
    "  Run the following cell (Shift + Enter) to import libraries needed for the capture software and configure input and output files."
   ]
  },
  {
   "cell_type": "code",
   "execution_count": 110,
   "metadata": {},
   "outputs": [],
   "source": [
    "# import libs\n",
    "import os\n",
    "import sys\n",
    "import shutil\n",
    "import fobos.pynqctrl\n",
    "from fobos.fobosctrl import FOBOSCtrl\n",
    "import fobos.projmgr\n",
    "import fobos.nexys3dut\n",
    "import numpy as np\n",
    "#######################################################\n",
    "# connection to ctrl board\n",
    "IP = '192.168.10.99'\n",
    "PORT = 9995\n",
    "\n",
    "# File names and locations\n",
    "WORKSPACE = \"./fobosworkspace\"\n",
    "PROJECT_NAME = \"aes\"\n",
    "DIN_FILE_NAME = \"dinFile.txt\"\n",
    "CIPHER_FILE = \"ciphertext.txt\"\n",
    "PLAIN_FILE = \"plaintext.txt\"\n",
    "TRACE_FILE  = \"powerTraces.npy\"\n",
    "DUT_BIT_FILE = \"half_duplex_dut.bit\""
   ]
  },
  {
   "cell_type": "markdown",
   "metadata": {},
   "source": [
    "In the code below, set the  DUT clock to 1 MHz and ADC sampling frequency to 50 Msps.\n",
    "\n",
    "2- How many samples will be collected every DUT clock cycle? <br/>\n",
    "3- If you want to collect the entire AES encryption process for one test vector (one block), what  is the number of samples you need to collect. (Hint : This implemetation needs first 4 clock cycles to load data + 10 clock cycles to finish the AES rounds). Using the number of samples you calculated, set the SAMPLES_PER_TRACE in the script.\n",
    "\n",
    "We need to collect 10000 traces for this attack. The TRACE_NUM parameter is configured accordingly.\n",
    "\n",
    "After you finish the configuration, run the following cell."
   ]
  },
  {
   "cell_type": "code",
   "execution_count": 112,
   "metadata": {},
   "outputs": [],
   "source": [
    "DUT_CLk = 1                       # in MHz\n",
    "SAMPLING_FREQ =  50                  # in M Sample ps\n",
    "SAMPLES_PER_TRACE =  700              # number of sample in one trace\n",
    "#do not change below this line.\n",
    "TRACE_NUM = 10000\n",
    "ADC_GAIN = 40                      # amplification of ADC input signal\n",
    "OUT_LEN = 16                       # number of output bytes from AES-128"
   ]
  },
  {
   "cell_type": "markdown",
   "metadata": {},
   "source": [
    "Run this cell to checkout and connect to the harware. This locks the hardware while you are  using it. Once you finish the hardware is released to allow others to access it.\n",
    "You should see a message saying 'Acquired hardware lock'. If the hardware is used it will wait for some time until hardware is available. If this does not work, please try again after few minutes.\n",
    "\n",
    "Once the hardware is accessed, the script first applies the configuration parameters you configured previously to the control board. It also specifies files where the test vectors are read and where the results and traces will be saved. <br/>\n",
    "It then sends the test vectors one at a time to the contorl board, receives the ciphertext and traces back and stores them in files."
   ]
  },
  {
   "cell_type": "code",
   "execution_count": 113,
   "metadata": {},
   "outputs": [
    {
     "name": "stdout",
     "output_type": "stream",
     "text": [
      "Acquired hardware lock\n",
      "outlen=16\n",
      "Programming device using the following commands:\n",
      "djtgcfg init -d Nexys3\n",
      "djtgcfg prog -d Nexys3 -i 0 -f ./fobosworkspace/aes/half_duplex_dut.bit\n",
      "b'Programming device. Do not touch your board. This may take a few minutes...\\nProgramming succeeded.\\n'\n",
      "Successfully created new capture directory at ./fobosworkspace/aes/capture/attempt-9\n",
      "Processing test vectors ...\n",
      "Disconnect requested. Bye!\n",
      "Released hardware lock.\n"
     ]
    },
    {
     "data": {
      "text/plain": [
       "(0, 'Disconnect requested. Bye!')"
      ]
     },
     "execution_count": 113,
     "metadata": {},
     "output_type": "execute_result"
    }
   ],
   "source": [
    "# connect to hardware and lock it ######################################\n",
    "ctrl = fobos.pynqctrl.PYNQCtrl(IP, PORT)\n",
    "# Apply config to ctrl board ###########################################\n",
    "ctrl.setDUTClk(DUT_CLk)\n",
    "ctrl.setDUTInterface(FOBOSCtrl.INTERFACE_4BIT)\n",
    "ctrl.setOutLen(OUT_LEN)\n",
    "ctrl.setTriggerMode(FOBOSCtrl.TRG_FULL)\n",
    "# configure trace sampling #############################################\n",
    "ctrl.setSamplingFrequency(SAMPLING_FREQ)\n",
    "ctrl.setADCGain(ADC_GAIN)\n",
    "ctrl.setSamplesPerTrace(SAMPLES_PER_TRACE)\n",
    "# Configure project directories#########################################\n",
    "pm = fobos.projmgr.ProjectManager()\n",
    "pm.setWorkSpaceDir(WORKSPACE)\n",
    "pm.setProjName(PROJECT_NAME)\n",
    "projDir = pm.getProjDir()\n",
    "# program DUT ##########################################################\n",
    "dut = fobos.nexys3dut.Nexys3DUT()\n",
    "bitFile = os.path.join(projDir, DUT_BIT_FILE)\n",
    "dut.setBitFile(bitFile)\n",
    "dut.program()\n",
    "# prepare i/o files ####################################################\n",
    "tvFileName = os.path.join(projDir, DIN_FILE_NAME)\n",
    "plainFileName = os.path.join(projDir, PLAIN_FILE)\n",
    "tvFile = open(tvFileName, \"r\")\n",
    "captureDir = pm.getCaptureDir()\n",
    "cipherFileName = os.path.join(captureDir, CIPHER_FILE)\n",
    "cipherFile = open(cipherFileName, \"w\")\n",
    "traceFileName = os.path.join(captureDir, TRACE_FILE)\n",
    "traceFile = open(traceFileName, \"a+b\")\n",
    "shutil.copy(tvFileName, captureDir)\n",
    "shutil.copy(plainFileName, captureDir)\n",
    "# Get traces############################################################\n",
    "print('Processing test vectors ...')\n",
    "traceNum = 0\n",
    "while traceNum < TRACE_NUM:\n",
    "    data = tvFile.readline()\n",
    "    status, result, trace = ctrl.processData2(data, OUT_LEN)\n",
    "    cipherFile.write(result + \"\\n\")\n",
    "    np.save(traceFile, trace)\n",
    "    if traceNum % 100 == 0:\n",
    "        sys.stdout.write(f'Progress: {traceNum/TRACE_NUM*100:.2f} %\\r')\n",
    "        sys.stdout.flush()\n",
    "    traceNum += 1\n",
    "    \n",
    "ctrl.disconnect() # release control board."
   ]
  },
  {
   "cell_type": "markdown",
   "metadata": {},
   "source": [
    "Now, plot the first 100 traces collected using the following code. Graph must be shown in your final report."
   ]
  },
  {
   "cell_type": "code",
   "execution_count": 115,
   "metadata": {
    "scrolled": true
   },
   "outputs": [
    {
     "data": {
      "image/png": "[encoded data removed]",
      "text/plain": [
       "<Figure size 432x288 with 1 Axes>"
      ]
     },
     "metadata": {
      "needs_background": "light"
     },
     "output_type": "display_data"
    }
   ],
   "source": [
    "import matplotlib.pyplot as plt\n",
    "traceFile.seek(0)\n",
    "for i in range(0,100):\n",
    "    trace = np.load(traceFile)\n",
    "    plt.plot(trace)\n",
    "    \n",
    "traceFile.close()\n",
    "cipherFile.close()\n",
    "tvFile.close()"
   ]
  },
  {
   "cell_type": "markdown",
   "metadata": {},
   "source": [
    "4- How many peaks are in the trace? Are they related to the number of AES-128 rounds (expect some smaller peaks for data loading)?\n",
    "\n",
    "5- Explain why traces differ (Give at least two reasons). \n",
    "\n",
    "6- Look in the fobosworkspace/aes/capture. Where are traces and ciphertext are stored? How many bytes are in each ciphertext block? Why?\n",
    "\n",
    "Please note that the trace file includes 10000 traces similar to this and each of them is stored as a row vector of samples.\n"
   ]
  },
  {
   "cell_type": "markdown",
   "metadata": {},
   "source": [
    "\n",
    "By the end of this notebook you have the traces stored in the T matrix. We need this in the next step to recover the secret key used in the AES cipher!\n"
   ]
  }
 ],
 "metadata": {
  "kernelspec": {
   "display_name": "Python 3",
   "language": "python",
   "name": "python3"
  },
  "language_info": {
   "codemirror_mode": {
    "name": "ipython",
    "version": 3
   },
   "file_extension": ".py",
   "mimetype": "text/x-python",
   "name": "python",
   "nbconvert_exporter": "python",
   "pygments_lexer": "ipython3",
   "version": "3.7.6"
  }
 },
 "nbformat": 4,
 "nbformat_minor": 4
}
