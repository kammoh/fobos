{
 "cells": [
  {
   "cell_type": "code",
   "execution_count": 1,
   "metadata": {},
   "outputs": [
    {
     "name": "stdout",
     "output_type": "stream",
     "text": [
      "test\n"
     ]
    }
   ],
   "source": [
    "print(\"test\")"
   ]
  },
  {
   "cell_type": "code",
   "execution_count": 2,
   "metadata": {},
   "outputs": [
    {
     "name": "stdout",
     "output_type": "stream",
     "text": [
      "{'OSCILLOSCOPE': 'AGILENT', 'OSCILLOSCOPE_IP': '192.168.10.10', 'OSCILLOSCOPE_PORT': '5025', 'RESOURCE': '', 'AUTOSCALE': 'NO', 'IMPEDANCE': 'ONEMEG', 'CHANNEL1_RANGE': '0.100V', 'CHANNEL2_RANGE': '6V', 'CHANNEL3_RANGE': 'OFF', 'CHANNEL_4RANGE': '', 'CHANNEL1_DISPLAY': '', 'CHANNEL2_DISPLAY': '', 'CHANNEL3_DISPLAY': '', 'CHANNEL4_DISPLAY': '', 'TIME_RANGE': '0.000040', 'TIMEBASE_REF': 'LEFT', 'TRIGGER_SOURCE': 'CHANNEL2', 'TRIGGER_MODE': 'EDGE', 'TRIGGER_SWEEP': 'NORM', 'TRIGGER_LEVEL': '1', 'TRIGGER_SLOPE': 'POSITIVE', 'SAMPLE_INPUT': '', 'ACQUIRE_TYPE': 'NORM', 'ACQUIRE_MODE': 'RTIM', 'ACQUIRE_COMPLETE': '', 'WAVE_DATA_SIZE': '', 'NUM_PWR_TRACE': '', 'SCREEN_CAP': '', 'SCREEN_FORMAT': '', 'SCREEN_NAME': '', 'OUTPUT_DIR': '', 'CHANNEL4_RANGE': 'OFF'}\n"
     ]
    }
   ],
   "source": [
    "import binascii\n",
    "import time\n",
    "import os\n",
    "import shutil\n",
    "import numpy\n",
    "import fobos\n",
    "from fobos_openadc_dev import *\n",
    "#WORKSPACE = \"/home/xilinx/fobosworkspace\"\n",
    "WORKSPACE = \"/mnt/nfs/fobosworkspace\"\n",
    "PROJECT_NAME =\"aes_test\"\n",
    "DIN_FILE_NAME = \"dinFile.txt\"\n",
    "CIPHER_FILE = \"ciphertext.txt\"\n",
    "TRACE_FILE = \"powerTrace.npy\"\n",
    "DUT_BIT_FILE = \"FOBOS_DUT.bit\"\n",
    "TRACE_NUM = 10\n",
    "OUT_LEN = 16\n",
    "\n",
    "#program DUT\n",
    "\n",
    "\n",
    "#Scope ########################################################################################################\n",
    "scopConfig = {\n",
    "         'OSCILLOSCOPE'       : 'AGILENT', #AGILENT|OPENADC\n",
    "         'OSCILLOSCOPE_IP'    : '192.168.10.10',\n",
    "         'OSCILLOSCOPE_PORT'  : '5025',\n",
    "         'AUTOSCALE'          : 'NO',   # YES|NO    \n",
    "         'IMPEDANCE'          : 'ONEMEG', #FIFTY|ONEMEG\n",
    "         # VOLTAGE AND TIME RANGE OPTIONS        \n",
    "         'CHANNEL1_RANGE'     : '0.100V',\n",
    "         'CHANNEL2_RANGE'     : '6V',\n",
    "         'CHANNEL3_RANGE'     : 'OFF', # ON|OFF|voltage range\n",
    "         'CHANNEL4_RANGE'     : 'OFF', # ON|OFF|voltage range\n",
    "         'TIME_RANGE'         :  '0.000040',\n",
    "         'TIMEBASE_REF'       : 'LEFT',    \n",
    "         # TRIGGER OPTIONS\n",
    "         'TRIGGER_SOURCE'     : 'CHANNEL2',\n",
    "         'TRIGGER_MODE'       : 'EDGE',   \n",
    "         'TRIGGER_SWEEP'      : 'NORM',\n",
    "         'TRIGGER_LEVEL'      : '1',\n",
    "         'TRIGGER_SLOPE'      : 'POSITIVE',\n",
    "         # ACQUIRE OPTIONS\n",
    "         'ACQUIRE_TYPE'       : 'NORM', # NORM|PEAK|HRES|AVER\n",
    "         'ACQUIRE_MODE'       : 'RTIM'   # RTIM | ETIM| SEG\n",
    "}\n",
    "scope = fobos.Scope()\n",
    "scope.setConfig(scopConfig)\n",
    "print(scope.getConfig())\n",
    "scope.openConnection()\n",
    "scope.applyConfig()"
   ]
  },
  {
   "cell_type": "code",
   "execution_count": 3,
   "metadata": {
    "collapsed": true
   },
   "outputs": [],
   "source": [
    "#dutcomm register offsets\n",
    "dutcomm_START       = 0x00\n",
    "dutcomm_STATUS      = 0x04\n",
    "dutcomm_EXP_OUT_LEN = 0x0c\n",
    "##########################\n",
    "#dutctrl register offsets\n",
    "dutctrl_TRGLEN     = 0x00\n",
    "dutctrl_TRGWIAT    = 0x04\n",
    "dutctrl_TRGMODE    = 0x08\n",
    "#trigger settings\n",
    "TRG_NORM            = 0X00\n",
    "TRG_FULL            = 0x01\n",
    "TRG_NORM_CLK        = 0x02\n",
    "TRG_FULL_CLK        = 0x03\n",
    "##########################\n",
    "#config parameters\n",
    "OUT_LEN    = 4  # in 32 bit words\n",
    "TV_LEN              = 12 # in 32 bit words\n",
    "\n",
    "##########################\n",
    "import pynq.lib.dma\n",
    "from pynq import Xlnk\n",
    "import numpy as np\n",
    "from pynq import Overlay\n",
    "import sys\n",
    "import time\n",
    "##########################\n",
    "ol = Overlay(\"ctrl_top_wrapper.bit\")\n",
    "xlnk = Xlnk()\n",
    "dma = ol.axi_dma_0\n",
    "#help(ol)\n",
    "###set DUT clock frequency.\n",
    "wiz = ol.clk_wiz\n",
    "wiz.write(0x200, 0x00000102)\n",
    "wiz.write(0x208, 0x00000064)\n",
    "wiz.write(0x25c, 0x00000003)\n",
    "\n",
    "dutcomm = ol.dutcomm_0\n",
    "#dutcomm.read(dutcomm_STATUS)\n",
    "dut_ctrl = ol.dut_controller_0\n",
    "#clk_divider = ol.clock_divider_0\n",
    "#configure trigger settings\n",
    "#configure dutcomm expected_output_lenght\n",
    "dutcomm = ol.dutcomm_0\n",
    "dutcomm.write(dutcomm_EXP_OUT_LEN,4)\n",
    "#set trigger to full\n",
    "dut_ctrl.write(dutctrl_TRGMODE, TRG_FULL)\n",
    "#clk_divider.write(0, 0xFFFFFFFF)"
   ]
  },
  {
   "cell_type": "code",
   "execution_count": 4,
   "metadata": {},
   "outputs": [
    {
     "name": "stdout",
     "output_type": "stream",
     "text": [
      "clkout a01\n",
      "1 10 0\n",
      "clkout 1000\n",
      "divInt\n",
      "20\n",
      "divFrac\n",
      "0.0\n",
      "divInt\n",
      "20\n",
      "divFrac\n",
      "0\n"
     ]
    }
   ],
   "source": [
    "#configure OpenADC\n",
    "from pynq import Xlnk\n",
    "dmaRecv = ol.axi_dma_1\n",
    "#dmaRecv = overlay.axi_dma_from_openadc_to_ps\n",
    "openadcInterface = ol.openadc_interface_v1_0_0\n",
    "adcClk = ol.clk_wiz_adc\n",
    "fobosAcq = FobosAcquisition(openadcInterface, dmaRecv, adcClk)\n",
    "fobosAcq.setAdcClockFreq(50)\n",
    "adcClk.write(0x25c, 0x00000003)\n",
    "openadcInterface.writeGain(20)\n",
    "\n",
    "#####\n",
    "xlnk = Xlnk()\n",
    "outputBuffer = xlnk.cma_array(shape=(3000,), dtype=np.uint64)"
   ]
  },
  {
   "cell_type": "code",
   "execution_count": 5,
   "metadata": {},
   "outputs": [
    {
     "name": "stdout",
     "output_type": "stream",
     "text": [
      "Programming device using the following commands:\n",
      "sudo -u xilinx djtgcfg init -d Nexys3\n",
      "sudo -u xilinx djtgcfg prog -d Nexys3 -i 0 -f /mnt/nfs/fobosworkspace/aes_test/FOBOS_DUT.bit\n",
      "b'Programming device. Do not touch your board. This may take a few minutes...\\nProgramming succeeded.\\n'\n",
      "Successfully created new capture directory at /mnt/nfs/fobosworkspace/aes_test/capture/attempt-2\n",
      "Loading test-vector file ...\n",
      "Done loading.\n",
      "Time elapsed = 9.193424701690674 seconds.\n"
     ]
    }
   ],
   "source": [
    "##########################\n",
    "###configure worksapce\n",
    "pm = fobos.ProjectManager()\n",
    "pm.setWorkSpaceDir(WORKSPACE)\n",
    "pm.setProjName(PROJECT_NAME)\n",
    "projDir = pm.getProjDir()\n",
    "##########################\n",
    "dut = fobos.Nexys3DUT()\n",
    "bitFile = os.path.join(projDir, DUT_BIT_FILE)\n",
    "dut.setBitFile(bitFile)\n",
    "dut.program()\n",
    "tvFileName = os.path.join(projDir, DIN_FILE_NAME)\n",
    "tvFile = open(tvFileName, \"r\")\n",
    "captureDir = pm.getCaptureDir()\n",
    "cipherFileName = os.path.join(captureDir, CIPHER_FILE)\n",
    "cipherFile = open(cipherFileName, \"w\")\n",
    "traceFileName = os.path.join(captureDir, TRACE_FILE)\n",
    "traceFile = open(traceFileName, \"a+b\")\n",
    "#print(\"Copying test-vector file to attempt directory ...\")\n",
    "#shutil.copy(tvFileName, captureDir)\n",
    "#########################\n",
    "TRACE_NUM = 1000\n",
    "input_buffer = xlnk.cma_array(shape=(TV_LEN,), dtype=np.uint32)\n",
    "output_buffer = xlnk.cma_array(shape=(OUT_LEN,), dtype=np.uint32)\n",
    "##scope.arm()\n",
    "time.sleep(1)\n",
    "print(\"Loading test-vector file ...\")\n",
    "lines = tvFile.readlines()\n",
    "print(\"Done loading.\")\n",
    "tic = time.time()\n",
    "for traceNum in range(TRACE_NUM):\n",
    "    #get one line of dinFile and convert every 8 characters into 32bit int\n",
    "    #interpret data as hex\n",
    "    line = lines[traceNum].strip()\n",
    "    tv = [int(line[i:i+8],16) for i in range(0, len(line), 8)]\n",
    "    #time.sleep(0.05) #this delay seem to be needed\n",
    "    for i in range(0, TV_LEN):\n",
    "       input_buffer[i] = tv[i]\n",
    "    \n",
    "    ###arm to start getting trace\n",
    "    fobosAcq.arm(outputBuffer, 500)\n",
    "    dma.recvchannel.transfer(output_buffer) #configure dma to receive\n",
    "    dma.sendchannel.transfer(input_buffer)  #configure dma to send \n",
    "    dma.sendchannel.wait()\n",
    "    dma.recvchannel.wait()\n",
    "    \n",
    "    ###wait for trace to be collected\n",
    "    fobosAcq.waitForTrace()\n",
    "    #change data typy before saving\n",
    "    trace = outputBuffer.view('uint16')\n",
    "    trace= trace[:2000]\n",
    "    \n",
    "    #fobosAcq.getTrace(outputBuffer, blockSize=250)\n",
    "    #get trigger once to use it to align\n",
    "    ##if traceNum == 0:\n",
    "      ##  trigTrace = scope.readChannel('CHAN2')\n",
    "        #print(trigTrace)\n",
    "        ###start, end = scope.getCutPoints(trigTrace)\n",
    "        ###print(\"Cutting trace parameters: start=%d, end = %d\" % (start, end))\n",
    "    ##trace = scope.readChannel('CHAN1')[start:end]\n",
    "    #print(trace.shape)\n",
    "    #trace = trace[start:end]\n",
    "    ##if traceNum != TRACE_NUM - 1: #after you finish do not arm scope. It will hang\n",
    "    ##    scope.arm()\n",
    "    #covert 32 bit int array into string\n",
    "    result = ''.join(['{:08x}'.format(output_buffer[i]) for i in range(0, 4)])\n",
    "    cipherFile.write(result + '\\n')\n",
    "    numpy.save(traceFile, trace)\n",
    "    #if traceNum % 1000 == 0:\n",
    "     #   sys.stdout.write(\"Progress: %d\\r\" % (traceNum/TRACE_NUM *100 ))\n",
    "      #  sys.stdout.flush()\n",
    "    #time.sleep(1)\n",
    "\n",
    "input_buffer.freebuffer()\n",
    "output_buffer.freebuffer()\n",
    "cipherFile.close()\n",
    "tvFile.close()\n",
    "traceFile.close()\n",
    "    \n",
    "toc = time.time()\n",
    "print(\"Time elapsed = {} seconds.\".format(toc - tic))"
   ]
  },
  {
   "cell_type": "code",
   "execution_count": null,
   "metadata": {
    "collapsed": true,
    "scrolled": false
   },
   "outputs": [],
   "source": [
    "import matplotlib.pyplot as plt\n",
    "f = open(traceFileName, 'rb')\n",
    "print(traceFileName)\n",
    "dataToPlot = numpy.load(f)\n",
    "plt.plot(dataToPlot)\n",
    "print(dataToPlot.shape)\n",
    "plt.show()"
   ]
  },
  {
   "cell_type": "code",
   "execution_count": null,
   "metadata": {
    "collapsed": true
   },
   "outputs": [],
   "source": []
  }
 ],
 "metadata": {
  "kernelspec": {
   "display_name": "Python 3",
   "language": "python",
   "name": "python3"
  },
  "language_info": {
   "codemirror_mode": {
    "name": "ipython",
    "version": 3
   },
   "file_extension": ".py",
   "mimetype": "text/x-python",
   "name": "python",
   "nbconvert_exporter": "python",
   "pygments_lexer": "ipython3",
   "version": "3.6.0"
  }
 },
 "nbformat": 4,
 "nbformat_minor": 2
}
