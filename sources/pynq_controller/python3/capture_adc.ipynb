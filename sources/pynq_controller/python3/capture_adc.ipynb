{
 "cells": [
  {
   "cell_type": "code",
   "execution_count": 2,
   "metadata": {
    "collapsed": true
   },
   "outputs": [],
   "source": [
    "import binascii\n",
    "import time\n",
    "import os\n",
    "import shutil\n",
    "import numpy\n",
    "from fobos import openadc, projmgr, pynqctrl, nexys3dut\n",
    "from fobos.analyzer import ttestOnline\n",
    "from pynq import Xlnk\n",
    "import numpy as np\n",
    "from pynq import Overlay\n",
    "import sys\n",
    "WORKSPACE       = \"/home/xilinx/fobosworkspace\"\n",
    "#WORKSPACE      = \"/mnt/nfs/fobosworkspace\"\n",
    "PROJECT_NAME    =\"aes_test\"\n",
    "DIN_FILE_NAME   = \"dinFile.txt\"\n",
    "CIPHER_FILE     = \"do.txt\"\n",
    "TRACE_FILE      = \"powerTraces.npy\"\n",
    "#DUT_BIT_FILE    = \"half_duplex_dut.bit\"\n",
    "DUT_BIT_FILE    = \"FOBOS_DUT.bit\"\n",
    "OUT_LEN         = 4# in 32-bit words\n",
    "TRACE_NUM       = 10000\n",
    "SAMPLING_FREQ   = 50\n",
    "DUT_CLK         = 0.5\n",
    "SAMPLE_NUM      = 2000\n",
    "#SAMPLE_NUM      = 2000\n"
   ]
  },
  {
   "cell_type": "code",
   "execution_count": 3,
   "metadata": {},
   "outputs": [
    {
     "name": "stdout",
     "output_type": "stream",
     "text": [
      "Set clk frequency to 50.0\n"
     ]
    }
   ],
   "source": [
    "overlay = Overlay(\"ctrl_top_wrapper.bit\")\n",
    "fobosAcq = openadc.OpenADCScope(overlay)\n",
    "fobosAcq.setAdcClockFreq(SAMPLING_FREQ)\n",
    "fobosAcq.setGain(20)\n",
    "xlnk = Xlnk()\n",
    "#Wee need to reserver number of block + 2 locations\n",
    "outputBuffer = xlnk.cma_array(shape=(int(SAMPLE_NUM / 4 + 2),), dtype=np.uint64)\n"
   ]
  },
  {
   "cell_type": "code",
   "execution_count": 4,
   "metadata": {},
   "outputs": [
    {
     "name": "stdout",
     "output_type": "stream",
     "text": [
      "Set clk frequency to 0.5\n",
      "Programming device using the following commands:\n",
      "sudo -u xilinx djtgcfg init -d Nexys3\n",
      "sudo -u xilinx djtgcfg prog -d Nexys3 -i 0 -f /home/xilinx/fobosworkspace/aes_test/FOBOS_DUT.bit\n",
      "b'Programming device. Do not touch your board. This may take a few minutes...\\nProgramming succeeded.\\n'\n"
     ]
    }
   ],
   "source": [
    "##########################\n",
    "###configure worksapce\n",
    "pm = projmgr.ProjectManager()\n",
    "pm.setWorkSpaceDir(WORKSPACE)\n",
    "pm.setProjName(PROJECT_NAME)\n",
    "projDir = pm.getProjDir()\n",
    "##########################\n",
    "#configure controller\n",
    "ctrl = pynqctrl.PYNQCtrl(overlay, inputSize = 48, outputSize = 16)\n",
    "ctrl.setDUTClk(DUT_CLK)\n",
    "ctrl.setOutLen(OUT_LEN)\n",
    "ctrl.setTriggerMode(pynqctrl.PYNQCtrl.TRG_FULL)\n",
    "ctrl.setDUTInterface(pynqctrl.PYNQCtrl.INTERFACE_8BIT)\n",
    "##########################\n",
    "#configure DUT\n",
    "dut = nexys3dut.Nexys3DUT()\n",
    "bitFile = os.path.join(projDir, DUT_BIT_FILE)\n",
    "dut.setBitFile(bitFile)\n",
    "dut.program()"
   ]
  },
  {
   "cell_type": "code",
   "execution_count": 5,
   "metadata": {
    "collapsed": true
   },
   "outputs": [],
   "source": [
    "##tvla\n",
    "FVR_FILE = \"fvrChoice.txt\"\n",
    "fvrFile = open(os.path.join(projDir, FVR_FILE), 'r')\n",
    "#ttestCalc = ttestOnline.TtestOnline(SAMPLE_NUM)"
   ]
  },
  {
   "cell_type": "code",
   "execution_count": 6,
   "metadata": {},
   "outputs": [
    {
     "name": "stdout",
     "output_type": "stream",
     "text": [
      "Successfully created new capture directory at /home/xilinx/fobosworkspace/aes_test/capture/attempt-2\n",
      "Loading test-vector file ...\n",
      "Done loading.\n",
      "Time elapsed = 56.62595009803772 seconds.\n"
     ]
    }
   ],
   "source": [
    "\n",
    "##########################\n",
    "#setup i/o files\n",
    "tvFileName = os.path.join(projDir, DIN_FILE_NAME)\n",
    "tvFile = open(tvFileName, \"r\")\n",
    "captureDir = pm.getCaptureDir()\n",
    "cipherFileName = os.path.join(captureDir, CIPHER_FILE)\n",
    "cipherFile = open(cipherFileName, \"w\")\n",
    "traceFileName = os.path.join(captureDir, TRACE_FILE)\n",
    "traceFile = open(traceFileName, \"a+b\")\n",
    "#print(\"Copying test-vector file to attempt directory ...\")\n",
    "#shutil.copy(tvFileName, captureDir)\n",
    "#########################\n",
    "print(\"Loading test-vector file ...\")\n",
    "testVectors = tvFile.readlines()\n",
    "print(\"Done loading.\")\n",
    "tic = time.time()\n",
    "#traces = np.empty((TRACE_NUM, SAMPLE_NUM))\n",
    "for traceNum in range(TRACE_NUM):\n",
    "    fobosAcq.arm(outputBuffer,int(SAMPLE_NUM/4))\n",
    "    result = ctrl.processData(testVectors[traceNum])\n",
    "    fobosAcq.waitForTrace()\n",
    "    #change data typy before saving\n",
    "    trace = outputBuffer.view('uint16')\n",
    "    #trace= trace[:SAMPLE_NUM]\n",
    "    #traces[traceNum, :] = trace\n",
    "    cipherFile.write(result + '\\n')\n",
    "    #c = fvrFile.read(1)\n",
    "    #if c == \"0\":\n",
    "        #numpy.save(traceFile0, trace)\n",
    "     #   ttestCalc.addTrace(trace, 0)\n",
    "    #else:\n",
    "     #   ttestCalc.addTrace(trace, 1)\n",
    "        #numpy.save(traceFile1, trace)\n",
    "    numpy.save(traceFile, trace)\n",
    "    if traceNum % 20000 == 0:\n",
    "        sys.stdout.write(\"Progress: {}%\\r\".format(traceNum/TRACE_NUM *100 ))\n",
    "        sys.stdout.flush()\n",
    "        #ttestPlotFile = os.path.join(captureDir, \"ttest{}\".format(traceNum))\n",
    "        #ttestCalc.plot(ttestPlotFile)\n",
    "    #time.sleep(4)\n",
    "#numpy.save(traceFile,traces)\n",
    "#traces = None #Free memory\n",
    "outputBuffer.freebuffer()\n",
    "cipherFile.close()\n",
    "tvFile.close()\n",
    "traceFile.close()\n",
    "    \n",
    "toc = time.time()\n",
    "print(\"Time elapsed = {} seconds.\".format(toc - tic))"
   ]
  },
  {
   "cell_type": "code",
   "execution_count": 12,
   "metadata": {
    "scrolled": false
   },
   "outputs": [
    {
     "name": "stdout",
     "output_type": "stream",
     "text": [
      "/home/xilinx/fobosworkspace/aes_test/capture/attempt-4/powerTraces.npy\n"
     ]
    }
   ],
   "source": [
    "import matplotlib.pyplot as plt\n",
    "f = open(traceFileName, 'rb')\n",
    "print(traceFileName)\n",
    "dataToPlot = numpy.load(f)\n",
    "plt.plot(dataToPlot)\n",
    "#print(dataToPlot.shape)\n",
    "#print(dataToPlot)\n",
    "plt.savefig(\"aes.png\")\n",
    "plt.show()"
   ]
  },
  {
   "cell_type": "code",
   "execution_count": 5,
   "metadata": {
    "collapsed": true
   },
   "outputs": [],
   "source": [
    "traces = None"
   ]
  },
  {
   "cell_type": "code",
   "execution_count": null,
   "metadata": {
    "collapsed": true
   },
   "outputs": [],
   "source": []
  }
 ],
 "metadata": {
  "kernelspec": {
   "display_name": "Python 3",
   "language": "python",
   "name": "python3"
  },
  "language_info": {
   "codemirror_mode": {
    "name": "ipython",
    "version": 3
   },
   "file_extension": ".py",
   "mimetype": "text/x-python",
   "name": "python",
   "nbconvert_exporter": "python",
   "pygments_lexer": "ipython3",
   "version": "3.6.0"
  }
 },
 "nbformat": 4,
 "nbformat_minor": 2
}
