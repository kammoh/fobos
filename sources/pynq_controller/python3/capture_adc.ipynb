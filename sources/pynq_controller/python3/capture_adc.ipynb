{
 "cells": [
  {
   "cell_type": "code",
   "execution_count": 12,
   "metadata": {},
   "outputs": [],
   "source": [
    "import binascii\n",
    "import time\n",
    "import os\n",
    "import shutil\n",
    "import numpy\n",
    "from fobos import openadc, projmgr, pynqctrl, nexys3dut\n",
    "from fobos.analyzer import ttestOnline\n",
    "from pynq import Xlnk\n",
    "import numpy as np\n",
    "from pynq import Overlay\n",
    "import sys\n",
    "WORKSPACE       = \"/home/xilinx/fobosworkspace\"\n",
    "#WORKSPACE      = \"/mnt/nfs/fobosworkspace\"\n",
    "PROJECT_NAME    = \"aes_test\"\n",
    "DIN_FILE_NAME   = \"dinFile.txt\"\n",
    "CIPHER_FILE     = \"ciphertext.txt\"\n",
    "TRACE_FILE      = \"powerTraces.npy\"\n",
    "#DUT_BIT_FILE    = \"half_duplex_dut.bit\"\n",
    "DUT_BIT_FILE    = \"FOBOS_DUT.bit\"\n",
    "OUT_LEN         = 4 #11# in 32-bit words\n",
    "TRACE_NUM       = 10000\n",
    "SAMPLING_FREQ   = 50\n",
    "DUT_CLK         = 1\n",
    "SAMPLE_NUM      = 1000\n",
    "ADC_GAIN        = 50\n",
    "TV_SIZE         = 48 #108\n",
    "OUTPUT_SIZE     = 16 #44\n",
    "#SAMPLE_NUM      = 2000\n"
   ]
  },
  {
   "cell_type": "code",
   "execution_count": 13,
   "metadata": {},
   "outputs": [
    {
     "name": "stderr",
     "output_type": "stream",
     "text": [
      "/usr/local/lib/python3.6/dist-packages/pynq/overlay.py:299: UserWarning: Users will not get PARAMETERS / REGISTERS information through TCL files. HWH file is recommended.\n",
      "  warnings.warn(message, UserWarning)\n"
     ]
    },
    {
     "name": "stdout",
     "output_type": "stream",
     "text": [
      "clkout a01\n",
      "1 10 0\n",
      "clkout 1000\n",
      "divInt\n",
      "20\n",
      "divFrac\n",
      "0.0\n",
      "divInt\n",
      "20\n",
      "divFrac\n",
      "0\n",
      "Set clk frequency to 50.0\n"
     ]
    },
    {
     "name": "stderr",
     "output_type": "stream",
     "text": [
      "/usr/local/lib/python3.6/dist-packages/pynq/lib/dma.py:200: UserWarning: Failed to find parameter c_sg_length_width; users should really use *.hwh files for overlays.\n",
      "  warnings.warn(message, UserWarning)\n"
     ]
    }
   ],
   "source": [
    "overlay = Overlay(\"ctrl_top_wrapper.bit\")\n",
    "fobosAcq = openadc.OpenADCScope(overlay)\n",
    "fobosAcq.setAdcClockFreq(SAMPLING_FREQ)\n",
    "fobosAcq.setGain(ADC_GAIN)\n",
    "xlnk = Xlnk()\n",
    "#Wee need to reserver number of block + 2 locations\n",
    "outputBuffer = xlnk.cma_array(shape=(int(SAMPLE_NUM / 4 + 2),), dtype=np.uint64)\n"
   ]
  },
  {
   "cell_type": "code",
   "execution_count": 14,
   "metadata": {},
   "outputs": [
    {
     "name": "stderr",
     "output_type": "stream",
     "text": [
      "/usr/local/lib/python3.6/dist-packages/pynq/lib/dma.py:200: UserWarning: Failed to find parameter c_sg_length_width; users should really use *.hwh files for overlays.\n",
      "  warnings.warn(message, UserWarning)\n"
     ]
    },
    {
     "name": "stdout",
     "output_type": "stream",
     "text": [
      "clkout 102\n",
      "2 1 0\n",
      "clkout 50\n",
      "divInt\n",
      "50\n",
      "divFrac\n",
      "0.0\n",
      "divInt\n",
      "50\n",
      "divFrac\n",
      "0\n",
      "Set clk frequency to 1.0\n",
      "Programming device using the following commands:\n",
      "sudo -u xilinx djtgcfg init -d Nexys3\n",
      "sudo -u xilinx djtgcfg prog -d Nexys3 -i 0 -f /home/xilinx/fobosworkspace/aes_test/FOBOS_DUT.bit\n",
      "b'Programming device. Do not touch your board. This may take a few minutes...\\nProgramming succeeded.\\n'\n"
     ]
    }
   ],
   "source": [
    "##########################\n",
    "###configure worksapce\n",
    "pm = projmgr.ProjectManager()\n",
    "pm.setWorkSpaceDir(WORKSPACE)\n",
    "pm.setProjName(PROJECT_NAME)\n",
    "projDir = pm.getProjDir()\n",
    "##########################\n",
    "#configure controller\n",
    "ctrl = pynqctrl.PYNQCtrl(overlay, inputSize = TV_SIZE, outputSize = OUTPUT_SIZE)\n",
    "ctrl.setDUTClk(DUT_CLK)\n",
    "ctrl.setOutLen(OUT_LEN)\n",
    "ctrl.setTriggerMode(pynqctrl.PYNQCtrl.TRG_FULL)\n",
    "ctrl.setDUTInterface(pynqctrl.PYNQCtrl.INTERFACE_8BIT)\n",
    "\n",
    "##########################\n",
    "#configure DUT\n",
    "dut = nexys3dut.Nexys3DUT()\n",
    "bitFile = os.path.join(projDir, DUT_BIT_FILE)\n",
    "dut.setBitFile(bitFile)\n",
    "dut.program()"
   ]
  },
  {
   "cell_type": "code",
   "execution_count": 15,
   "metadata": {},
   "outputs": [],
   "source": [
    "##tvla\n",
    "#FVR_FILE = \"fvrChoice.txt\"\n",
    "#fvrFile = open(os.path.join(projDir, FVR_FILE), 'r')\n",
    "#ttestCalc = ttestOnline.TtestOnline(SAMPLE_NUM)\n",
    "\n"
   ]
  },
  {
   "cell_type": "code",
   "execution_count": 16,
   "metadata": {},
   "outputs": [
    {
     "name": "stdout",
     "output_type": "stream",
     "text": [
      "Successfully created new capture directory at /home/xilinx/fobosworkspace/aes_test/capture/attempt-134\n",
      "Loading test-vector file ...\n",
      "Done loading.\n",
      "Time elapsed = 53.281176805496216 seconds.\n"
     ]
    }
   ],
   "source": [
    "ctrl.forceReset()\n",
    "time.sleep(1)\n",
    "ctrl.releaseReset()\n",
    "##########################\n",
    "#setup i/o files\n",
    "tvFileName = os.path.join(projDir, DIN_FILE_NAME)\n",
    "tvFile = open(tvFileName, \"r\")\n",
    "captureDir = pm.getCaptureDir()\n",
    "cipherFileName = os.path.join(captureDir, CIPHER_FILE)\n",
    "cipherFile = open(cipherFileName, \"w\")\n",
    "traceFileName = os.path.join(captureDir, TRACE_FILE)\n",
    "traceFile = open(traceFileName, \"a+b\")\n",
    "#print(\"Copying test-vector file to attempt directory ...\")\n",
    "#shutil.copy(tvFileName, captureDir)\n",
    "#########################\n",
    "print(\"Loading test-vector file ...\")\n",
    "testVectors = tvFile.readlines()\n",
    "print(\"Done loading.\")\n",
    "tic = time.time()\n",
    "#traces = np.empty((TRACE_NUM, SAMPLE_NUM))\n",
    "for traceNum in range(TRACE_NUM):\n",
    "    fobosAcq.arm(outputBuffer,int(SAMPLE_NUM/4))\n",
    "    result = ctrl.processData(testVectors[traceNum])\n",
    "    fobosAcq.waitForTrace()\n",
    "    #change data typy before saving\n",
    "    trace = outputBuffer.view('uint16')\n",
    "    #trace= trace[:SAMPLE_NUM]\n",
    "    #traces[traceNum, :] = trace\n",
    "    cipherFile.write(result + '\\n')\n",
    "    #c = fvrFile.read(1)\n",
    "    #if c == \"0\":\n",
    "        #numpy.save(traceFile0, trace)\n",
    "     #   ttestCalc.addTrace(trace, 0)\n",
    "    #else:\n",
    "     #   ttestCalc.addTrace(trace, 1)\n",
    "        #numpy.save(traceFile1, trace)\n",
    "    numpy.save(traceFile, trace)\n",
    "    if traceNum % 1000 == 0:\n",
    "        sys.stdout.write(\"Progress: {}%\\r\".format(traceNum/TRACE_NUM *100 ))\n",
    "        sys.stdout.flush()\n",
    "        #ttestPlotFile = os.path.join(captureDir, \"ttest{}\".format(traceNum))\n",
    "        #ttestCalc.plot(ttestPlotFile)\n",
    "    #time.sleep(4)\n",
    "#numpy.save(traceFile,traces)\n",
    "#traces = None #Free memory\n",
    "outputBuffer.freebuffer()\n",
    "cipherFile.close()\n",
    "tvFile.close()\n",
    "traceFile.close()\n",
    "\n",
    "toc = time.time()\n",
    "print(\"Time elapsed = {} seconds.\".format(toc - tic))"
   ]
  },
  {
   "cell_type": "code",
   "execution_count": 17,
   "metadata": {
    "scrolled": false
   },
   "outputs": [
    {
     "name": "stdout",
     "output_type": "stream",
     "text": [
      "/home/xilinx/fobosworkspace/aes_test/capture/attempt-134/powerTraces.npy\n",
      "(1008,)\n"
     ]
    },
    {
     "data": {
      "image/png": "[encoded data removed]",
      "text/plain": [
       "<matplotlib.figure.Figure at 0xae4a71d0>"
      ]
     },
     "metadata": {},
     "output_type": "display_data"
    }
   ],
   "source": [
    "import matplotlib.pyplot as plt\n",
    "%matplotlib inline\n",
    "f = open(traceFileName, 'rb')\n",
    "print(traceFileName)\n",
    "dataToPlot = numpy.load(f)\n",
    "plt.plot(dataToPlot[0:4000])\n",
    "print(dataToPlot.shape)\n",
    "#print(dataToPlot)\n",
    "plt.savefig(os.path.join(captureDir,\"aes.png\"))\n",
    "plt.show()\n",
    "#plt.clf()"
   ]
  },
  {
   "cell_type": "code",
   "execution_count": null,
   "metadata": {},
   "outputs": [],
   "source": []
  },
  {
   "cell_type": "code",
   "execution_count": null,
   "metadata": {},
   "outputs": [],
   "source": []
  }
 ],
 "metadata": {
  "kernelspec": {
   "display_name": "Python 3",
   "language": "python",
   "name": "python3"
  },
  "language_info": {
   "codemirror_mode": {
    "name": "ipython",
    "version": 3
   },
   "file_extension": ".py",
   "mimetype": "text/x-python",
   "name": "python",
   "nbconvert_exporter": "python",
   "pygments_lexer": "ipython3",
   "version": "3.6.5"
  }
 },
 "nbformat": 4,
 "nbformat_minor": 2
}
