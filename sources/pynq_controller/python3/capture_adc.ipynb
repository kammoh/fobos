{
 "cells": [
  {
   "cell_type": "code",
   "execution_count": 1,
   "metadata": {
    "collapsed": true
   },
   "outputs": [],
   "source": [
    "import binascii\n",
    "import time\n",
    "import os\n",
    "import shutil\n",
    "import numpy\n",
    "import fobos\n",
    "from pynq import Xlnk\n",
    "import numpy as np\n",
    "from pynq import Overlay\n",
    "import sys\n",
    "WORKSPACE       = \"/home/xilinx/fobosworkspace\"\n",
    "#WORKSPACE      = \"/mnt/nfs/fobosworkspace\"\n",
    "PROJECT_NAME    =\"aes_test\"\n",
    "DIN_FILE_NAME   = \"dinFile.txt\"\n",
    "CIPHER_FILE     = \"ciphertext.txt\"\n",
    "TRACE_FILE      = \"powerTrace.npy\"\n",
    "DUT_BIT_FILE    = \"FOBOS_DUT.bit\"\n",
    "OUT_LEN         = 4\n",
    "TRACE_NUM       = 1000\n",
    "SAMPLING_FREQ   = 100\n",
    "DUT_CLK         = 0.5\n"
   ]
  },
  {
   "cell_type": "code",
   "execution_count": 2,
   "metadata": {},
   "outputs": [
    {
     "name": "stdout",
     "output_type": "stream",
     "text": [
      "Set clk frequency to 100.0\n"
     ]
    }
   ],
   "source": [
    "overlay = Overlay(\"ctrl_top_wrapper.bit\")\n",
    "fobosAcq = fobos.OpenADCScope(overlay)\n",
    "fobosAcq.setAdcClockFreq(SAMPLING_FREQ)\n",
    "xlnk = Xlnk()\n",
    "outputBuffer = xlnk.cma_array(shape=(512,), dtype=np.uint64)\n"
   ]
  },
  {
   "cell_type": "code",
   "execution_count": 3,
   "metadata": {},
   "outputs": [
    {
     "name": "stdout",
     "output_type": "stream",
     "text": [
      "Set clk frequency to 0.5\n",
      "Programming device using the following commands:\n",
      "sudo -u xilinx djtgcfg init -d Nexys3\n",
      "sudo -u xilinx djtgcfg prog -d Nexys3 -i 0 -f /home/xilinx/fobosworkspace/aes_test/FOBOS_DUT.bit\n",
      "b'Programming device. Do not touch your board. This may take a few minutes...\\nProgramming succeeded.\\n'\n",
      "Successfully created new capture directory at /home/xilinx/fobosworkspace/aes_test/capture/attempt-95\n",
      "Loading test-vector file ...\n",
      "Done loading.\n",
      "Time elapsed = 5.478133916854858 seconds.\n"
     ]
    }
   ],
   "source": [
    "##########################\n",
    "###configure worksapce\n",
    "pm = fobos.ProjectManager()\n",
    "pm.setWorkSpaceDir(WORKSPACE)\n",
    "pm.setProjName(PROJECT_NAME)\n",
    "projDir = pm.getProjDir()\n",
    "##########################\n",
    "#configure controller\n",
    "ctrl = fobos.PYNQCtrl(overlay)\n",
    "ctrl.setDUTClk(DUT_CLK)\n",
    "ctrl.setOutLen(OUT_LEN)\n",
    "ctrl.setTriggerMode(fobos.PYNQCtrl.TRG_FULL)\n",
    "##########################\n",
    "#configure DUT\n",
    "dut = fobos.Nexys3DUT()\n",
    "bitFile = os.path.join(projDir, DUT_BIT_FILE)\n",
    "dut.setBitFile(bitFile)\n",
    "dut.program()\n",
    "##########################\n",
    "#setup i/o files\n",
    "tvFileName = os.path.join(projDir, DIN_FILE_NAME)\n",
    "tvFile = open(tvFileName, \"r\")\n",
    "captureDir = pm.getCaptureDir()\n",
    "cipherFileName = os.path.join(captureDir, CIPHER_FILE)\n",
    "cipherFile = open(cipherFileName, \"w\")\n",
    "traceFileName = os.path.join(captureDir, TRACE_FILE)\n",
    "traceFile = open(traceFileName, \"a+b\")\n",
    "#print(\"Copying test-vector file to attempt directory ...\")\n",
    "#shutil.copy(tvFileName, captureDir)\n",
    "#########################\n",
    "print(\"Loading test-vector file ...\")\n",
    "testVectors = tvFile.readlines()\n",
    "print(\"Done loading.\")\n",
    "tic = time.time()\n",
    "for traceNum in range(TRACE_NUM):\n",
    "    fobosAcq.arm(outputBuffer,500)\n",
    "    result = ctrl.processData(testVectors[traceNum])\n",
    "    fobosAcq.waitForTrace()\n",
    "    #change data typy before saving\n",
    "    trace = outputBuffer.view('uint16')\n",
    "    trace= trace[:2000]\n",
    "    cipherFile.write(result + '\\n')\n",
    "    numpy.save(traceFile, trace)\n",
    "    #if traceNum % 1000 == 0:\n",
    "     #   sys.stdout.write(\"Progress: %d\\r\" % (traceNum/TRACE_NUM *100 ))\n",
    "      #  sys.stdout.flush()\n",
    "    #time.sleep(1)\n",
    "    \n",
    "cipherFile.close()\n",
    "tvFile.close()\n",
    "traceFile.close()\n",
    "    \n",
    "toc = time.time()\n",
    "print(\"Time elapsed = {} seconds.\".format(toc - tic))"
   ]
  },
  {
   "cell_type": "code",
   "execution_count": 4,
   "metadata": {
    "scrolled": false
   },
   "outputs": [
    {
     "name": "stdout",
     "output_type": "stream",
     "text": [
      "/home/xilinx/fobosworkspace/aes_test/capture/attempt-95/powerTrace.npy\n",
      "(2000,)\n"
     ]
    },
    {
     "data": {
      "image/png": "[encoded data removed]",
      "text/plain": [
       "<matplotlib.figure.Figure at 0x330607f0>"
      ]
     },
     "metadata": {},
     "output_type": "display_data"
    }
   ],
   "source": [
    "import matplotlib.pyplot as plt\n",
    "f = open(traceFileName, 'rb')\n",
    "print(traceFileName)\n",
    "dataToPlot = numpy.load(f)\n",
    "plt.plot(dataToPlot)\n",
    "print(dataToPlot.shape)\n",
    "plt.show()"
   ]
  },
  {
   "cell_type": "code",
   "execution_count": null,
   "metadata": {
    "collapsed": true
   },
   "outputs": [],
   "source": []
  }
 ],
 "metadata": {
  "kernelspec": {
   "display_name": "Python 3",
   "language": "python",
   "name": "python3"
  },
  "language_info": {
   "codemirror_mode": {
    "name": "ipython",
    "version": 3
   },
   "file_extension": ".py",
   "mimetype": "text/x-python",
   "name": "python",
   "nbconvert_exporter": "python",
   "pygments_lexer": "ipython3",
   "version": "3.6.0"
  }
 },
 "nbformat": 4,
 "nbformat_minor": 2
}
