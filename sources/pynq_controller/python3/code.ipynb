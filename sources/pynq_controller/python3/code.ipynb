{
 "cells": [
  {
   "cell_type": "code",
   "execution_count": 5,
   "metadata": {
    "collapsed": true
   },
   "outputs": [],
   "source": [
    "#dutcomm register offsets\n",
    "dutcomm_START       = 0x00\n",
    "dutcomm_STATUS      = 0x04\n",
    "dutcomm_EXP_OUT_LEN = 0x0c\n",
    "##########################\n",
    "#config parameters\n",
    "EXPECTED_OUT_LEN    = 4  # in 32 bit words\n",
    "TV_LEN              = 12 # in 32 bit words\n",
    "NUM_TRACES          = 10\n",
    "##########################\n",
    "import pynq.lib.dma\n",
    "from pynq import Xlnk\n",
    "import numpy as np\n",
    "from pynq import Overlay\n",
    "import sys\n",
    "import time\n",
    "##########################\n",
    "ol = Overlay(\"ctrl_top.bit\")\n",
    "xlnk = Xlnk()\n",
    "dma = ol.axi_dma_0"
   ]
  },
  {
   "cell_type": "code",
   "execution_count": 6,
   "metadata": {},
   "outputs": [],
   "source": [
    "#configure dutcomm expected_output_lenght\n",
    "dutcomm = ol.dutcomm_0\n",
    "dutcomm.write(dutcomm_EXP_OUT_LEN,4)"
   ]
  },
  {
   "cell_type": "code",
   "execution_count": 7,
   "metadata": {
    "collapsed": true
   },
   "outputs": [],
   "source": [
    "#test vector\n",
    "tv = [0x00c00010, 0x59390499, 0x79b065ad, 0x57f2548b, 0x2b539aa1, \n",
    "      0x00c10010, 0x11352d06, 0xd4fc0fb3, 0xc0fda1b8, 0x94d8aa1f,\n",
    "      0x00810010, 0x00800001]"
   ]
  },
  {
   "cell_type": "code",
   "execution_count": 8,
   "metadata": {},
   "outputs": [
    {
     "name": "stdout",
     "output_type": "stream",
     "text": [
      "5ec6aec2dbf2760a15eaa9d415cf4cee\n",
      "5ec6aec2dbf2760a15eaa9d415cf4cee\n",
      "5ec6aec2dbf2760a15eaa9d415cf4cee\n",
      "5ec6aec2dbf2760a15eaa9d415cf4cee\n",
      "5ec6aec2dbf2760a15eaa9d415cf4cee\n",
      "5ec6aec2dbf2760a15eaa9d415cf4cee\n",
      "5ec6aec2dbf2760a15eaa9d415cf4cee\n",
      "5ec6aec2dbf2760a15eaa9d415cf4cee\n",
      "5ec6aec2dbf2760a15eaa9d415cf4cee\n",
      "5ec6aec2dbf2760a15eaa9d415cf4cee\n",
      "Time elapsed = 0.05469989776611328 seconds.\n"
     ]
    }
   ],
   "source": [
    "tic = time.time()\n",
    "for trace in range(NUM_TRACES):\n",
    "    #prapare buffers\n",
    "    input_buffer = xlnk.cma_array(shape=(TV_LEN,), dtype=np.uint32)\n",
    "    output_buffer = xlnk.cma_array(shape=(EXPECTED_OUT_LEN,), dtype=np.uint32)\n",
    "\n",
    "    for i in range(0, TV_LEN):\n",
    "       input_buffer[i] = tv[i]\n",
    "    \n",
    "    dma.recvchannel.transfer(output_buffer) #configure dma to receive\n",
    "    dma.sendchannel.transfer(input_buffer)  #configure dma to send \n",
    "    dma.sendchannel.wait()\n",
    "    dma.recvchannel.wait()\n",
    "    \n",
    "    ##display result\n",
    "    for i in range(4):\n",
    "       sys.stdout.write(format(output_buffer[i], '08x'))\n",
    "    sys.stdout.write('\\n')\n",
    "    \n",
    "    input_buffer.freebuffer()\n",
    "    output_buffer.freebuffer()\n",
    "    \n",
    "toc = time.time()\n",
    "print(\"Time elapsed = {} seconds.\".format(toc - tic))"
   ]
  }
 ],
 "metadata": {
  "kernelspec": {
   "display_name": "Python 3",
   "language": "python",
   "name": "python3"
  },
  "language_info": {
   "codemirror_mode": {
    "name": "ipython",
    "version": 3
   },
   "file_extension": ".py",
   "mimetype": "text/x-python",
   "name": "python",
   "nbconvert_exporter": "python",
   "pygments_lexer": "ipython3",
   "version": "3.6.0"
  }
 },
 "nbformat": 4,
 "nbformat_minor": 2
}
