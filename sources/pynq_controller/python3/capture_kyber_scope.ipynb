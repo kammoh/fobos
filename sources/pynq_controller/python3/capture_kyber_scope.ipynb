{
 "cells": [
  {
   "cell_type": "code",
   "execution_count": 16,
   "metadata": {},
   "outputs": [
    {
     "name": "stdout",
     "output_type": "stream",
     "text": [
      "{'OSCILLOSCOPE': 'AGILENT', 'OSCILLOSCOPE_IP': '192.168.10.10', 'OSCILLOSCOPE_PORT': '5025', 'RESOURCE': '', 'AUTOSCALE': 'NO', 'IMPEDANCE': 'ONEMEG', 'CHANNEL1_RANGE': '0.050V', 'CHANNEL2_RANGE': '6V', 'CHANNEL3_RANGE': 'OFF', 'CHANNEL_4RANGE': '', 'CHANNEL1_DISPLAY': '', 'CHANNEL2_DISPLAY': '', 'CHANNEL3_DISPLAY': '', 'CHANNEL4_DISPLAY': '', 'TIME_RANGE': '0.410000', 'TIMEBASE_REF': 'LEFT', 'TRIGGER_SOURCE': 'CHANNEL2', 'TRIGGER_MODE': 'EDGE', 'TRIGGER_SWEEP': 'NORM', 'TRIGGER_LEVEL': '0.5', 'TRIGGER_SLOPE': 'POSITIVE', 'SAMPLE_INPUT': '', 'ACQUIRE_TYPE': 'NORM', 'ACQUIRE_MODE': 'RTIM', 'ACQUIRE_COMPLETE': '', 'WAVE_DATA_SIZE': '', 'NUM_PWR_TRACE': '', 'SCREEN_CAP': '', 'SCREEN_FORMAT': '', 'SCREEN_NAME': '', 'OUTPUT_DIR': '', 'CHANNEL4_RANGE': 'OFF'}\n"
     ]
    }
   ],
   "source": [
    "import binascii\n",
    "import time\n",
    "import os\n",
    "import shutil\n",
    "import numpy\n",
    "from fobos import openadc, projmgr, pynqctrl, nexys3dut, scope\n",
    "from fobos.analyzer import ttestOnline\n",
    "from pynq import Xlnk\n",
    "import numpy as np\n",
    "from pynq import Overlay\n",
    "import sys\n",
    "WORKSPACE       = \"/home/xilinx/fobosworkspace\"\n",
    "#WORKSPACE      = \"/mnt/nfs/fobosworkspace\"\n",
    "PROJECT_NAME    =\"kyber\"\n",
    "DIN_FILE_NAME   = \"dinFile.txt\"\n",
    "CIPHER_FILE     = \"do.txt\"\n",
    "TRACE_FILE      = \"powerTraces.npy\"\n",
    "#DUT_BIT_FILE    = \"half_duplex_dut.bit\"\n",
    "DUT_BIT_FILE    = \"FOBOS_DUT.bit\"\n",
    "OUT_LEN         = 8# in 32-bit words\n",
    "TRACE_NUM       = 10\n",
    "SAMPLING_FREQ   = 5\n",
    "DUT_CLK         = 0.5\n",
    "SAMPLE_NUM      = 2000000\n",
    "#SAMPLE_NUM      = 2000\n",
    "\n",
    "#Scope ########################################################################################################\n",
    "scopConfig = {\n",
    "         'OSCILLOSCOPE'       : 'AGILENT', #AGILENT|OPENADC\n",
    "         'OSCILLOSCOPE_IP'    : '192.168.10.10',\n",
    "         'OSCILLOSCOPE_PORT'  : '5025',\n",
    "         'AUTOSCALE'          : 'NO',   # YES|NO    \n",
    "         'IMPEDANCE'          : 'ONEMEG', #FIFTY|ONEMEG\n",
    "         # VOLTAGE AND TIME RANGE OPTIONS        \n",
    "         'CHANNEL1_RANGE'     : '0.050V',\n",
    "         'CHANNEL2_RANGE'     : '6V',\n",
    "         'CHANNEL3_RANGE'     : 'OFF', # ON|OFF|voltage range\n",
    "         'CHANNEL4_RANGE'     : 'OFF', # ON|OFF|voltage range\n",
    "         'TIME_RANGE'         :  '0.410000',\n",
    "         'TIMEBASE_REF'       : 'LEFT',    \n",
    "         # TRIGGER OPTIONS\n",
    "         'TRIGGER_SOURCE'     : 'CHANNEL2',\n",
    "         'TRIGGER_MODE'       : 'EDGE',   \n",
    "         'TRIGGER_SWEEP'      : 'NORM',\n",
    "         'TRIGGER_LEVEL'      : '0.5',\n",
    "         'TRIGGER_SLOPE'      : 'POSITIVE',\n",
    "         # ACQUIRE OPTIONS\n",
    "         'ACQUIRE_TYPE'       : 'NORM', # NORM|PEAK|HRES|AVER\n",
    "         'ACQUIRE_MODE'       : 'RTIM'   # RTIM | ETIM| SEG\n",
    "}\n",
    "scope = scope.Scope()\n",
    "scope.setConfig(scopConfig)\n",
    "print(scope.getConfig())\n",
    "scope.openConnection()\n",
    "scope.applyConfig()"
   ]
  },
  {
   "cell_type": "code",
   "execution_count": 17,
   "metadata": {
    "collapsed": true
   },
   "outputs": [],
   "source": [
    "overlay = Overlay(\"ctrl_top_wrapper.bit\")\n"
   ]
  },
  {
   "cell_type": "code",
   "execution_count": 18,
   "metadata": {},
   "outputs": [
    {
     "name": "stdout",
     "output_type": "stream",
     "text": [
      "Set clk frequency to 0.5\n"
     ]
    }
   ],
   "source": [
    "##########################\n",
    "###configure worksapce\n",
    "pm = projmgr.ProjectManager()\n",
    "pm.setWorkSpaceDir(WORKSPACE)\n",
    "pm.setProjName(PROJECT_NAME)\n",
    "projDir = pm.getProjDir()\n",
    "##########################\n",
    "#configure controller\n",
    "ctrl = pynqctrl.PYNQCtrl(overlay, inputSize = 2256, outputSize = 32)\n",
    "ctrl.setDUTClk(DUT_CLK)\n",
    "ctrl.setOutLen(OUT_LEN)\n",
    "ctrl.setTriggerMode(pynqctrl.PYNQCtrl.TRG_FULL)\n",
    "ctrl.setDUTInterface(pynqctrl.PYNQCtrl.INTERFACE_8BIT)\n",
    "##########################\n",
    "#configure DUT\n",
    "dut = nexys3dut.Nexys3DUT()\n",
    "bitFile = os.path.join(projDir, DUT_BIT_FILE)\n",
    "dut.setBitFile(bitFile)\n",
    "#dut.program()"
   ]
  },
  {
   "cell_type": "code",
   "execution_count": 19,
   "metadata": {},
   "outputs": [
    {
     "name": "stdout",
     "output_type": "stream",
     "text": [
      "Successfully created new capture directory at /home/xilinx/fobosworkspace/kyber/capture/attempt-51\n",
      "Loading test-vector file ...\n",
      "Done loading.\n",
      "Cutting trace parameters: start=6560, end = 1634601\n",
      "Time elapsed = 26.388326406478882 seconds.\n"
     ]
    }
   ],
   "source": [
    "\n",
    "##########################\n",
    "#setup i/o files\n",
    "tvFileName = os.path.join(projDir, DIN_FILE_NAME)\n",
    "tvFile = open(tvFileName, \"r\")\n",
    "captureDir = pm.getCaptureDir()\n",
    "cipherFileName = os.path.join(captureDir, CIPHER_FILE)\n",
    "cipherFile = open(cipherFileName, \"w\")\n",
    "traceFileName = os.path.join(captureDir, TRACE_FILE)\n",
    "traceFile = open(traceFileName, \"a+b\")\n",
    "#print(\"Copying test-vector file to attempt directory ...\")\n",
    "#shutil.copy(tvFileName, captureDir)\n",
    "#########################\n",
    "print(\"Loading test-vector file ...\")\n",
    "testVectors = tvFile.readlines()\n",
    "print(\"Done loading.\")\n",
    "tic = time.time()\n",
    "#traces = np.empty((TRACE_NUM, SAMPLE_NUM))\n",
    "scope.arm()\n",
    "time.sleep(1)\n",
    "for traceNum in range(TRACE_NUM):\n",
    "    time.sleep(0.1) #this delay seem to be needed\n",
    "    result = ctrl.processData(testVectors[traceNum])\n",
    "    #traces[traceNum, :] = trace\n",
    "    cipherFile.write(result + '\\n')\n",
    "    if traceNum == 0:\n",
    "        trigTrace = scope.readChannel('CHAN2')\n",
    "        #print(trigTrace)\n",
    "        start, end = scope.getCutPoints(trigTrace)\n",
    "        print(\"Cutting trace parameters: start=%d, end = %d\" % (start, end))\n",
    "    trace = scope.readChannel('CHAN1')\n",
    "    #print(trace.shape)\n",
    "    #print(trace.shape)\n",
    "    #trace = trace[start:end]\n",
    "    #time.sleep(5)\n",
    "    if traceNum != TRACE_NUM - 1: #after you finish do not arm scope. It will hang\n",
    "        scope.arm()\n",
    "    numpy.save(traceFile, trace[start:end])\n",
    "    if traceNum % 20 == 0:\n",
    "        sys.stdout.write(\"Progress: {}%\\r\".format(traceNum/TRACE_NUM *100 ))\n",
    "        sys.stdout.flush()\n",
    "        #ttestPlotFile = os.path.join(captureDir, \"ttest{}\".format(traceNum))\n",
    "        #ttestCalc.plot(ttestPlotFile)\n",
    "    #time.sleep(4)\n",
    "#numpy.save(traceFile,traces)\n",
    "#traces = None #Free memory\n",
    "cipherFile.close()\n",
    "tvFile.close()\n",
    "traceFile.close()\n",
    "    \n",
    "toc = time.time()\n",
    "print(\"Time elapsed = {} seconds.\".format(toc - tic))"
   ]
  },
  {
   "cell_type": "code",
   "execution_count": 6,
   "metadata": {
    "scrolled": false
   },
   "outputs": [
    {
     "name": "stdout",
     "output_type": "stream",
     "text": [
      "/home/xilinx/fobosworkspace/kyber/capture/attempt-48/powerTraces.npy\n"
     ]
    }
   ],
   "source": [
    "import matplotlib.pyplot as plt\n",
    "f = open(traceFileName, 'rb')\n",
    "print(traceFileName)\n",
    "dataToPlot = numpy.load(f)\n",
    "plt.plot(dataToPlot[0:10000])\n",
    "#print(dataToPlot.shape)\n",
    "#print(dataToPlot[10000:11000])\n",
    "plt.show()"
   ]
  },
  {
   "cell_type": "code",
   "execution_count": 34,
   "metadata": {
    "collapsed": true
   },
   "outputs": [],
   "source": [
    "traces = None"
   ]
  },
  {
   "cell_type": "code",
   "execution_count": null,
   "metadata": {
    "collapsed": true
   },
   "outputs": [],
   "source": []
  },
  {
   "cell_type": "code",
   "execution_count": null,
   "metadata": {
    "collapsed": true
   },
   "outputs": [],
   "source": []
  }
 ],
 "metadata": {
  "kernelspec": {
   "display_name": "Python 3",
   "language": "python",
   "name": "python3"
  },
  "language_info": {
   "codemirror_mode": {
    "name": "ipython",
    "version": 3
   },
   "file_extension": ".py",
   "mimetype": "text/x-python",
   "name": "python",
   "nbconvert_exporter": "python",
   "pygments_lexer": "ipython3",
   "version": "3.6.0"
  }
 },
 "nbformat": 4,
 "nbformat_minor": 2
}
