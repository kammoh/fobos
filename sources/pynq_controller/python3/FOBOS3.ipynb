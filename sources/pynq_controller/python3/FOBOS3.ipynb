{
 "cells": [
  {
   "cell_type": "code",
   "execution_count": 1,
   "metadata": {},
   "outputs": [
    {
     "data": {
      "application/javascript": [
       "\n",
       "require(['notebook/js/codecell'], function(codecell) {\n",
       "  codecell.CodeCell.options_default.highlight_modes[\n",
       "      'magic_text/x-csrc'] = {'reg':[/^%%microblaze/]};\n",
       "  Jupyter.notebook.events.one('kernel_ready.Kernel', function(){\n",
       "      Jupyter.notebook.get_cells().map(function(cell){\n",
       "          if (cell.cell_type == 'code'){ cell.auto_highlight(); } }) ;\n",
       "  });\n",
       "});\n"
      ]
     },
     "metadata": {},
     "output_type": "display_data"
    }
   ],
   "source": [
    "from pynq import Overlay\n",
    "from pynq import MMIO"
   ]
  },
  {
   "cell_type": "code",
   "execution_count": 5,
   "metadata": {},
   "outputs": [],
   "source": [
    "ol = Overlay(\"/home/xilinx/sdcard/bitstreams/ctrl_top_wrapper.bit\")\n",
    "#ol = Overlay(\"/home/xilinx/sdcard/bitstreams/pynq_controller.bit\")"
   ]
  },
  {
   "cell_type": "code",
   "execution_count": 6,
   "metadata": {},
   "outputs": [],
   "source": [
    "ol.download()"
   ]
  },
  {
   "cell_type": "code",
   "execution_count": 7,
   "metadata": {},
   "outputs": [
    {
     "data": {
      "text/plain": [
       "{'axi_dma_0': {'addr_range': 65536,\n",
       "  'driver': pynq.lib.dma.DMA,\n",
       "  'fullpath': 'axi_dma_0',\n",
       "  'gpio': {},\n",
       "  'interrupts': {'mm2s_introut': {'controller': 'axi_intc_0',\n",
       "    'fullpath': 'axi_dma_0/mm2s_introut',\n",
       "    'index': 0},\n",
       "   's2mm_introut': {'controller': 'axi_intc_0',\n",
       "    'fullpath': 'axi_dma_0/s2mm_introut',\n",
       "    'index': 1}},\n",
       "  'phys_addr': 1077936128,\n",
       "  'state': None,\n",
       "  'type': 'xilinx.com:ip:axi_dma:7.1'},\n",
       " 'axi_dma_1': {'addr_range': 65536,\n",
       "  'driver': pynq.lib.dma.DMA,\n",
       "  'fullpath': 'axi_dma_1',\n",
       "  'gpio': {},\n",
       "  'interrupts': {},\n",
       "  'phys_addr': 1078001664,\n",
       "  'state': None,\n",
       "  'type': 'xilinx.com:ip:axi_dma:7.1'},\n",
       " 'axi_intc_0': {'addr_range': 65536,\n",
       "  'driver': pynq.overlay.DefaultIP,\n",
       "  'fullpath': 'axi_intc_0',\n",
       "  'gpio': {},\n",
       "  'interrupts': {},\n",
       "  'phys_addr': 1098907648,\n",
       "  'state': None,\n",
       "  'type': 'xilinx.com:ip:axi_intc:4.1'},\n",
       " 'clk_wiz': {'addr_range': 65536,\n",
       "  'driver': pynq.overlay.DefaultIP,\n",
       "  'fullpath': 'clk_wiz',\n",
       "  'gpio': {},\n",
       "  'interrupts': {},\n",
       "  'phys_addr': 1136787456,\n",
       "  'state': None,\n",
       "  'type': 'xilinx.com:ip:clk_wiz:5.4'},\n",
       " 'clk_wiz_adc': {'addr_range': 65536,\n",
       "  'driver': pynq.overlay.DefaultIP,\n",
       "  'fullpath': 'clk_wiz_adc',\n",
       "  'gpio': {},\n",
       "  'interrupts': {},\n",
       "  'phys_addr': 1136984064,\n",
       "  'state': None,\n",
       "  'type': 'xilinx.com:ip:clk_wiz:5.4'},\n",
       " 'dut_controller_0': {'addr_range': 65536,\n",
       "  'driver': pynq.overlay.DefaultIP,\n",
       "  'fullpath': 'dut_controller_0',\n",
       "  'gpio': {},\n",
       "  'interrupts': {},\n",
       "  'phys_addr': 1136721920,\n",
       "  'state': None,\n",
       "  'type': 'user.org:user:dut_controller:1.0'},\n",
       " 'dutcomm_0': {'addr_range': 65536,\n",
       "  'driver': pynq.overlay.DefaultIP,\n",
       "  'fullpath': 'dutcomm_0',\n",
       "  'gpio': {},\n",
       "  'interrupts': {},\n",
       "  'phys_addr': 1136656384,\n",
       "  'state': None,\n",
       "  'type': 'user.org:user:dutcomm:1.0'},\n",
       " 'openadc_interface_v1_0_0': {'addr_range': 65536,\n",
       "  'driver': pynq.overlay.DefaultIP,\n",
       "  'fullpath': 'openadc_interface_v1_0_0',\n",
       "  'gpio': {},\n",
       "  'interrupts': {},\n",
       "  'phys_addr': 1136918528,\n",
       "  'state': None,\n",
       "  'type': 'xilinx.com:user:openadc_interface_v1_0:1.0'},\n",
       " 'powermanager_0': {'addr_range': 65536,\n",
       "  'driver': pynq.overlay.DefaultIP,\n",
       "  'fullpath': 'powermanager_0',\n",
       "  'gpio': {},\n",
       "  'interrupts': {},\n",
       "  'phys_addr': 1136852992,\n",
       "  'state': None,\n",
       "  'type': 'CERG:user:powermanager:1.0'}}"
      ]
     },
     "execution_count": 7,
     "metadata": {},
     "output_type": "execute_result"
    }
   ],
   "source": [
    "ol.ip_dict"
   ]
  },
  {
   "cell_type": "code",
   "execution_count": 6,
   "metadata": {},
   "outputs": [],
   "source": [
    "power_addr = ol.ip_dict[\"powermanager_0\"][\"phys_addr\"]"
   ]
  },
  {
   "cell_type": "code",
   "execution_count": 7,
   "metadata": {},
   "outputs": [],
   "source": [
    "power_addr_range = ol.ip_dict[\"powermanager_0\"][\"addr_range\"]"
   ]
  },
  {
   "cell_type": "code",
   "execution_count": 8,
   "metadata": {},
   "outputs": [],
   "source": [
    "power = MMIO(power_addr, power_addr_range)"
   ]
  },
  {
   "cell_type": "code",
   "execution_count": 9,
   "metadata": {},
   "outputs": [],
   "source": [
    "# Registers\n",
    "power_command       = 0x00\n",
    "power_status        = 0x04\n",
    "power_volt3v3       = 0x08\n",
    "power_current3v3    = 0x0C\n",
    "power_volt5v        = 0x10\n",
    "power_current5v     = 0x14\n",
    "power_avgvolt3v3    = 0x18\n",
    "power_maxvolt3v3    = 0x1C\n",
    "power_avgcurrent3v3 = 0x20\n",
    "power_maxcurrent3v3 = 0x24\n",
    "power_avgvolt5v     = 0x28\n",
    "power_maxvolt5v     = 0x2C\n",
    "power_avgcurrent5v  = 0x30\n",
    "power_maxcurrent5v  = 0x34\n",
    "power_volt_output   = 0x38\n",
    "power_sampelcount   = 0x3C\n",
    "\n",
    "# Commands\n",
    "power_out_enable    = 0x01\n",
    "power_clear         = 0x02\n",
    "power_gain3v3cur    = 0x04\n",
    "power_gain5vcur     = 0x10\n",
    "power_trigenhw      = 0x40\n",
    "power_trigsw        = 0x80\n",
    "\n",
    "# Status\n",
    "power_out_good      = 0x000\n",
    "power_busy          = 0x002\n",
    "#power_gain3v3cur    = 0x04\n",
    "#power_gain5vcur     = 0x10\n",
    "power_triggdhw      = 0x040\n",
    "power_triggdsw      = 0x080\n",
    "power_oflowsw       = 0x100\n",
    "\n",
    "\n",
    "# Measurement Parameters\n",
    "xadc_resolution = 65536\n",
    "xadc_max = 5 # Volt\n",
    "xbp_shunt = 0.1 # Ohm, should be 0.1\n",
    "xbp_gain = 25 # at least 25\n",
    "pynq_vss = 5 # Volt Normally 5V\n",
    "# Functions\n",
    "def powerval(register):\n",
    "    return pynq_vss * (( xadc_max/xadc_resolution * power.read(register) / (xbp_shunt * xbp_gain)))\n",
    "def power_volt(register):\n",
    "    return (xadc_max/xadc_resolution * power.read(register))\n",
    "def power_current(register):\n",
    "    return ( xadc_max/xadc_resolution * power.read(register) / (xbp_shunt * xbp_gain))\n",
    "\n",
    "\n",
    "\n"
   ]
  },
  {
   "cell_type": "code",
   "execution_count": 14,
   "metadata": {},
   "outputs": [],
   "source": [
    "power.write(power_command, power_clear)"
   ]
  },
  {
   "cell_type": "code",
   "execution_count": 17,
   "metadata": {},
   "outputs": [
    {
     "data": {
      "text/plain": [
       "0"
      ]
     },
     "execution_count": 17,
     "metadata": {},
     "output_type": "execute_result"
    }
   ],
   "source": [
    "power.read(power_command)"
   ]
  },
  {
   "cell_type": "code",
   "execution_count": 16,
   "metadata": {},
   "outputs": [],
   "source": [
    "power.write(power_command,0x00)"
   ]
  },
  {
   "cell_type": "code",
   "execution_count": 18,
   "metadata": {},
   "outputs": [
    {
     "data": {
      "text/plain": [
       "0"
      ]
     },
     "execution_count": 18,
     "metadata": {},
     "output_type": "execute_result"
    }
   ],
   "source": [
    "power.read(power_status)"
   ]
  },
  {
   "cell_type": "code",
   "execution_count": 19,
   "metadata": {},
   "outputs": [
    {
     "data": {
      "text/plain": [
       "40978"
      ]
     },
     "execution_count": 19,
     "metadata": {},
     "output_type": "execute_result"
    }
   ],
   "source": [
    "power.read(power_volt3v3)"
   ]
  },
  {
   "cell_type": "code",
   "execution_count": 20,
   "metadata": {},
   "outputs": [
    {
     "data": {
      "text/plain": [
       "3.299128723144531"
      ]
     },
     "execution_count": 20,
     "metadata": {},
     "output_type": "execute_result"
    }
   ],
   "source": [
    "power_volt(power_volt3v3)*1.055"
   ]
  },
  {
   "cell_type": "code",
   "execution_count": 29,
   "metadata": {},
   "outputs": [
    {
     "data": {
      "text/plain": [
       "2.0230358354205698"
      ]
     },
     "execution_count": 29,
     "metadata": {},
     "output_type": "execute_result"
    }
   ],
   "source": [
    "power_volt(power_volt5v)*(1/power_volt(power_volt5v)/10+1.04)"
   ]
  },
  {
   "cell_type": "code",
   "execution_count": 11,
   "metadata": {},
   "outputs": [
    {
     "data": {
      "text/plain": [
       "258"
      ]
     },
     "execution_count": 11,
     "metadata": {},
     "output_type": "execute_result"
    }
   ],
   "source": [
    "power.read(power_current3v3)"
   ]
  },
  {
   "cell_type": "code",
   "execution_count": 24,
   "metadata": {},
   "outputs": [
    {
     "data": {
      "text/plain": [
       "5524"
      ]
     },
     "execution_count": 24,
     "metadata": {},
     "output_type": "execute_result"
    }
   ],
   "source": [
    "power.read(power_volt5v)"
   ]
  },
  {
   "cell_type": "code",
   "execution_count": 13,
   "metadata": {},
   "outputs": [
    {
     "data": {
      "text/plain": [
       "358"
      ]
     },
     "execution_count": 13,
     "metadata": {},
     "output_type": "execute_result"
    }
   ],
   "source": [
    "power.read(power_current5v)"
   ]
  },
  {
   "cell_type": "code",
   "execution_count": 31,
   "metadata": {},
   "outputs": [
    {
     "data": {
      "text/plain": [
       "1"
      ]
     },
     "execution_count": 31,
     "metadata": {},
     "output_type": "execute_result"
    }
   ],
   "source": [
    "power.read(power_status)"
   ]
  },
  {
   "cell_type": "code",
   "execution_count": 23,
   "metadata": {},
   "outputs": [],
   "source": [
    "power.write(power_command, power_out_enable)"
   ]
  },
  {
   "cell_type": "code",
   "execution_count": 28,
   "metadata": {},
   "outputs": [],
   "source": [
    "power.write(power_volt_output, 0x20)"
   ]
  },
  {
   "cell_type": "code",
   "execution_count": 72,
   "metadata": {},
   "outputs": [],
   "source": [
    "power.write(power_command, power_clear)"
   ]
  },
  {
   "cell_type": "code",
   "execution_count": 51,
   "metadata": {},
   "outputs": [],
   "source": [
    "power.write(power_command, 0x0)"
   ]
  },
  {
   "cell_type": "code",
   "execution_count": 92,
   "metadata": {},
   "outputs": [],
   "source": [
    "power.write(power_command, power_trigsw | power_out_enable)"
   ]
  },
  {
   "cell_type": "code",
   "execution_count": 100,
   "metadata": {},
   "outputs": [
    {
     "data": {
      "text/plain": [
       "3.13751220703125"
      ]
     },
     "execution_count": 100,
     "metadata": {},
     "output_type": "execute_result"
    }
   ],
   "source": [
    "power_volt(power_avgvolt3v3)"
   ]
  },
  {
   "cell_type": "code",
   "execution_count": 101,
   "metadata": {},
   "outputs": [
    {
     "data": {
      "text/plain": [
       "3.14453125"
      ]
     },
     "execution_count": 101,
     "metadata": {},
     "output_type": "execute_result"
    }
   ],
   "source": [
    "power_volt(power_maxvolt3v3)"
   ]
  },
  {
   "cell_type": "code",
   "execution_count": 108,
   "metadata": {},
   "outputs": [
    {
     "data": {
      "text/plain": [
       "3.1386566162109375"
      ]
     },
     "execution_count": 108,
     "metadata": {},
     "output_type": "execute_result"
    }
   ],
   "source": [
    "power_volt(power_volt3v3)"
   ]
  },
  {
   "cell_type": "code",
   "execution_count": 111,
   "metadata": {},
   "outputs": [
    {
     "data": {
      "text/plain": [
       "2.6725006103515625"
      ]
     },
     "execution_count": 111,
     "metadata": {},
     "output_type": "execute_result"
    }
   ],
   "source": [
    "power_volt(power_volt5v)"
   ]
  },
  {
   "cell_type": "code",
   "execution_count": 104,
   "metadata": {},
   "outputs": [
    {
     "data": {
      "text/plain": [
       "1.040496826171875"
      ]
     },
     "execution_count": 104,
     "metadata": {},
     "output_type": "execute_result"
    }
   ],
   "source": [
    "power_volt(power_avgvolt5v)"
   ]
  },
  {
   "cell_type": "code",
   "execution_count": 105,
   "metadata": {},
   "outputs": [
    {
     "data": {
      "text/plain": [
       "1.0465240478515625"
      ]
     },
     "execution_count": 105,
     "metadata": {},
     "output_type": "execute_result"
    }
   ],
   "source": [
    "power_volt(power_maxvolt5v)"
   ]
  },
  {
   "cell_type": "code",
   "execution_count": 99,
   "metadata": {},
   "outputs": [],
   "source": [
    "power.write(power_command, power_out_enable)"
   ]
  },
  {
   "cell_type": "code",
   "execution_count": null,
   "metadata": {},
   "outputs": [],
   "source": []
  },
  {
   "cell_type": "code",
   "execution_count": 63,
   "metadata": {},
   "outputs": [
    {
     "data": {
      "text/plain": [
       "129"
      ]
     },
     "execution_count": 63,
     "metadata": {},
     "output_type": "execute_result"
    }
   ],
   "source": [
    "power.read(power_status)"
   ]
  },
  {
   "cell_type": "code",
   "execution_count": 106,
   "metadata": {},
   "outputs": [
    {
     "data": {
      "text/plain": [
       "1048575"
      ]
     },
     "execution_count": 106,
     "metadata": {},
     "output_type": "execute_result"
    }
   ],
   "source": [
    "power.read(power_sampelcount)"
   ]
  },
  {
   "cell_type": "code",
   "execution_count": 108,
   "metadata": {
    "collapsed": true
   },
   "outputs": [],
   "source": []
  },
  {
   "cell_type": "code",
   "execution_count": 91,
   "metadata": {},
   "outputs": [],
   "source": []
  },
  {
   "cell_type": "code",
   "execution_count": 103,
   "metadata": {},
   "outputs": [
    {
     "data": {
      "text/plain": [
       "0.0"
      ]
     },
     "execution_count": 103,
     "metadata": {},
     "output_type": "execute_result"
    }
   ],
   "source": []
  },
  {
   "cell_type": "code",
   "execution_count": null,
   "metadata": {
    "collapsed": true
   },
   "outputs": [],
   "source": []
  }
 ],
 "metadata": {
  "kernelspec": {
   "display_name": "Python 3",
   "language": "python",
   "name": "python3"
  },
  "language_info": {
   "codemirror_mode": {
    "name": "ipython",
    "version": 3
   },
   "file_extension": ".py",
   "mimetype": "text/x-python",
   "name": "python",
   "nbconvert_exporter": "python",
   "pygments_lexer": "ipython3",
   "version": "3.6.0"
  }
 },
 "nbformat": 4,
 "nbformat_minor": 2
}
