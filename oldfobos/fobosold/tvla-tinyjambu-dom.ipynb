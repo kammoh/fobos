{
 "cells": [
  {
   "cell_type": "markdown",
   "metadata": {},
   "source": [
    "# <div align=\"center\">TVLA Capture using Picoscope<div>\n",
    "\n"
   ]
  },
  {
   "cell_type": "code",
   "execution_count": 50,
   "metadata": {},
   "outputs": [],
   "source": [
    "# import libraries\n",
    "import os\n",
    "import sys\n",
    "import shutil\n",
    "import json\n",
    "import foboslib.pynqctrl\n",
    "from foboslib.fobosctrl import FOBOSCtrl\n",
    "import foboslib.projmgr\n",
    "import numpy as np\n",
    "from foboslib.picoscope import Picoscope\n",
    "from foboslib.tvlaCalc import TVLACalc\n",
    "#######################################################\n",
    "# acquisition configuration\n",
    "# connection to ctrl board\n",
    "acqConf = {}\n",
    "acqConf['ip'] = '192.168.10.99'\n",
    "acqConf['port'] = 9995\n",
    "# File names and locations\n",
    "acqConf['workspace'] = \"fobosworkspace\" # Folder to store projects\n",
    "acqConf['projectName'] = \"tinyjambu-dom\"      # Name of this project. Files will be in WORKSPACE/PROJECT_NAME/\n",
    "acqConf['dinFile'] = \"dinFile.txt\"      # test vectors in FOBOS format incl. plaintext and key\n",
    "acqConf['cipherFile'] = \"doutFile.txt\"     # observed ciphertext, result from applying test vectors\n",
    "acqConf['fvrFile'] = \"tvfvrchoicefile.txt\"\n",
    "acqConf['traceFile']  = \"powerTraces.npy\"     # Name of file for recording power traces"
   ]
  },
  {
   "cell_type": "code",
   "execution_count": 51,
   "metadata": {},
   "outputs": [],
   "source": [
    "#Acquistion configuration\n",
    "acqConf['traceNum'] = 10             # number of traces to run [default: 10]\n",
    "acqConf['DUTClk'] = 5 * 1.6                 # clock frequency of the DUT in MHz, [range: 1 - 100]\n",
    "acqConf['samplingFreq'] =  20          # sampling frequency of the Oscilloscope in Msps [default: 50][range: 1 - 100]\n",
    "acqConf['samplesPerTrace'] = 200        # number of sample in one trace [range: 1 - 2^17]\n",
    "acqConf['ADCGain'] = 40              # amplification of ADC input signal [default: 40][range: 0 - 60]\n",
    "acqConf['outLen'] = 72                # output length for current test vector\n"
   ]
  },
  {
   "cell_type": "code",
   "execution_count": 52,
   "metadata": {},
   "outputs": [],
   "source": [
    "# Configure project directories\n",
    "pm = foboslib.projmgr.ProjectManager()\n",
    "pm.setWorkSpaceDir(acqConf['workspace'])\n",
    "pm.setProjName(acqConf['projectName'])\n",
    "projDir = pm.getProjDir()"
   ]
  },
  {
   "cell_type": "code",
   "execution_count": 53,
   "metadata": {
    "scrolled": false
   },
   "outputs": [
    {
     "name": "stdout",
     "output_type": "stream",
     "text": [
      "Waiting for current user to release hardware. Please wait ...\n",
      "Acquired hardware lock\n",
      "008206c00084667700854455008622330087aa1100800002\n",
      "aa aa aa aa\n",
      "Successfully created new capture directory at fobosworkspace/tinyjambu-dom/capture/attempt-26\n",
      "Processing test vectors ...\n",
      "Data acquisition complete.\n",
      "Released hardware lock.\n"
     ]
    }
   ],
   "source": [
    "# connect to hardware and lock it ######################################\n",
    "ctrl = foboslib.pynqctrl.PYNQCtrl(acqConf['ip'], acqConf['port'])\n",
    "# Apply config to ctrl board ###########################################\n",
    "try:\n",
    "    ctrl.setDUTClk(acqConf['DUTClk'])\n",
    "    ctrl.setDUTInterface(FOBOSCtrl.INTERFACE_4BIT)\n",
    "    ## configure DUT PRNG\n",
    "    #ctrl.setOutLen(4)\n",
    "    seed = 0xaa11223344556677\n",
    "    num_rand_words = 1728\n",
    "    ctrl.confPrng(seed, num_rand_words)\n",
    "    ##\n",
    "    ctrl.setOutLen(acqConf['outLen'])\n",
    "    ctrl.setTriggerMode(FOBOSCtrl.TRG_FULL)\n",
    "    # configure trace sampling #############################################\n",
    "    ctrl.setSamplingFrequency(acqConf['samplingFreq'])\n",
    "    ctrl.setADCGain(acqConf['ADCGain'])\n",
    "    ctrl.setSamplesPerTrace(acqConf['samplesPerTrace'])\n",
    "\n",
    "except Exception as e:\n",
    "    print(e)\n",
    "    ctrl.disconnect()\n",
    "else:\n",
    "    # program DUT ##########################################################\n",
    "    #dut = foboslib.nexys3dut.Nexys3DUT()\n",
    "    #bitFile = os.path.join(projDir, acqConf['bitFile'])\n",
    "    #dut.setBitFile(bitFile)\n",
    "    #dut.program()\n",
    "    # prepare i/o files ####################################################\n",
    "    tvFileName = os.path.join(projDir, acqConf['dinFile'])\n",
    "    #plainFileName = os.path.join(projDir, acqConf['plainFile'])\n",
    "    tvFile = open(tvFileName, \"r\")\n",
    "    captureDir = pm.getCaptureDir()\n",
    "    cipherFileName = os.path.join(captureDir, acqConf['cipherFile'])\n",
    "    cipherFile = open(cipherFileName, \"w\")\n",
    "    traceFileName = os.path.join(captureDir, acqConf['traceFile'])\n",
    "    traceFile = open(traceFileName, \"a+b\")\n",
    "    shutil.copy(tvFileName, captureDir)\n",
    "    #shutil.copy(plainFileName, captureDir)\n",
    "    # save config to a file\n",
    "    configFile = open(os.path.join(captureDir, 'acquisitionConfig.json'), \"w\")\n",
    "    configFile.write(json.dumps(acqConf, indent=4))\n",
    "    #configFile.write(ctrl.config)\n",
    "    #print(ctrl.config)\n",
    "    configFile.close()\n",
    "    # Get traces############################################################\n",
    "    print('Processing test vectors ...')\n",
    "    traceNum = 0\n",
    "    while traceNum < acqConf['traceNum']:\n",
    "        data = tvFile.readline()\n",
    "        status, result, trace = ctrl.processData2(data, acqConf['outLen'])\n",
    "        cipherFile.write(result + \"\\n\")\n",
    "        np.save(traceFile, trace)\n",
    "        if traceNum % 100 == 0:\n",
    "            sys.stdout.write('Progress:' + \"{:.2f}\".format(traceNum/acqConf['traceNum']*100) + '%\\r')\n",
    "            sys.stdout.flush()\n",
    "        traceNum += 1\n",
    "    print('Data acquisition complete.')\n",
    "    ctrl.disconnect() # release and reset control board.\n",
    "    traceFile.close()\n",
    "    cipherFile.close()\n",
    "    tvFile.close()"
   ]
  },
  {
   "cell_type": "code",
   "execution_count": null,
   "metadata": {},
   "outputs": [],
   "source": []
  },
  {
   "cell_type": "code",
   "execution_count": null,
   "metadata": {},
   "outputs": [],
   "source": []
  }
 ],
 "metadata": {
  "kernelspec": {
   "display_name": "Python 3 (ipykernel)",
   "language": "python",
   "name": "python3"
  },
  "language_info": {
   "codemirror_mode": {
    "name": "ipython",
    "version": 3
   },
   "file_extension": ".py",
   "mimetype": "text/x-python",
   "name": "python",
   "nbconvert_exporter": "python",
   "pygments_lexer": "ipython3",
   "version": "3.8.10"
  }
 },
 "nbformat": 4,
 "nbformat_minor": 4
}
