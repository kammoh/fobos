{
 "cells": [
  {
   "cell_type": "markdown",
   "metadata": {
    "tags": []
   },
   "source": [
    "# <div align=\"center\">TVLA<div>\n",
    "\n"
   ]
  },
  {
   "cell_type": "code",
   "execution_count": null,
   "metadata": {},
   "outputs": [],
   "source": [
    "# if not already installed\n",
    "# !pip install -U -e ../python_lib"
   ]
  },
  {
   "cell_type": "code",
   "execution_count": 1,
   "metadata": {},
   "outputs": [],
   "source": [
    "# import libraries\n",
    "import os\n",
    "import sys\n",
    "import shutil\n",
    "import json\n",
    "import numpy as np\n",
    "from pathlib import Path\n",
    "from dataclasses import asdict\n",
    "\n",
    "from foboslib.projmgr import ProjectManager\n",
    "from foboslib.ctrl import pynqctrl\n",
    "from foboslib.ctrl.fobosctrl import FOBOSCtrl\n",
    "from foboslib.tvlaCalc import TVLACalc\n",
    "from foboslib.dut.cw305dut import CW305DUT\n",
    "# from foboslib.dut.nexys3dut import Nexys3DUT\n",
    "\n",
    "#######################################################\n",
    "# acquisition configuration\n",
    "# connection to ctrl board\n",
    "acqConf = pynqctrl.Config()\n",
    "# Connection to Control Board\n",
    "acqConf.ip = 'localhost'\n",
    "acqConf.port = 9995\n",
    "# File names and locations\n",
    "acqConf.workspace       = \"fobosworkspace\"    # Folder to store projects\n",
    "acqConf.projectName     = \"xoodyak-dom-1st\"   # Name of this project. Files will be in workspace/projectName/\n",
    "acqConf.dinFile         = \"dinFile.txt\"       # test vectors in FOBOS format incl. plaintext and key, auto-generated\n",
    "acqConf.fvrFile         = \"fvrchoicefile.txt\" #\n",
    "acqConf.cipherFile      = \"doutFile\"          # observed output, result from applying test vectors\n",
    "acqConf.traceFile       = \"powerTraces.npy\"   # Name of file for recording power traces\n",
    "# Cipher Specific Information\n",
    "acqConf.bitFile         = \"/nhome/mmohajer/notebooks/fobos/software/notebooks/sca_labs/fobosworkspace/aes_tvla/half_duplex_dut.bit\"     # Bitstream for programming the DUT, same directory as this notebook\n",
    "acqConf.outLen          = 88                  # size of a block of output in bytes\n",
    "# Acquistion configuration\n",
    "acqConf.traceNum        = 100                 # number of traces to run\n",
    "acqConf.samplingFreq    = 50                  # sampling frequency of the Oscilloscope in Msps [range: 1 - 100]\n",
    "acqConf.DUTClk          = 10                  # clock frequency of the DUT in MHz [range: 1 - 100]\n",
    "acqConf.samplesPerTrace = 5*80                # number of ADC samples in one trace\n",
    "acqConf.ADCGain         = 40                  # amplification of ADC input signal [range: 0 - 60]\n",
    "acqConf.ADCHiLo         = 1                   # 0 - low amplification, 1 - high amplification"
   ]
  },
  {
   "cell_type": "code",
   "execution_count": 2,
   "metadata": {},
   "outputs": [
    {
     "name": "stdout",
     "output_type": "stream",
     "text": [
      "projDir=fobosworkspace/xoodyak-dom-1st\n"
     ]
    }
   ],
   "source": [
    "# Configure project directories\n",
    "pm = ProjectManager()\n",
    "pm.setWorkSpaceDir(acqConf.workspace)\n",
    "pm.setProjName(acqConf.projectName)\n",
    "projDir = pm.getProjDir()\n",
    "print(f\"projDir={projDir}\")"
   ]
  },
  {
   "cell_type": "code",
   "execution_count": 7,
   "metadata": {},
   "outputs": [
    {
     "ename": "OSError",
     "evalue": "Could not find ChipWhisperer. Is it connected?",
     "output_type": "error",
     "traceback": [
      "\u001b[0;31m---------------------------------------------------------------------------\u001b[0m",
      "\u001b[0;31mOSError\u001b[0m                                   Traceback (most recent call last)",
      "Cell \u001b[0;32mIn [7], line 10\u001b[0m\n\u001b[1;32m      6\u001b[0m scope \u001b[38;5;241m=\u001b[39m \u001b[38;5;28;01mNone\u001b[39;00m\n\u001b[1;32m      8\u001b[0m \u001b[38;5;66;03m# scope can also be None here, unlike with the default SimpleSerial\u001b[39;00m\n\u001b[1;32m      9\u001b[0m \u001b[38;5;66;03m# bitFile = os.path.join(projDir, acqConf.bitFile)\u001b[39;00m\n\u001b[0;32m---> 10\u001b[0m target \u001b[38;5;241m=\u001b[39m \u001b[43mcw\u001b[49m\u001b[38;5;241;43m.\u001b[39;49m\u001b[43mtarget\u001b[49m\u001b[43m(\u001b[49m\u001b[43mscope\u001b[49m\u001b[43m,\u001b[49m\u001b[43m \u001b[49m\u001b[43mCW305\u001b[49m\u001b[43m,\u001b[49m\u001b[43m \u001b[49m\u001b[43mbsfile\u001b[49m\u001b[38;5;241;43m=\u001b[39;49m\u001b[43macqConf\u001b[49m\u001b[38;5;241;43m.\u001b[39;49m\u001b[43mbitFile\u001b[49m\u001b[43m)\u001b[49m\n\u001b[1;32m     11\u001b[0m target\u001b[38;5;241m.\u001b[39mvccint_set(\u001b[38;5;241m1.0\u001b[39m) \u001b[38;5;66;03m#set VCC-INT to 1V\u001b[39;00m\n\u001b[1;32m     13\u001b[0m target\u001b[38;5;241m.\u001b[39mpll\u001b[38;5;241m.\u001b[39mpll_enable_set(\u001b[38;5;28;01mTrue\u001b[39;00m) \u001b[38;5;66;03m#Enable PLL chip\u001b[39;00m\n",
      "File \u001b[0;32m~/.local/lib/python3.8/site-packages/chipwhisperer/__init__.py:365\u001b[0m, in \u001b[0;36mtarget\u001b[0;34m(scope, target_type, **kwargs)\u001b[0m\n\u001b[1;32m    350\u001b[0m \u001b[39m\"\"\"Create a target object and connect to it.\u001b[39;00m\n\u001b[1;32m    351\u001b[0m \n\u001b[1;32m    352\u001b[0m \u001b[39mArgs:\u001b[39;00m\n\u001b[0;32m   (...)\u001b[0m\n\u001b[1;32m    362\u001b[0m \u001b[39m    Connected target object specified by target_type.\u001b[39;00m\n\u001b[1;32m    363\u001b[0m \u001b[39m\"\"\"\u001b[39;00m\n\u001b[1;32m    364\u001b[0m rtn \u001b[39m=\u001b[39m target_type()\n\u001b[0;32m--> 365\u001b[0m rtn\u001b[39m.\u001b[39;49mcon(scope, \u001b[39m*\u001b[39;49m\u001b[39m*\u001b[39;49mkwargs)\n\u001b[1;32m    367\u001b[0m \u001b[39m# need to check\u001b[39;00m\n\u001b[1;32m    368\u001b[0m \u001b[39mif\u001b[39;00m \u001b[39mtype\u001b[39m(rtn) \u001b[39min\u001b[39;00m (targets\u001b[39m.\u001b[39mSimpleSerial, targets\u001b[39m.\u001b[39mSimpleSerial2) \\\n\u001b[1;32m    369\u001b[0m     \u001b[39mand\u001b[39;00m scope \u001b[39mand\u001b[39;00m scope\u001b[39m.\u001b[39m_getNAEUSB()\u001b[39m.\u001b[39mcheck_feature(\u001b[39m\"\u001b[39m\u001b[39mSERIAL_200_BUFFER\u001b[39m\u001b[39m\"\u001b[39m):\n",
      "File \u001b[0;32m~/.local/lib/python3.8/site-packages/chipwhisperer/capture/targets/_base.py:65\u001b[0m, in \u001b[0;36mTargetTemplate.con\u001b[0;34m(self, scope, **kwargs)\u001b[0m\n\u001b[1;32m     63\u001b[0m \u001b[39mtry\u001b[39;00m:\n\u001b[1;32m     64\u001b[0m     \u001b[39mself\u001b[39m\u001b[39m.\u001b[39mconnectStatus \u001b[39m=\u001b[39m \u001b[39mTrue\u001b[39;00m\n\u001b[0;32m---> 65\u001b[0m     \u001b[39mself\u001b[39;49m\u001b[39m.\u001b[39;49m_con(scope, \u001b[39m*\u001b[39;49m\u001b[39m*\u001b[39;49mkwargs)\n\u001b[1;32m     66\u001b[0m \u001b[39mexcept\u001b[39;00m:\n\u001b[1;32m     67\u001b[0m     \u001b[39mself\u001b[39m\u001b[39m.\u001b[39mdis()\n",
      "File \u001b[0;32m~/.local/lib/python3.8/site-packages/chipwhisperer/capture/targets/CW305.py:299\u001b[0m, in \u001b[0;36mCW305._con\u001b[0;34m(self, scope, bsfile, force, fpga_id, defines_files, slurp, prog_speed, hw_location, sn)\u001b[0m\n\u001b[1;32m    284\u001b[0m \u001b[39mdef\u001b[39;00m \u001b[39m_con\u001b[39m(\u001b[39mself\u001b[39m, scope\u001b[39m=\u001b[39m\u001b[39mNone\u001b[39;00m, bsfile\u001b[39m=\u001b[39m\u001b[39mNone\u001b[39;00m, force\u001b[39m=\u001b[39m\u001b[39mFalse\u001b[39;00m, fpga_id\u001b[39m=\u001b[39m\u001b[39mNone\u001b[39;00m, defines_files\u001b[39m=\u001b[39m\u001b[39mNone\u001b[39;00m, slurp\u001b[39m=\u001b[39m\u001b[39mTrue\u001b[39;00m, prog_speed\u001b[39m=\u001b[39m\u001b[39m10E6\u001b[39m, hw_location\u001b[39m=\u001b[39m\u001b[39mNone\u001b[39;00m, sn\u001b[39m=\u001b[39m\u001b[39mNone\u001b[39;00m):\n\u001b[1;32m    285\u001b[0m     \u001b[39m\"\"\"Connect to CW305 board, and download bitstream.\u001b[39;00m\n\u001b[1;32m    286\u001b[0m \n\u001b[1;32m    287\u001b[0m \u001b[39m    If the target has already been programmed it skips reprogramming\u001b[39;00m\n\u001b[0;32m   (...)\u001b[0m\n\u001b[1;32m    297\u001b[0m \u001b[39m        slurp (bool, optional): Whether or not to slurp the Verilog defines.\u001b[39;00m\n\u001b[1;32m    298\u001b[0m \u001b[39m    \"\"\"\u001b[39;00m\n\u001b[0;32m--> 299\u001b[0m     \u001b[39mself\u001b[39;49m\u001b[39m.\u001b[39;49m_naeusb\u001b[39m.\u001b[39;49mcon(idProduct\u001b[39m=\u001b[39;49m[\u001b[39m0xC305\u001b[39;49m], serial_number\u001b[39m=\u001b[39;49msn, hw_location\u001b[39m=\u001b[39;49mhw_location)\n\u001b[1;32m    300\u001b[0m     \u001b[39mif\u001b[39;00m \u001b[39mnot\u001b[39;00m fpga_id \u001b[39mis\u001b[39;00m \u001b[39mNone\u001b[39;00m:\n\u001b[1;32m    301\u001b[0m         \u001b[39mif\u001b[39;00m fpga_id \u001b[39mnot\u001b[39;00m \u001b[39min\u001b[39;00m (\u001b[39m'\u001b[39m\u001b[39m100t\u001b[39m\u001b[39m'\u001b[39m, \u001b[39m'\u001b[39m\u001b[39m35t\u001b[39m\u001b[39m'\u001b[39m):\n",
      "File \u001b[0;32m~/.local/lib/python3.8/site-packages/chipwhisperer/hardware/naeusb/naeusb.py:681\u001b[0m, in \u001b[0;36mNAEUSB.con\u001b[0;34m(self, idProduct, connect_to_first, serial_number, hw_location, **kwargs)\u001b[0m\n\u001b[1;32m    676\u001b[0m \u001b[39mdef\u001b[39;00m \u001b[39mcon\u001b[39m(\u001b[39mself\u001b[39m, idProduct : Tuple[\u001b[39mint\u001b[39m]\u001b[39m=\u001b[39m(\u001b[39m0xACE2\u001b[39m,), connect_to_first : \u001b[39mbool\u001b[39m\u001b[39m=\u001b[39m\u001b[39mFalse\u001b[39;00m, \n\u001b[1;32m    677\u001b[0m     serial_number : Optional[\u001b[39mstr\u001b[39m]\u001b[39m=\u001b[39m\u001b[39mNone\u001b[39;00m, hw_location : Optional[Tuple[\u001b[39mint\u001b[39m, \u001b[39mint\u001b[39m]]\u001b[39m=\u001b[39m\u001b[39mNone\u001b[39;00m, \u001b[39m*\u001b[39m\u001b[39m*\u001b[39mkwargs) \u001b[39m-\u001b[39m\u001b[39m>\u001b[39m \u001b[39mint\u001b[39m:\n\u001b[1;32m    678\u001b[0m     \u001b[39m\"\"\"\u001b[39;00m\n\u001b[1;32m    679\u001b[0m \u001b[39m    Connect to device using default VID/PID\u001b[39;00m\n\u001b[1;32m    680\u001b[0m \u001b[39m    \"\"\"\u001b[39;00m\n\u001b[0;32m--> 681\u001b[0m     \u001b[39mself\u001b[39;49m\u001b[39m.\u001b[39;49musbtx\u001b[39m.\u001b[39;49mopen(idProduct\u001b[39m=\u001b[39;49midProduct, serial_number\u001b[39m=\u001b[39;49mserial_number, connect_to_first\u001b[39m=\u001b[39;49m\u001b[39mTrue\u001b[39;49;00m, hw_location\u001b[39m=\u001b[39;49mhw_location)\n\u001b[1;32m    684\u001b[0m     \u001b[39mself\u001b[39m\u001b[39m.\u001b[39msnum\u001b[39m=\u001b[39m\u001b[39mself\u001b[39m\u001b[39m.\u001b[39musbtx\u001b[39m.\u001b[39msn\n\u001b[1;32m    685\u001b[0m     fwver \u001b[39m=\u001b[39m \u001b[39mself\u001b[39m\u001b[39m.\u001b[39mreadFwVersion()\n",
      "File \u001b[0;32m~/.local/lib/python3.8/site-packages/chipwhisperer/hardware/naeusb/naeusb.py:371\u001b[0m, in \u001b[0;36mNAEUSB_Backend.open\u001b[0;34m(self, serial_number, idProduct, connect_to_first, hw_location)\u001b[0m\n\u001b[1;32m    365\u001b[0m \u001b[39mdef\u001b[39;00m \u001b[39mopen\u001b[39m(\u001b[39mself\u001b[39m, serial_number : Optional[\u001b[39mstr\u001b[39m]\u001b[39m=\u001b[39m\u001b[39mNone\u001b[39;00m, idProduct : Optional[List[\u001b[39mint\u001b[39m]]\u001b[39m=\u001b[39m\u001b[39mNone\u001b[39;00m, \n\u001b[1;32m    366\u001b[0m     connect_to_first : \u001b[39mbool\u001b[39m \u001b[39m=\u001b[39m\u001b[39mFalse\u001b[39;00m, hw_location : Optional[Tuple[\u001b[39mint\u001b[39m, \u001b[39mint\u001b[39m]]\u001b[39m=\u001b[39m\u001b[39mNone\u001b[39;00m) \u001b[39m-\u001b[39m\u001b[39m>\u001b[39m Optional[usb1\u001b[39m.\u001b[39mUSBDeviceHandle]:\n\u001b[1;32m    367\u001b[0m     \u001b[39m\"\"\"\u001b[39;00m\n\u001b[1;32m    368\u001b[0m \u001b[39m    Connect to device using default VID/PID\u001b[39;00m\n\u001b[1;32m    369\u001b[0m \u001b[39m    \"\"\"\u001b[39;00m\n\u001b[0;32m--> 371\u001b[0m     \u001b[39mself\u001b[39m\u001b[39m.\u001b[39mdevice \u001b[39m=\u001b[39m \u001b[39mself\u001b[39;49m\u001b[39m.\u001b[39;49mfind(serial_number, idProduct, hw_location\u001b[39m=\u001b[39;49mhw_location)\n\u001b[1;32m    372\u001b[0m     \u001b[39mif\u001b[39;00m connect_to_first \u001b[39m==\u001b[39m \u001b[39mFalse\u001b[39;00m:\n\u001b[1;32m    373\u001b[0m         \u001b[39mreturn\u001b[39;00m \u001b[39mNone\u001b[39;00m\n",
      "File \u001b[0;32m~/.local/lib/python3.8/site-packages/chipwhisperer/hardware/naeusb/naeusb.py:338\u001b[0m, in \u001b[0;36mNAEUSB_Backend.find\u001b[0;34m(self, serial_number, idProduct, hw_location)\u001b[0m\n\u001b[1;32m    336\u001b[0m dev_list \u001b[39m=\u001b[39m \u001b[39mself\u001b[39m\u001b[39m.\u001b[39mget_possible_devices(idProduct, attempt_access\u001b[39m=\u001b[39m(\u001b[39mnot\u001b[39;00m hw_location))\n\u001b[1;32m    337\u001b[0m \u001b[39mif\u001b[39;00m \u001b[39mlen\u001b[39m(dev_list) \u001b[39m==\u001b[39m \u001b[39m0\u001b[39m:\n\u001b[0;32m--> 338\u001b[0m     \u001b[39mraise\u001b[39;00m \u001b[39mOSError\u001b[39;00m(\u001b[39m\"\u001b[39m\u001b[39mCould not find ChipWhisperer. Is it connected?\u001b[39m\u001b[39m\"\u001b[39m)\n\u001b[1;32m    340\u001b[0m \u001b[39m# if more than one CW, we require a serial number\u001b[39;00m\n\u001b[1;32m    341\u001b[0m \u001b[39mif\u001b[39;00m hw_location:\n",
      "\u001b[0;31mOSError\u001b[0m: Could not find ChipWhisperer. Is it connected?"
     ]
    }
   ],
   "source": [
    "# program DUT ##########################################################\n",
    "# dut = Nexys3DUT()\n",
    "import chipwhisperer as cw\n",
    "from chipwhisperer.capture.targets.CW305 import CW305\n",
    "# scope = cw.scope()\n",
    "scope = None\n",
    "\n",
    "# scope can also be None here, unlike with the default SimpleSerial\n",
    "# bitFile = os.path.join(projDir, acqConf.bitFile)\n",
    "bitstream = \"/nhome/mmohajer/notebooks/fobos/software/notebooks/sca_labs/fobosworkspace/aes_tvla/half_duplex_dut.bit\"\n",
    "target = cw.target(scope, CW305, bsfile=bitstream)\n",
    "target.vccint_set(1.0) #set VCC-INT to 1V\n",
    "        \n",
    "target.pll.pll_enable_set(True) #Enable PLL chip\n",
    "target.pll.pll_outenable_set(False, 0) # Disable unused PLL0\n",
    "target.pll.pll_outenable_set(True, 1)  # Enable PLL \n",
    "target.pll.pll_outenable_set(False, 2) # Disable unused PLL2\n",
    "\n",
    "# optional, but reduces power trace noise\n",
    "target.clkusbautooff = True\n",
    "target.clksleeptime = 1 # 1ms typically good for sleep\n",
    "\n",
    "# dut.setBitFile(bitFile)\n",
    "# dut.program()"
   ]
  },
  {
   "cell_type": "code",
   "execution_count": null,
   "metadata": {},
   "outputs": [
    {
     "name": "stdout",
     "output_type": "stream",
     "text": [
      "programming DUT. Please wait ...\n"
     ]
    },
    {
     "ename": "OSError",
     "evalue": "Could not find ChipWhisperer. Is it connected?",
     "output_type": "error",
     "traceback": [
      "\u001b[0;31m---------------------------------------------------------------------------\u001b[0m",
      "\u001b[0;31mOSError\u001b[0m                                   Traceback (most recent call last)",
      "Cell \u001b[0;32mIn [3], line 6\u001b[0m\n\u001b[1;32m      4\u001b[0m bitFile \u001b[38;5;241m=\u001b[39m os\u001b[38;5;241m.\u001b[39mpath\u001b[38;5;241m.\u001b[39mjoin(projDir, acqConf\u001b[38;5;241m.\u001b[39mbitFile)\n\u001b[1;32m      5\u001b[0m dut\u001b[38;5;241m.\u001b[39msetBitFile(bitFile)\n\u001b[0;32m----> 6\u001b[0m \u001b[43mdut\u001b[49m\u001b[38;5;241;43m.\u001b[39;49m\u001b[43mprogram\u001b[49m\u001b[43m(\u001b[49m\u001b[43m)\u001b[49m\n\u001b[1;32m      9\u001b[0m \u001b[38;5;66;03m# prepare i/o files ####################################################\u001b[39;00m\n\u001b[1;32m     12\u001b[0m tvFileName \u001b[38;5;241m=\u001b[39m os\u001b[38;5;241m.\u001b[39mpath\u001b[38;5;241m.\u001b[39mjoin(projDir, acqConf\u001b[38;5;241m.\u001b[39mdinFile)\n",
      "File \u001b[0;32m~/notebooks/fobos/software/notebooks/foboslib/dut/cw305dut.py:46\u001b[0m, in \u001b[0;36mCW305DUT.program\u001b[0;34m(self)\u001b[0m\n\u001b[1;32m     44\u001b[0m \u001b[39mprint\u001b[39m(\u001b[39m\"\u001b[39m\u001b[39mprogramming DUT. Please wait ...\u001b[39m\u001b[39m\"\u001b[39m)\n\u001b[1;32m     45\u001b[0m cw \u001b[39m=\u001b[39m CW305()\n\u001b[0;32m---> 46\u001b[0m cw\u001b[39m.\u001b[39;49mcon(bsfile\u001b[39m=\u001b[39;49m\u001b[39mself\u001b[39;49m\u001b[39m.\u001b[39;49mbitFile, force\u001b[39m=\u001b[39;49m\u001b[39mTrue\u001b[39;49;00m)\n\u001b[1;32m     47\u001b[0m \u001b[39mprint\u001b[39m(\u001b[39m\"\u001b[39m\u001b[39mCW305 DUT programming done!\u001b[39m\u001b[39m\"\u001b[39m)\n\u001b[1;32m     48\u001b[0m cw\u001b[39m.\u001b[39mdis()\n",
      "File \u001b[0;32m~/.local/lib/python3.8/site-packages/chipwhisperer/capture/targets/_base.py:65\u001b[0m, in \u001b[0;36mTargetTemplate.con\u001b[0;34m(self, scope, **kwargs)\u001b[0m\n\u001b[1;32m     63\u001b[0m \u001b[39mtry\u001b[39;00m:\n\u001b[1;32m     64\u001b[0m     \u001b[39mself\u001b[39m\u001b[39m.\u001b[39mconnectStatus \u001b[39m=\u001b[39m \u001b[39mTrue\u001b[39;00m\n\u001b[0;32m---> 65\u001b[0m     \u001b[39mself\u001b[39;49m\u001b[39m.\u001b[39;49m_con(scope, \u001b[39m*\u001b[39;49m\u001b[39m*\u001b[39;49mkwargs)\n\u001b[1;32m     66\u001b[0m \u001b[39mexcept\u001b[39;00m:\n\u001b[1;32m     67\u001b[0m     \u001b[39mself\u001b[39m\u001b[39m.\u001b[39mdis()\n",
      "File \u001b[0;32m~/.local/lib/python3.8/site-packages/chipwhisperer/capture/targets/CW305.py:299\u001b[0m, in \u001b[0;36mCW305._con\u001b[0;34m(self, scope, bsfile, force, fpga_id, defines_files, slurp, prog_speed, hw_location, sn)\u001b[0m\n\u001b[1;32m    284\u001b[0m \u001b[39mdef\u001b[39;00m \u001b[39m_con\u001b[39m(\u001b[39mself\u001b[39m, scope\u001b[39m=\u001b[39m\u001b[39mNone\u001b[39;00m, bsfile\u001b[39m=\u001b[39m\u001b[39mNone\u001b[39;00m, force\u001b[39m=\u001b[39m\u001b[39mFalse\u001b[39;00m, fpga_id\u001b[39m=\u001b[39m\u001b[39mNone\u001b[39;00m, defines_files\u001b[39m=\u001b[39m\u001b[39mNone\u001b[39;00m, slurp\u001b[39m=\u001b[39m\u001b[39mTrue\u001b[39;00m, prog_speed\u001b[39m=\u001b[39m\u001b[39m10E6\u001b[39m, hw_location\u001b[39m=\u001b[39m\u001b[39mNone\u001b[39;00m, sn\u001b[39m=\u001b[39m\u001b[39mNone\u001b[39;00m):\n\u001b[1;32m    285\u001b[0m     \u001b[39m\"\"\"Connect to CW305 board, and download bitstream.\u001b[39;00m\n\u001b[1;32m    286\u001b[0m \n\u001b[1;32m    287\u001b[0m \u001b[39m    If the target has already been programmed it skips reprogramming\u001b[39;00m\n\u001b[0;32m   (...)\u001b[0m\n\u001b[1;32m    297\u001b[0m \u001b[39m        slurp (bool, optional): Whether or not to slurp the Verilog defines.\u001b[39;00m\n\u001b[1;32m    298\u001b[0m \u001b[39m    \"\"\"\u001b[39;00m\n\u001b[0;32m--> 299\u001b[0m     \u001b[39mself\u001b[39;49m\u001b[39m.\u001b[39;49m_naeusb\u001b[39m.\u001b[39;49mcon(idProduct\u001b[39m=\u001b[39;49m[\u001b[39m0xC305\u001b[39;49m], serial_number\u001b[39m=\u001b[39;49msn, hw_location\u001b[39m=\u001b[39;49mhw_location)\n\u001b[1;32m    300\u001b[0m     \u001b[39mif\u001b[39;00m \u001b[39mnot\u001b[39;00m fpga_id \u001b[39mis\u001b[39;00m \u001b[39mNone\u001b[39;00m:\n\u001b[1;32m    301\u001b[0m         \u001b[39mif\u001b[39;00m fpga_id \u001b[39mnot\u001b[39;00m \u001b[39min\u001b[39;00m (\u001b[39m'\u001b[39m\u001b[39m100t\u001b[39m\u001b[39m'\u001b[39m, \u001b[39m'\u001b[39m\u001b[39m35t\u001b[39m\u001b[39m'\u001b[39m):\n",
      "File \u001b[0;32m~/.local/lib/python3.8/site-packages/chipwhisperer/hardware/naeusb/naeusb.py:681\u001b[0m, in \u001b[0;36mNAEUSB.con\u001b[0;34m(self, idProduct, connect_to_first, serial_number, hw_location, **kwargs)\u001b[0m\n\u001b[1;32m    676\u001b[0m \u001b[39mdef\u001b[39;00m \u001b[39mcon\u001b[39m(\u001b[39mself\u001b[39m, idProduct : Tuple[\u001b[39mint\u001b[39m]\u001b[39m=\u001b[39m(\u001b[39m0xACE2\u001b[39m,), connect_to_first : \u001b[39mbool\u001b[39m\u001b[39m=\u001b[39m\u001b[39mFalse\u001b[39;00m, \n\u001b[1;32m    677\u001b[0m     serial_number : Optional[\u001b[39mstr\u001b[39m]\u001b[39m=\u001b[39m\u001b[39mNone\u001b[39;00m, hw_location : Optional[Tuple[\u001b[39mint\u001b[39m, \u001b[39mint\u001b[39m]]\u001b[39m=\u001b[39m\u001b[39mNone\u001b[39;00m, \u001b[39m*\u001b[39m\u001b[39m*\u001b[39mkwargs) \u001b[39m-\u001b[39m\u001b[39m>\u001b[39m \u001b[39mint\u001b[39m:\n\u001b[1;32m    678\u001b[0m     \u001b[39m\"\"\"\u001b[39;00m\n\u001b[1;32m    679\u001b[0m \u001b[39m    Connect to device using default VID/PID\u001b[39;00m\n\u001b[1;32m    680\u001b[0m \u001b[39m    \"\"\"\u001b[39;00m\n\u001b[0;32m--> 681\u001b[0m     \u001b[39mself\u001b[39;49m\u001b[39m.\u001b[39;49musbtx\u001b[39m.\u001b[39;49mopen(idProduct\u001b[39m=\u001b[39;49midProduct, serial_number\u001b[39m=\u001b[39;49mserial_number, connect_to_first\u001b[39m=\u001b[39;49m\u001b[39mTrue\u001b[39;49;00m, hw_location\u001b[39m=\u001b[39;49mhw_location)\n\u001b[1;32m    684\u001b[0m     \u001b[39mself\u001b[39m\u001b[39m.\u001b[39msnum\u001b[39m=\u001b[39m\u001b[39mself\u001b[39m\u001b[39m.\u001b[39musbtx\u001b[39m.\u001b[39msn\n\u001b[1;32m    685\u001b[0m     fwver \u001b[39m=\u001b[39m \u001b[39mself\u001b[39m\u001b[39m.\u001b[39mreadFwVersion()\n",
      "File \u001b[0;32m~/.local/lib/python3.8/site-packages/chipwhisperer/hardware/naeusb/naeusb.py:371\u001b[0m, in \u001b[0;36mNAEUSB_Backend.open\u001b[0;34m(self, serial_number, idProduct, connect_to_first, hw_location)\u001b[0m\n\u001b[1;32m    365\u001b[0m \u001b[39mdef\u001b[39;00m \u001b[39mopen\u001b[39m(\u001b[39mself\u001b[39m, serial_number : Optional[\u001b[39mstr\u001b[39m]\u001b[39m=\u001b[39m\u001b[39mNone\u001b[39;00m, idProduct : Optional[List[\u001b[39mint\u001b[39m]]\u001b[39m=\u001b[39m\u001b[39mNone\u001b[39;00m, \n\u001b[1;32m    366\u001b[0m     connect_to_first : \u001b[39mbool\u001b[39m \u001b[39m=\u001b[39m\u001b[39mFalse\u001b[39;00m, hw_location : Optional[Tuple[\u001b[39mint\u001b[39m, \u001b[39mint\u001b[39m]]\u001b[39m=\u001b[39m\u001b[39mNone\u001b[39;00m) \u001b[39m-\u001b[39m\u001b[39m>\u001b[39m Optional[usb1\u001b[39m.\u001b[39mUSBDeviceHandle]:\n\u001b[1;32m    367\u001b[0m     \u001b[39m\"\"\"\u001b[39;00m\n\u001b[1;32m    368\u001b[0m \u001b[39m    Connect to device using default VID/PID\u001b[39;00m\n\u001b[1;32m    369\u001b[0m \u001b[39m    \"\"\"\u001b[39;00m\n\u001b[0;32m--> 371\u001b[0m     \u001b[39mself\u001b[39m\u001b[39m.\u001b[39mdevice \u001b[39m=\u001b[39m \u001b[39mself\u001b[39;49m\u001b[39m.\u001b[39;49mfind(serial_number, idProduct, hw_location\u001b[39m=\u001b[39;49mhw_location)\n\u001b[1;32m    372\u001b[0m     \u001b[39mif\u001b[39;00m connect_to_first \u001b[39m==\u001b[39m \u001b[39mFalse\u001b[39;00m:\n\u001b[1;32m    373\u001b[0m         \u001b[39mreturn\u001b[39;00m \u001b[39mNone\u001b[39;00m\n",
      "File \u001b[0;32m~/.local/lib/python3.8/site-packages/chipwhisperer/hardware/naeusb/naeusb.py:338\u001b[0m, in \u001b[0;36mNAEUSB_Backend.find\u001b[0;34m(self, serial_number, idProduct, hw_location)\u001b[0m\n\u001b[1;32m    336\u001b[0m dev_list \u001b[39m=\u001b[39m \u001b[39mself\u001b[39m\u001b[39m.\u001b[39mget_possible_devices(idProduct, attempt_access\u001b[39m=\u001b[39m(\u001b[39mnot\u001b[39;00m hw_location))\n\u001b[1;32m    337\u001b[0m \u001b[39mif\u001b[39;00m \u001b[39mlen\u001b[39m(dev_list) \u001b[39m==\u001b[39m \u001b[39m0\u001b[39m:\n\u001b[0;32m--> 338\u001b[0m     \u001b[39mraise\u001b[39;00m \u001b[39mOSError\u001b[39;00m(\u001b[39m\"\u001b[39m\u001b[39mCould not find ChipWhisperer. Is it connected?\u001b[39m\u001b[39m\"\u001b[39m)\n\u001b[1;32m    340\u001b[0m \u001b[39m# if more than one CW, we require a serial number\u001b[39;00m\n\u001b[1;32m    341\u001b[0m \u001b[39mif\u001b[39;00m hw_location:\n",
      "\u001b[0;31mOSError\u001b[0m: Could not find ChipWhisperer. Is it connected?"
     ]
    }
   ],
   "source": [
    "\n",
    "\n",
    "\n",
    "\n",
    "# prepare i/o files ####################################################\n",
    "\n",
    "\n",
    "tvFileName = os.path.join(projDir, acqConf.dinFile)\n",
    "#plainFileName = os.path.join(projDir, acqConf.plainFile)\n",
    "assert Path(tvFileName).exists()\n",
    "#     with open(tvFileName, \"w\") as tvFile:\n",
    "#         tvFile.write(\"\")\n",
    "    \n",
    "captureDir = pm.getCaptureDir()\n",
    "\n",
    "traceFileName = os.path.join(captureDir, acqConf.traceFile)\n",
    "cipherFileName = os.path.join(captureDir, acqConf.cipherFile)\n",
    "fvrFileName = os.path.join(projDir, acqConf.fvrFile)\n",
    "\n",
    "shutil.copy(tvFileName, captureDir)\n",
    "shutil.copy(fvrFileName, captureDir)\n",
    "\n",
    "# save config to a file\n",
    "with open(os.path.join(captureDir, 'acquisitionConfig.json'), \"w\") as configFile:\n",
    "    configFile.write(json.dumps(asdict(acqConf), indent=4))\n",
    "    # configFile.write(str(ctrl.config)) # ????!!!\n",
    "    # print(str(acqConf))\n",
    "\n",
    "# connect to hardware and lock it ######################################\n",
    "tCalc = TVLACalc(acqConf.samplesPerTrace)\n",
    "\n",
    "with pynqctrl.PYNQCtrl(acqConf) as ctrl:\n",
    "    with open(tvFileName, \"r\") as tvFile, open(traceFileName, \"a+b\") as traceFile, open(cipherFileName, \"w\") as cipherFile, open(fvrFileName, 'r') as fvrFile:\n",
    "        #t-test object\n",
    "        # Get traces############################################################\n",
    "        print('Processing test vectors ...')\n",
    "        for traceNum in range(acqConf.traceNum):\n",
    "            data = tvFile.readline()\n",
    "            print(f\"data={data}\")\n",
    "            status, result, trace = ctrl.processData2(data, acqConf.outLen)\n",
    "            if result is None:\n",
    "                print(f\"result is None! traceNum:{traceNum} status:{status} trace:{trace}\")\n",
    "                break\n",
    "            cipherFile.write(result + \"\\n\")\n",
    "            np.save(traceFile, trace)\n",
    "            c = fvrFile.read(1)\n",
    "            tCalc.addTrace(trace, int(c))\n",
    "            if traceNum % 10000 == 0:\n",
    "                t_array, passed = tCalc.saveData1(captureDir, str(traceNum))\n",
    "                sys.stdout.write('Progress:' + \"{:.2f}\".format(traceNum/acqConf.traceNum*100) + '%\\r')\n",
    "                sys.stdout.flush()\n",
    "\n",
    "tCalc.saveData1(captureDir, str(acqConf.traceNum)) \n",
    "\n",
    "print('Data acquisition complete.')\n",
    "\n"
   ]
  },
  {
   "cell_type": "code",
   "execution_count": null,
   "metadata": {},
   "outputs": [],
   "source": [
    "import matplotlib.pyplot as plt\n",
    "%matplotlib inline\n",
    "plt.plot(trace)\n",
    "plt.show()"
   ]
  },
  {
   "cell_type": "code",
   "execution_count": null,
   "metadata": {},
   "outputs": [],
   "source": [
    "import matplotlib.pyplot as plt\n",
    "fig = plt.figure()\n",
    "fig.set_facecolor('white')\n",
    "plt.rcParams.update({'font.size': 18})\n",
    "maxtrace = 100\n",
    "plt.figure(figsize=(10,8))\n",
    "plt.xlabel('Sample')\n",
    "plt.ylabel('T-Value')\n",
    "plt.title(f'TVLA {acqConf.projectName}')\n",
    "\n",
    "with open(traceFileName, \"r+b\") as traceFile:\n",
    "    for i in range(min(maxtrace, acqConf.traceNum)):\n",
    "        trace = np.load(traceFile, allow_pickle=True)\n",
    "        plt.plot(trace)\n",
    "\n",
    "plt.savefig(os.path.join(captureDir, 'traces.png'),facecolor=fig.get_facecolor())\n",
    "# plt.close()\n"
   ]
  },
  {
   "cell_type": "code",
   "execution_count": null,
   "metadata": {},
   "outputs": [],
   "source": []
  }
 ],
 "metadata": {
  "kernelspec": {
   "display_name": "Python 3.10.6 64-bit",
   "language": "python",
   "name": "python3"
  },
  "language_info": {
   "codemirror_mode": {
    "name": "ipython",
    "version": 3
   },
   "file_extension": ".py",
   "mimetype": "text/x-python",
   "name": "python",
   "nbconvert_exporter": "python",
   "pygments_lexer": "ipython3",
   "version": "3.10.6"
  },
  "vscode": {
   "interpreter": {
    "hash": "6ecdebf77f2ee3a47348d003f751c63e810ca996c1c68d1179f338200fa83b34"
   }
  }
 },
 "nbformat": 4,
 "nbformat_minor": 4
}
