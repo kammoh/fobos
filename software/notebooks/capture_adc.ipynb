{
 "cells": [
  {
   "cell_type": "markdown",
   "metadata": {},
   "source": [
    "# Correlation Power Analysis Example\n",
    "\n",
    "- Setup for example AES\n",
    "- Uses NewAE CW305 board\n",
    "\n",
    "## Data Acquisition"
   ]
  },
  {
   "cell_type": "code",
   "execution_count": 9,
   "metadata": {},
   "outputs": [],
   "source": [
    "# capture_pynq\n",
    "# requires pynqserver to run on Pynq\n",
    "# requires FOBOS Shield\n",
    "# uses NewAE CW305 as DUT\n",
    "import os\n",
    "import sys\n",
    "import shutil\n",
    "import json\n",
    "import numpy as np\n",
    "from foboslib import projmgr\n",
    "from foboslib.ctrl import pynqctrl\n",
    "from foboslib.ctrl.fobosctrl import InterfaceType, TriggerType, FOBOSCtrl\n",
    "from foboslib.fobosTVGen import FobosTVGen\n",
    "from foboslib.dut.cw305dut import CW305DUT\n",
    "\n",
    "#######################################################\n",
    "# Acquisition Configuration\n",
    "acqConf = {}\n",
    "# Connection to Control Board\n",
    "acqConf['ip'] = 'localhost'\n",
    "acqConf['port'] = 9995\n",
    "# File Names and Locations\n",
    "acqConf['workspace']       = \"fobosworkspace\"   # Folder to store projects\n",
    "acqConf['projectName']     = \"aes\"              # Name of this project. Files will be in workspace/projectName/\n",
    "acqConf['keyFile']         = \"key.txt\"          # key, must be provided in workspace/projectName/ directory\n",
    "acqConf['plainFile']       = \"plaintext.txt\"    # plaintext in hex, auto-generated\n",
    "acqConf['dinFile']         = \"dinFile.txt\"      # test vectors in FOBOS format incl. plaintext and key, auto-generated\n",
    "acqConf['cipherFile']      = \"ciphertext.txt\"   # observed ciphertext, result from applying test vectors\n",
    "acqConf['traceFile']       = \"powerTraces.npy\"  # Name of file for recording power traces\n",
    "# Cipher Specific Information\n",
    "acqConf['bitFile']         = \"aes_cw305.bit\"    # Bitstream for programming the DUT, same directory as this notebook\n",
    "acqConf['blockSize']       = 16                 # size of a block of plaintext in bytes\n",
    "acqConf['cipherSize']      = 16                 # size of a block of cyphertext in bytes\n",
    "acqConf['keySize']         = 16                 # size of the key in bytes\n",
    "# Acquistion configuration\n",
    "acqConf['traceNum']        = 100                # number of traces to run\n",
    "acqConf['samplingFreq']    = 100                # sampling frequency of the Oscilloscope in Msps [range: 1 - 100]\n",
    "acqConf['DUTClk']          = 1                  # clock frequency of the DUT in MHz [range: 1 - 100]\n",
    "acqConf['samplesPerTrace'] = 2000               # number of ADC samples in one trace\n",
    "acqConf['ADCGain']         = 50                 # amplification of ADC input signal [range: 0 - 60]\n",
    "acqConf['ADCHiLo']         = 1                  # 0 - low amplification, 1 - high amplification"
   ]
  },
  {
   "cell_type": "code",
   "execution_count": 10,
   "metadata": {},
   "outputs": [],
   "source": [
    "# Configure project directories\n",
    "pm = projmgr.ProjectManager()\n",
    "pm.setWorkSpaceDir(acqConf['workspace'])\n",
    "pm.setProjName(acqConf['projectName'])\n",
    "projDir = pm.getProjDir()"
   ]
  },
  {
   "cell_type": "code",
   "execution_count": 11,
   "metadata": {},
   "outputs": [],
   "source": [
    "# create key file in tje workspace directory\n",
    "KEY = \"01 23 45 67 89 ab cd ef 00 11 22 33 44 55 66 77\"\n",
    "keyFileName = os.path.join(projDir, acqConf['keyFile'])\n",
    "keyFile = open(keyFileName, \"w\")\n",
    "keyFile.write(KEY )\n",
    "keyFile.close()"
   ]
  },
  {
   "cell_type": "code",
   "execution_count": 12,
   "metadata": {},
   "outputs": [
    {
     "name": "stdout",
     "output_type": "stream",
     "text": [
      "Generating 100 test vectors...\n",
      "    KeyFile = fobosworkspace/aes/key.txt\n",
      "    PlaintextFile = fobosworkspace/aes/plaintext.txt\n",
      "    Block Size (bytes) = 16\n",
      "    Ciphertext Size (bytes) = 16\n",
      "    Key Size (bytes)= 16\n",
      "Done.\n"
     ]
    }
   ],
   "source": [
    "# Generate test vectors\n",
    "tvGen = FobosTVGen(traceNum=acqConf['traceNum'],\n",
    "                   blockSize=acqConf['blockSize'],\n",
    "                   keySize=acqConf['keySize'],\n",
    "                   cipherSize=acqConf['cipherSize'],\n",
    "                   dinFile= os.path.join(projDir, acqConf['dinFile']),\n",
    "                   plaintextFile=os.path.join(projDir, acqConf['plainFile']),\n",
    "                   keyFile=os.path.join(projDir, acqConf['keyFile'])\n",
    "                   )\n",
    "tvGen.generateTVs()"
   ]
  },
  {
   "cell_type": "code",
   "execution_count": 13,
   "metadata": {},
   "outputs": [
    {
     "name": "stdout",
     "output_type": "stream",
     "text": [
      "Successfully created new capture directory at fobosworkspace/aes/capture/attempt-10\n"
     ]
    }
   ],
   "source": [
    "# Create capture directory\n",
    "captureDir = pm.getCaptureDir()\n",
    "# Open input files\n",
    "plainFileName = os.path.join(projDir, acqConf['plainFile'])\n",
    "tvFileName = os.path.join(projDir, acqConf['dinFile'])\n",
    "tvFile = open(tvFileName, \"r\")\n",
    "# Open output files\n",
    "cipherFileName = os.path.join(captureDir, acqConf['cipherFile'])\n",
    "traceFileName = os.path.join(captureDir, acqConf['traceFile'])\n",
    "cipherFile = open(cipherFileName, \"w\")\n",
    "traceFile = open(traceFileName, \"a+b\")\n",
    "# save input files\n",
    "shutil.copy(tvFileName, captureDir)\n",
    "shutil.copy(plainFileName, captureDir)\n",
    "# save config to a file\n",
    "configFile = open(os.path.join(captureDir, 'acquisitionConfig.json'), \"w\")\n",
    "configFile.write(json.dumps(acqConf, indent=4))\n",
    "configFile.close()"
   ]
  },
  {
   "cell_type": "code",
   "execution_count": 14,
   "metadata": {},
   "outputs": [],
   "source": [
    "### Connecting to the Pynq Board\n",
    "# lock file is: /tmp/fobos.lock\n",
    "# delete the lock file manually if its stale\n",
    "from foboslib.ctrl.pynqctrl import Config\n",
    "\n",
    "\n",
    "config = Config(**acqConf)\n"
   ]
  },
  {
   "cell_type": "code",
   "execution_count": 15,
   "metadata": {},
   "outputs": [],
   "source": [
    "# Apply settings to the Pynq Board\n",
    "# ctrl.setDUTClk(acqConf['DUTClk'])                 # setting DUT clock resets all modules using this clock\n",
    "# ctrl.setDUTInterface(InterfaceType.INTERFACE_4BIT)    # Using Target connector -> INTERFACE_4BIT\n",
    "# ctrl.setDUT(FOBOSCtrl.CW305)                      # Adjust Target connector pinout for DUT\n",
    "# ctrl.setTriggerMode(TriggerType.TRG_FULL)           # Trigger is active during DUT operation\n",
    "# ctrl.setOutLen(acqConf['cipherSize'])\n",
    "# ctrl.setSamplingFrequency(acqConf['samplingFreq'])\n",
    "# ctrl.setSamplesPerTrace(acqConf['samplesPerTrace'])\n",
    "# ctrl.setADCGain(acqConf['ADCGain'])\n",
    "# ctrl.setADCHiLo(acqConf['ADCHiLo'])"
   ]
  },
  {
   "cell_type": "code",
   "execution_count": 16,
   "metadata": {},
   "outputs": [
    {
     "name": "stdout",
     "output_type": "stream",
     "text": [
      "programming DUT. Please wait ...\n"
     ]
    },
    {
     "ename": "OSError",
     "evalue": "Could not find ChipWhisperer. Is it connected?",
     "output_type": "error",
     "traceback": [
      "\u001b[0;31m---------------------------------------------------------------------------\u001b[0m",
      "\u001b[0;31mOSError\u001b[0m                                   Traceback (most recent call last)",
      "Cell \u001b[0;32mIn [16], line 4\u001b[0m\n\u001b[1;32m      2\u001b[0m dut \u001b[38;5;241m=\u001b[39m CW305DUT()\n\u001b[1;32m      3\u001b[0m dut\u001b[38;5;241m.\u001b[39msetBitFile(acqConf[\u001b[38;5;124m'\u001b[39m\u001b[38;5;124mbitFile\u001b[39m\u001b[38;5;124m'\u001b[39m])\n\u001b[0;32m----> 4\u001b[0m \u001b[43mdut\u001b[49m\u001b[38;5;241;43m.\u001b[39;49m\u001b[43mprogram\u001b[49m\u001b[43m(\u001b[49m\u001b[43m)\u001b[49m\n",
      "File \u001b[0;32m~/notebooks/fobos/software/notebooks/foboslib/dut/cw305dut.py:46\u001b[0m, in \u001b[0;36mCW305DUT.program\u001b[0;34m(self)\u001b[0m\n\u001b[1;32m     44\u001b[0m \u001b[39mprint\u001b[39m(\u001b[39m\"\u001b[39m\u001b[39mprogramming DUT. Please wait ...\u001b[39m\u001b[39m\"\u001b[39m)\n\u001b[1;32m     45\u001b[0m cw \u001b[39m=\u001b[39m CW305()\n\u001b[0;32m---> 46\u001b[0m cw\u001b[39m.\u001b[39;49mcon(bsfile\u001b[39m=\u001b[39;49m\u001b[39mself\u001b[39;49m\u001b[39m.\u001b[39;49mbitFile, force\u001b[39m=\u001b[39;49m\u001b[39mTrue\u001b[39;49;00m)\n\u001b[1;32m     47\u001b[0m \u001b[39mprint\u001b[39m(\u001b[39m\"\u001b[39m\u001b[39mCW305 DUT programming done!\u001b[39m\u001b[39m\"\u001b[39m)\n\u001b[1;32m     48\u001b[0m cw\u001b[39m.\u001b[39mdis()\n",
      "File \u001b[0;32m~/.local/lib/python3.8/site-packages/chipwhisperer/capture/targets/_base.py:65\u001b[0m, in \u001b[0;36mTargetTemplate.con\u001b[0;34m(self, scope, **kwargs)\u001b[0m\n\u001b[1;32m     63\u001b[0m \u001b[39mtry\u001b[39;00m:\n\u001b[1;32m     64\u001b[0m     \u001b[39mself\u001b[39m\u001b[39m.\u001b[39mconnectStatus \u001b[39m=\u001b[39m \u001b[39mTrue\u001b[39;00m\n\u001b[0;32m---> 65\u001b[0m     \u001b[39mself\u001b[39;49m\u001b[39m.\u001b[39;49m_con(scope, \u001b[39m*\u001b[39;49m\u001b[39m*\u001b[39;49mkwargs)\n\u001b[1;32m     66\u001b[0m \u001b[39mexcept\u001b[39;00m:\n\u001b[1;32m     67\u001b[0m     \u001b[39mself\u001b[39m\u001b[39m.\u001b[39mdis()\n",
      "File \u001b[0;32m~/.local/lib/python3.8/site-packages/chipwhisperer/capture/targets/CW305.py:299\u001b[0m, in \u001b[0;36mCW305._con\u001b[0;34m(self, scope, bsfile, force, fpga_id, defines_files, slurp, prog_speed, hw_location, sn)\u001b[0m\n\u001b[1;32m    284\u001b[0m \u001b[39mdef\u001b[39;00m \u001b[39m_con\u001b[39m(\u001b[39mself\u001b[39m, scope\u001b[39m=\u001b[39m\u001b[39mNone\u001b[39;00m, bsfile\u001b[39m=\u001b[39m\u001b[39mNone\u001b[39;00m, force\u001b[39m=\u001b[39m\u001b[39mFalse\u001b[39;00m, fpga_id\u001b[39m=\u001b[39m\u001b[39mNone\u001b[39;00m, defines_files\u001b[39m=\u001b[39m\u001b[39mNone\u001b[39;00m, slurp\u001b[39m=\u001b[39m\u001b[39mTrue\u001b[39;00m, prog_speed\u001b[39m=\u001b[39m\u001b[39m10E6\u001b[39m, hw_location\u001b[39m=\u001b[39m\u001b[39mNone\u001b[39;00m, sn\u001b[39m=\u001b[39m\u001b[39mNone\u001b[39;00m):\n\u001b[1;32m    285\u001b[0m     \u001b[39m\"\"\"Connect to CW305 board, and download bitstream.\u001b[39;00m\n\u001b[1;32m    286\u001b[0m \n\u001b[1;32m    287\u001b[0m \u001b[39m    If the target has already been programmed it skips reprogramming\u001b[39;00m\n\u001b[0;32m   (...)\u001b[0m\n\u001b[1;32m    297\u001b[0m \u001b[39m        slurp (bool, optional): Whether or not to slurp the Verilog defines.\u001b[39;00m\n\u001b[1;32m    298\u001b[0m \u001b[39m    \"\"\"\u001b[39;00m\n\u001b[0;32m--> 299\u001b[0m     \u001b[39mself\u001b[39;49m\u001b[39m.\u001b[39;49m_naeusb\u001b[39m.\u001b[39;49mcon(idProduct\u001b[39m=\u001b[39;49m[\u001b[39m0xC305\u001b[39;49m], serial_number\u001b[39m=\u001b[39;49msn, hw_location\u001b[39m=\u001b[39;49mhw_location)\n\u001b[1;32m    300\u001b[0m     \u001b[39mif\u001b[39;00m \u001b[39mnot\u001b[39;00m fpga_id \u001b[39mis\u001b[39;00m \u001b[39mNone\u001b[39;00m:\n\u001b[1;32m    301\u001b[0m         \u001b[39mif\u001b[39;00m fpga_id \u001b[39mnot\u001b[39;00m \u001b[39min\u001b[39;00m (\u001b[39m'\u001b[39m\u001b[39m100t\u001b[39m\u001b[39m'\u001b[39m, \u001b[39m'\u001b[39m\u001b[39m35t\u001b[39m\u001b[39m'\u001b[39m):\n",
      "File \u001b[0;32m~/.local/lib/python3.8/site-packages/chipwhisperer/hardware/naeusb/naeusb.py:681\u001b[0m, in \u001b[0;36mNAEUSB.con\u001b[0;34m(self, idProduct, connect_to_first, serial_number, hw_location, **kwargs)\u001b[0m\n\u001b[1;32m    676\u001b[0m \u001b[39mdef\u001b[39;00m \u001b[39mcon\u001b[39m(\u001b[39mself\u001b[39m, idProduct : Tuple[\u001b[39mint\u001b[39m]\u001b[39m=\u001b[39m(\u001b[39m0xACE2\u001b[39m,), connect_to_first : \u001b[39mbool\u001b[39m\u001b[39m=\u001b[39m\u001b[39mFalse\u001b[39;00m, \n\u001b[1;32m    677\u001b[0m     serial_number : Optional[\u001b[39mstr\u001b[39m]\u001b[39m=\u001b[39m\u001b[39mNone\u001b[39;00m, hw_location : Optional[Tuple[\u001b[39mint\u001b[39m, \u001b[39mint\u001b[39m]]\u001b[39m=\u001b[39m\u001b[39mNone\u001b[39;00m, \u001b[39m*\u001b[39m\u001b[39m*\u001b[39mkwargs) \u001b[39m-\u001b[39m\u001b[39m>\u001b[39m \u001b[39mint\u001b[39m:\n\u001b[1;32m    678\u001b[0m     \u001b[39m\"\"\"\u001b[39;00m\n\u001b[1;32m    679\u001b[0m \u001b[39m    Connect to device using default VID/PID\u001b[39;00m\n\u001b[1;32m    680\u001b[0m \u001b[39m    \"\"\"\u001b[39;00m\n\u001b[0;32m--> 681\u001b[0m     \u001b[39mself\u001b[39;49m\u001b[39m.\u001b[39;49musbtx\u001b[39m.\u001b[39;49mopen(idProduct\u001b[39m=\u001b[39;49midProduct, serial_number\u001b[39m=\u001b[39;49mserial_number, connect_to_first\u001b[39m=\u001b[39;49m\u001b[39mTrue\u001b[39;49;00m, hw_location\u001b[39m=\u001b[39;49mhw_location)\n\u001b[1;32m    684\u001b[0m     \u001b[39mself\u001b[39m\u001b[39m.\u001b[39msnum\u001b[39m=\u001b[39m\u001b[39mself\u001b[39m\u001b[39m.\u001b[39musbtx\u001b[39m.\u001b[39msn\n\u001b[1;32m    685\u001b[0m     fwver \u001b[39m=\u001b[39m \u001b[39mself\u001b[39m\u001b[39m.\u001b[39mreadFwVersion()\n",
      "File \u001b[0;32m~/.local/lib/python3.8/site-packages/chipwhisperer/hardware/naeusb/naeusb.py:371\u001b[0m, in \u001b[0;36mNAEUSB_Backend.open\u001b[0;34m(self, serial_number, idProduct, connect_to_first, hw_location)\u001b[0m\n\u001b[1;32m    365\u001b[0m \u001b[39mdef\u001b[39;00m \u001b[39mopen\u001b[39m(\u001b[39mself\u001b[39m, serial_number : Optional[\u001b[39mstr\u001b[39m]\u001b[39m=\u001b[39m\u001b[39mNone\u001b[39;00m, idProduct : Optional[List[\u001b[39mint\u001b[39m]]\u001b[39m=\u001b[39m\u001b[39mNone\u001b[39;00m, \n\u001b[1;32m    366\u001b[0m     connect_to_first : \u001b[39mbool\u001b[39m \u001b[39m=\u001b[39m\u001b[39mFalse\u001b[39;00m, hw_location : Optional[Tuple[\u001b[39mint\u001b[39m, \u001b[39mint\u001b[39m]]\u001b[39m=\u001b[39m\u001b[39mNone\u001b[39;00m) \u001b[39m-\u001b[39m\u001b[39m>\u001b[39m Optional[usb1\u001b[39m.\u001b[39mUSBDeviceHandle]:\n\u001b[1;32m    367\u001b[0m     \u001b[39m\"\"\"\u001b[39;00m\n\u001b[1;32m    368\u001b[0m \u001b[39m    Connect to device using default VID/PID\u001b[39;00m\n\u001b[1;32m    369\u001b[0m \u001b[39m    \"\"\"\u001b[39;00m\n\u001b[0;32m--> 371\u001b[0m     \u001b[39mself\u001b[39m\u001b[39m.\u001b[39mdevice \u001b[39m=\u001b[39m \u001b[39mself\u001b[39;49m\u001b[39m.\u001b[39;49mfind(serial_number, idProduct, hw_location\u001b[39m=\u001b[39;49mhw_location)\n\u001b[1;32m    372\u001b[0m     \u001b[39mif\u001b[39;00m connect_to_first \u001b[39m==\u001b[39m \u001b[39mFalse\u001b[39;00m:\n\u001b[1;32m    373\u001b[0m         \u001b[39mreturn\u001b[39;00m \u001b[39mNone\u001b[39;00m\n",
      "File \u001b[0;32m~/.local/lib/python3.8/site-packages/chipwhisperer/hardware/naeusb/naeusb.py:338\u001b[0m, in \u001b[0;36mNAEUSB_Backend.find\u001b[0;34m(self, serial_number, idProduct, hw_location)\u001b[0m\n\u001b[1;32m    336\u001b[0m dev_list \u001b[39m=\u001b[39m \u001b[39mself\u001b[39m\u001b[39m.\u001b[39mget_possible_devices(idProduct, attempt_access\u001b[39m=\u001b[39m(\u001b[39mnot\u001b[39;00m hw_location))\n\u001b[1;32m    337\u001b[0m \u001b[39mif\u001b[39;00m \u001b[39mlen\u001b[39m(dev_list) \u001b[39m==\u001b[39m \u001b[39m0\u001b[39m:\n\u001b[0;32m--> 338\u001b[0m     \u001b[39mraise\u001b[39;00m \u001b[39mOSError\u001b[39;00m(\u001b[39m\"\u001b[39m\u001b[39mCould not find ChipWhisperer. Is it connected?\u001b[39m\u001b[39m\"\u001b[39m)\n\u001b[1;32m    340\u001b[0m \u001b[39m# if more than one CW, we require a serial number\u001b[39;00m\n\u001b[1;32m    341\u001b[0m \u001b[39mif\u001b[39;00m hw_location:\n",
      "\u001b[0;31mOSError\u001b[0m: Could not find ChipWhisperer. Is it connected?"
     ]
    }
   ],
   "source": [
    "# Program the DUT\n",
    "dut = CW305DUT()\n",
    "dut.setBitFile(acqConf['bitFile'])\n",
    "dut.program()"
   ]
  },
  {
   "cell_type": "code",
   "execution_count": null,
   "metadata": {},
   "outputs": [
    {
     "ename": "",
     "evalue": "",
     "output_type": "error",
     "traceback": [
      "\u001b[1;31mThe kernel failed to start due to the missing module 'decorator'. Consider installing this module.\n",
      "\u001b[1;31mClick <a href='https://aka.ms/kernelFailuresMissingModule'>here</a> for more info."
     ]
    }
   ],
   "source": [
    "# Run the data acquisition\n",
    "print('Processing test vectors ...')\n",
    "traceNum = 0\n",
    "while traceNum < acqConf['traceNum']:\n",
    "    data = tvFile.readline()\n",
    "    status, result, trace = ctrl.processData2(data, acqConf['cipherSize'])\n",
    "    cipherFile.write(result + \"\\n\")\n",
    "    np.save(traceFile, trace)\n",
    "    if traceNum % 100 == 0:\n",
    "        sys.stdout.write('Progress:' + \"{:.2f}\".format(traceNum/acqConf['traceNum']*100) + '%\\r')\n",
    "        sys.stdout.flush()\n",
    "    traceNum += 1\n",
    "print('Data acquisition complete.')\n",
    "# release and reset control board.\n",
    "ctrl.disconnect() \n",
    "# close all files\n",
    "traceFile.close()\n",
    "cipherFile.close()\n",
    "tvFile.close()"
   ]
  },
  {
   "cell_type": "code",
   "execution_count": null,
   "metadata": {},
   "outputs": [
    {
     "ename": "",
     "evalue": "",
     "output_type": "error",
     "traceback": [
      "\u001b[1;31mThe kernel failed to start due to the missing module 'decorator'. Consider installing this module.\n",
      "\u001b[1;31mClick <a href='https://aka.ms/kernelFailuresMissingModule'>here</a> for more info."
     ]
    }
   ],
   "source": [
    "import matplotlib.pyplot as plt\n",
    "fig = plt.figure()\n",
    "fig.patch.set_facecolor('white')\n",
    "plt.rcParams.update({'font.size': 18})\n",
    "traceFile = open(traceFileName, \"r+b\")\n",
    "maxtrace = 100\n",
    "plt.figure(figsize=(10,8))\n",
    "plt.xlabel('Sample')\n",
    "plt.ylabel('Amplitude')\n",
    "plt.title('Captured Traces')\n",
    "for i in range(min(maxtrace, acqConf['traceNum'])):\n",
    "    trace = np.load(traceFile)\n",
    "    plt.plot(trace)\n",
    "\n",
    "plt.savefig(os.path.join(captureDir, 'traces.png'),facecolor=fig.get_facecolor())\n",
    "# plt.close()\n",
    "traceFile.close()"
   ]
  },
  {
   "cell_type": "code",
   "execution_count": null,
   "metadata": {},
   "outputs": [
    {
     "ename": "",
     "evalue": "",
     "output_type": "error",
     "traceback": [
      "\u001b[1;31mThe kernel failed to start due to the missing module 'decorator'. Consider installing this module.\n",
      "\u001b[1;31mClick <a href='https://aka.ms/kernelFailuresMissingModule'>here</a> for more info."
     ]
    }
   ],
   "source": [
    "print(result)"
   ]
  },
  {
   "cell_type": "markdown",
   "metadata": {},
   "source": [
    "## Correlation Power Analysis"
   ]
  },
  {
   "cell_type": "code",
   "execution_count": null,
   "metadata": {},
   "outputs": [
    {
     "ename": "",
     "evalue": "",
     "output_type": "error",
     "traceback": [
      "\u001b[1;31mThe kernel failed to start due to the missing module 'decorator'. Consider installing this module.\n",
      "\u001b[1;31mClick <a href='https://aka.ms/kernelFailuresMissingModule'>here</a> for more info."
     ]
    }
   ],
   "source": [
    "import foboslib.cpa as cpa\n",
    "import foboslib.traceset as traceset\n",
    "import foboslib.powermodels.AESFirstLast as powermodel #code to calculate hypothetical power\n",
    "import foboslib.powermodels.utils as powermodelUtils"
   ]
  },
  {
   "cell_type": "code",
   "execution_count": null,
   "metadata": {},
   "outputs": [
    {
     "ename": "",
     "evalue": "",
     "output_type": "error",
     "traceback": [
      "\u001b[1;31mThe kernel failed to start due to the missing module 'decorator'. Consider installing this module.\n",
      "\u001b[1;31mClick <a href='https://aka.ms/kernelFailuresMissingModule'>here</a> for more info."
     ]
    }
   ],
   "source": [
    "# Configure project directories\n",
    "WORKSPACE = os.path.dirname(captureDir)           # or specify other directory if needed\n",
    "ATTEMPT_DIR = os.path.basename(captureDir)        # or specify other directory if needed, e.g., \"attempt-24\""
   ]
  },
  {
   "cell_type": "code",
   "execution_count": null,
   "metadata": {},
   "outputs": [
    {
     "ename": "",
     "evalue": "",
     "output_type": "error",
     "traceback": [
      "\u001b[1;31mThe kernel failed to start due to the missing module 'decorator'. Consider installing this module.\n",
      "\u001b[1;31mClick <a href='https://aka.ms/kernelFailuresMissingModule'>here</a> for more info."
     ]
    }
   ],
   "source": [
    "# Create analysis project directory\n",
    "pm = projmgr.ProjectManager()\n",
    "pm.setWorkSpaceDir(WORKSPACE)\n",
    "pm.setProjName(ATTEMPT_DIR)\n",
    "projDir = pm.getProjDir()\n",
    "analysisDir = pm.getAnalysisDir()"
   ]
  },
  {
   "cell_type": "code",
   "execution_count": null,
   "metadata": {},
   "outputs": [
    {
     "ename": "",
     "evalue": "",
     "output_type": "error",
     "traceback": [
      "\u001b[1;31mThe kernel failed to start due to the missing module 'decorator'. Consider installing this module.\n",
      "\u001b[1;31mClick <a href='https://aka.ms/kernelFailuresMissingModule'>here</a> for more info."
     ]
    }
   ],
   "source": [
    "# read acquisition settings\n",
    "cpaConf = {}\n",
    "configFile = open(os.path.join(projDir, 'acquisitionConfig.json'))\n",
    "acqConf = json.load(configFile)\n",
    "configFile.close()\n",
    "print(f'Acquisition config = {acqConf}')\n",
    "cpaConf['traceNum'] = acqConf['traceNum']\n",
    "\n",
    "# Configure file names\n",
    "HYPO_FILE = os.path.join(projDir, \"hypotheticalPower.npy\")\n",
    "TRACES_FILE = os.path.join(projDir, acqConf['traceFile'])\n",
    "PLAIN_TEXT = os.path.join(projDir, acqConf['plainFile'])\n",
    "CIPHER_TEXT = os.path.join(projDir, acqConf['cipherFile'])"
   ]
  },
  {
   "cell_type": "code",
   "execution_count": null,
   "metadata": {},
   "outputs": [
    {
     "ename": "",
     "evalue": "",
     "output_type": "error",
     "traceback": [
      "\u001b[1;31mThe kernel failed to start due to the missing module 'decorator'. Consider installing this module.\n",
      "\u001b[1;31mClick <a href='https://aka.ms/kernelFailuresMissingModule'>here</a> for more info."
     ]
    }
   ],
   "source": [
    "# Create hypothetical power model\n",
    "\n",
    "#if os.path.isfile(HYPO_FILE):\n",
    "    # already exists. load it\n",
    "#    hypotheticalPower = powermodelUtils.loadHypoPower(HYPO_FILE)\n",
    "#else:\n",
    "    # not there. generate it\n",
    "hypotheticalPower = powermodel.getHypotheticalPower(PLAIN_TEXT, CIPHER_TEXT, cpaConf['traceNum'])\n",
    "powermodelUtils.saveHypoPower(hypotheticalPower, HYPO_FILE)\n",
    "## end if\n",
    "powermodelUtils.showHypoPower(hypotheticalPower, plainFile=PLAIN_TEXT, cipherFile=CIPHER_TEXT)"
   ]
  },
  {
   "cell_type": "code",
   "execution_count": null,
   "metadata": {},
   "outputs": [
    {
     "ename": "",
     "evalue": "",
     "output_type": "error",
     "traceback": [
      "\u001b[1;31mThe kernel failed to start due to the missing module 'decorator'. Consider installing this module.\n",
      "\u001b[1;31mClick <a href='https://aka.ms/kernelFailuresMissingModule'>here</a> for more info."
     ]
    }
   ],
   "source": [
    "# load traces from file and crop them.\n",
    "cpaConf['cropStart'] = 408\n",
    "cpaConf['cropEnd'] = 412\n",
    "traceSet = traceset.TraceSet(traceNum=cpaConf['traceNum'],\n",
    "                            fileName=TRACES_FILE,\n",
    "                            cropStart=cpaConf['cropStart'],\n",
    "                            cropEnd=cpaConf['cropEnd'])\n",
    "\n",
    "measuredPower = traceSet.traces\n",
    "print(f'The shape of the traces matrix is {measuredPower.shape}')\n",
    "\n",
    "\n",
    "maxtrace = 100\n",
    "fig = plt.figure()\n",
    "fig.patch.set_facecolor('white')\n",
    "plt.rcParams.update({'font.size': 18})\n",
    "traceFile = open(traceFileName, \"r+b\")\n",
    "maxtrace = 100\n",
    "plt.figure(figsize=(10,8))\n",
    "plt.xlabel('Sample')\n",
    "plt.ylabel('Amplitdue')\n",
    "plt.title('Cropped Traces')\n",
    "for i in range(min(maxtrace, cpaConf['traceNum'])):\n",
    "    plt.plot(measuredPower[i])\n",
    "plt.savefig(os.path.join(analysisDir, 'cropped_traces.png'),facecolor=fig.get_facecolor())"
   ]
  },
  {
   "cell_type": "code",
   "execution_count": null,
   "metadata": {},
   "outputs": [
    {
     "ename": "",
     "evalue": "",
     "output_type": "error",
     "traceback": [
      "\u001b[1;31mThe kernel failed to start due to the missing module 'decorator'. Consider installing this module.\n",
      "\u001b[1;31mClick <a href='https://aka.ms/kernelFailuresMissingModule'>here</a> for more info."
     ]
    }
   ],
   "source": [
    "# Configure the attack\n",
    "numKeys = 16              # number of subkey bytes to attack\n",
    "cpaConf['plot'] = True    # generate plots, [True|False]\n",
    "#####################\n",
    "# Run the attack\n",
    "cpaAttacker = cpa.CPA()\n",
    "C = cpaAttacker.doCPA(measuredPower=measuredPower,\n",
    "                      hypotheticalPower=hypotheticalPower,\n",
    "                      numTraces= cpaConf['traceNum'],\n",
    "                      analysisDir=analysisDir,\n",
    "                      MTDStride= 100,\n",
    "                      numKeys = numKeys,\n",
    "                      plot= cpaConf['plot'], # enable/disable plots\n",
    "                      plotSize=(10,8),\n",
    "                      plotFontSize=18\n",
    "                      )"
   ]
  },
  {
   "cell_type": "code",
   "execution_count": null,
   "metadata": {},
   "outputs": [
    {
     "ename": "",
     "evalue": "",
     "output_type": "error",
     "traceback": [
      "\u001b[1;31mThe kernel failed to start due to the missing module 'decorator'. Consider installing this module.\n",
      "\u001b[1;31mClick <a href='https://aka.ms/kernelFailuresMissingModule'>here</a> for more info."
     ]
    }
   ],
   "source": [
    "# Writing analysis configuration to file.\n",
    "configFile = open(os.path.join(analysisDir, 'analysisConfig.json'), \"w\")\n",
    "configFile.write(json.dumps(cpaConf, indent=4))\n",
    "configFile.close()"
   ]
  },
  {
   "cell_type": "code",
   "execution_count": null,
   "metadata": {},
   "outputs": [
    {
     "ename": "",
     "evalue": "",
     "output_type": "error",
     "traceback": [
      "\u001b[1;31mThe kernel failed to start due to the missing module 'decorator'. Consider installing this module.\n",
      "\u001b[1;31mClick <a href='https://aka.ms/kernelFailuresMissingModule'>here</a> for more info."
     ]
    }
   ],
   "source": []
  }
 ],
 "metadata": {
  "kernelspec": {
   "display_name": "Python 3.9.6 64-bit",
   "language": "python",
   "name": "python3"
  },
  "language_info": {
   "codemirror_mode": {
    "name": "ipython",
    "version": 3
   },
   "file_extension": ".py",
   "mimetype": "text/x-python",
   "name": "python",
   "nbconvert_exporter": "python",
   "pygments_lexer": "ipython3",
   "version": "3.8.10"
  },
  "vscode": {
   "interpreter": {
    "hash": "31f2aee4e71d21fbe5cf8b01ff0e069b9275f58929596ceb00d14d90e3e16cd6"
   }
  }
 },
 "nbformat": 4,
 "nbformat_minor": 4
}
