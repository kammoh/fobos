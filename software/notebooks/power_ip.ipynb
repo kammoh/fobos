{
 "cells": [
  {
   "cell_type": "code",
   "execution_count": 1,
   "metadata": {},
   "outputs": [
    {
     "data": {
      "application/javascript": [
       "\n",
       "require(['notebook/js/codecell'], function(codecell) {\n",
       "  codecell.CodeCell.options_default.highlight_modes[\n",
       "      'magic_text/x-csrc'] = {'reg':[/^%%microblaze/]};\n",
       "  Jupyter.notebook.events.one('kernel_ready.Kernel', function(){\n",
       "      Jupyter.notebook.get_cells().map(function(cell){\n",
       "          if (cell.cell_type == 'code'){ cell.auto_highlight(); } }) ;\n",
       "  });\n",
       "});\n"
      ]
     },
     "metadata": {},
     "output_type": "display_data"
    }
   ],
   "source": [
    "from pynq import Overlay\n",
    "from pynq import MMIO"
   ]
  },
  {
   "cell_type": "code",
   "execution_count": 2,
   "metadata": {},
   "outputs": [],
   "source": [
    "ol = Overlay(\"../fobos.bit\")"
   ]
  },
  {
   "cell_type": "code",
   "execution_count": 4,
   "metadata": {},
   "outputs": [
    {
     "data": {
      "text/plain": [
       "{'axi_dma_0': {'addr_range': 65536,\n",
       "  'driver': pynq.lib.dma.DMA,\n",
       "  'fullpath': 'axi_dma_0',\n",
       "  'gpio': {},\n",
       "  'interrupts': {'mm2s_introut': {'controller': 'axi_intc_0',\n",
       "    'fullpath': 'axi_dma_0/mm2s_introut',\n",
       "    'index': 0},\n",
       "   's2mm_introut': {'controller': 'axi_intc_0',\n",
       "    'fullpath': 'axi_dma_0/s2mm_introut',\n",
       "    'index': 1}},\n",
       "  'phys_addr': 1077936128,\n",
       "  'state': None,\n",
       "  'type': 'xilinx.com:ip:axi_dma:7.1'},\n",
       " 'axi_dma_1': {'addr_range': 65536,\n",
       "  'driver': pynq.lib.dma.DMA,\n",
       "  'fullpath': 'axi_dma_1',\n",
       "  'gpio': {},\n",
       "  'interrupts': {'s2mm_introut': {'controller': 'axi_intc_0',\n",
       "    'fullpath': 'axi_dma_1/s2mm_introut',\n",
       "    'index': 2}},\n",
       "  'phys_addr': 1078001664,\n",
       "  'state': None,\n",
       "  'type': 'xilinx.com:ip:axi_dma:7.1'},\n",
       " 'axi_iic_0': {'addr_range': 65536,\n",
       "  'driver': pynq.overlay.DefaultIP,\n",
       "  'fullpath': 'axi_iic_0',\n",
       "  'gpio': {},\n",
       "  'interrupts': {},\n",
       "  'phys_addr': 1096810496,\n",
       "  'state': None,\n",
       "  'type': 'xilinx.com:ip:axi_iic:2.0'},\n",
       " 'axi_intc_0': {'addr_range': 65536,\n",
       "  'driver': pynq.overlay.DefaultIP,\n",
       "  'fullpath': 'axi_intc_0',\n",
       "  'gpio': {},\n",
       "  'interrupts': {},\n",
       "  'phys_addr': 1098907648,\n",
       "  'state': None,\n",
       "  'type': 'xilinx.com:ip:axi_intc:4.1'},\n",
       " 'clk_wiz': {'addr_range': 65536,\n",
       "  'driver': pynq.overlay.DefaultIP,\n",
       "  'fullpath': 'clk_wiz',\n",
       "  'gpio': {},\n",
       "  'interrupts': {},\n",
       "  'phys_addr': 1136787456,\n",
       "  'state': None,\n",
       "  'type': 'xilinx.com:ip:clk_wiz:5.4'},\n",
       " 'clk_wiz_adc': {'addr_range': 65536,\n",
       "  'driver': pynq.overlay.DefaultIP,\n",
       "  'fullpath': 'clk_wiz_adc',\n",
       "  'gpio': {},\n",
       "  'interrupts': {},\n",
       "  'phys_addr': 1136984064,\n",
       "  'state': None,\n",
       "  'type': 'xilinx.com:ip:clk_wiz:5.4'},\n",
       " 'dut_controller_0': {'addr_range': 65536,\n",
       "  'driver': pynq.overlay.DefaultIP,\n",
       "  'fullpath': 'dut_controller_0',\n",
       "  'gpio': {},\n",
       "  'interrupts': {},\n",
       "  'phys_addr': 1136721920,\n",
       "  'state': None,\n",
       "  'type': 'user.org:user:dut_controller:1.0'},\n",
       " 'dutcomm_0': {'addr_range': 65536,\n",
       "  'driver': pynq.overlay.DefaultIP,\n",
       "  'fullpath': 'dutcomm_0',\n",
       "  'gpio': {},\n",
       "  'interrupts': {},\n",
       "  'phys_addr': 1136656384,\n",
       "  'state': None,\n",
       "  'type': 'user.org:user:dutcomm:1.0'},\n",
       " 'openadc_interface_v1_0_0': {'addr_range': 65536,\n",
       "  'driver': pynq.overlay.DefaultIP,\n",
       "  'fullpath': 'openadc_interface_v1_0_0',\n",
       "  'gpio': {},\n",
       "  'interrupts': {},\n",
       "  'phys_addr': 1136918528,\n",
       "  'state': None,\n",
       "  'type': 'xilinx.com:user:openadc_interface_v1_0:1.0'},\n",
       " 'powermanager_0': {'addr_range': 65536,\n",
       "  'driver': pynq.overlay.DefaultIP,\n",
       "  'fullpath': 'powermanager_0',\n",
       "  'gpio': {},\n",
       "  'interrupts': {},\n",
       "  'phys_addr': 1136852992,\n",
       "  'state': None,\n",
       "  'type': 'CERG:user:powermanager:1.0'}}"
      ]
     },
     "execution_count": 4,
     "metadata": {},
     "output_type": "execute_result"
    }
   ],
   "source": [
    "ol.ip_dict"
   ]
  },
  {
   "cell_type": "code",
   "execution_count": 5,
   "metadata": {},
   "outputs": [],
   "source": [
    "power_addr = ol.ip_dict[\"powermanager_0\"][\"phys_addr\"]"
   ]
  },
  {
   "cell_type": "code",
   "execution_count": 6,
   "metadata": {},
   "outputs": [],
   "source": [
    "power_addr_range = ol.ip_dict[\"powermanager_0\"][\"addr_range\"]"
   ]
  },
  {
   "cell_type": "code",
   "execution_count": 7,
   "metadata": {},
   "outputs": [],
   "source": [
    "power = MMIO(power_addr, power_addr_range)"
   ]
  },
  {
   "cell_type": "code",
   "execution_count": 8,
   "metadata": {},
   "outputs": [],
   "source": [
    "# Registers\n",
    "power_command       = 0x00\n",
    "power_status        = 0x04\n",
    "power_volt3v3       = 0x08\n",
    "power_current3v3    = 0x0C\n",
    "power_volt5v        = 0x10\n",
    "power_current5v     = 0x14\n",
    "power_avgvolt3v3    = 0x18\n",
    "power_maxvolt3v3    = 0x1C\n",
    "power_avgcurrent3v3 = 0x20\n",
    "power_maxcurrent3v3 = 0x24\n",
    "power_avgvolt5v     = 0x28\n",
    "power_maxvolt5v     = 0x2C\n",
    "power_avgcurrent5v  = 0x30\n",
    "power_maxcurrent5v  = 0x34\n",
    "power_volt_output   = 0x38\n",
    "power_sampelcount   = 0x3C\n",
    "\n",
    "# Commands\n",
    "power_out_enable    = 0x01\n",
    "power_clear         = 0x02\n",
    "power_gain3v3cur    = 0x04\n",
    "power_gain5vcur     = 0x10\n",
    "power_trigenhw      = 0x40\n",
    "power_trigsw        = 0x80\n",
    "\n",
    "# Status\n",
    "power_out_good      = 0x000\n",
    "power_busy          = 0x002\n",
    "#power_gain3v3cur    = 0x04\n",
    "#power_gain5vcur     = 0x10\n",
    "power_triggdhw      = 0x040\n",
    "power_triggdsw      = 0x080\n",
    "power_oflowsw       = 0x100\n",
    "\n",
    "\n",
    "# Measurement Parameters\n",
    "xadc_resolution = 65535  # 2^16 -1\n",
    "xadc_max = 5 # Volt\n",
    "xbp_shunt = 0.1 # Ohm, should be 0.1\n",
    "xbp_gain = 25 # at least 25\n",
    "pynq_vss = 5 # Volt Normally 5V\n",
    "# Functions\n",
    "def powerval(register):\n",
    "    return pynq_vss * (( xadc_max/xadc_resolution * power.read(register) / (xbp_shunt * xbp_gain)))\n",
    "def power_volt(register):\n",
    "    return (xadc_max/xadc_resolution * power.read(register))\n",
    "def power_current(register):\n",
    "    return ( xadc_max/xadc_resolution * power.read(register) / (xbp_shunt * xbp_gain))\n",
    "\n",
    "\n",
    "\n"
   ]
  },
  {
   "cell_type": "code",
   "execution_count": 9,
   "metadata": {},
   "outputs": [],
   "source": [
    "power.write(power_command, power_clear)"
   ]
  },
  {
   "cell_type": "code",
   "execution_count": 9,
   "metadata": {},
   "outputs": [
    {
     "data": {
      "text/plain": [
       "0"
      ]
     },
     "execution_count": 9,
     "metadata": {},
     "output_type": "execute_result"
    }
   ],
   "source": [
    "power.read(power_command)"
   ]
  },
  {
   "cell_type": "code",
   "execution_count": 46,
   "metadata": {},
   "outputs": [],
   "source": [
    "power.write(power_command,0x00)"
   ]
  },
  {
   "cell_type": "code",
   "execution_count": 47,
   "metadata": {},
   "outputs": [
    {
     "data": {
      "text/plain": [
       "0"
      ]
     },
     "execution_count": 47,
     "metadata": {},
     "output_type": "execute_result"
    }
   ],
   "source": [
    "power.read(power_status)"
   ]
  },
  {
   "cell_type": "code",
   "execution_count": 26,
   "metadata": {},
   "outputs": [
    {
     "data": {
      "text/plain": [
       "41212"
      ]
     },
     "execution_count": 26,
     "metadata": {},
     "output_type": "execute_result"
    }
   ],
   "source": [
    "power.read(power_volt3v3)"
   ]
  },
  {
   "cell_type": "code",
   "execution_count": 27,
   "metadata": {},
   "outputs": [
    {
     "data": {
      "text/plain": [
       "3.315921263447013"
      ]
     },
     "execution_count": 27,
     "metadata": {},
     "output_type": "execute_result"
    }
   ],
   "source": [
    "power_volt(power_volt3v3)*1.055"
   ]
  },
  {
   "cell_type": "code",
   "execution_count": 16,
   "metadata": {},
   "outputs": [
    {
     "data": {
      "text/plain": [
       "0.08288352272727273"
      ]
     },
     "execution_count": 16,
     "metadata": {},
     "output_type": "execute_result"
    }
   ],
   "source": [
    "power_volt(power_volt5v)*(1/power_volt(power_volt5v)/10+1.04)"
   ]
  },
  {
   "cell_type": "code",
   "execution_count": 18,
   "metadata": {},
   "outputs": [
    {
     "data": {
      "text/plain": [
       "143"
      ]
     },
     "execution_count": 18,
     "metadata": {},
     "output_type": "execute_result"
    }
   ],
   "source": [
    "power.read(power_current3v3)"
   ]
  },
  {
   "cell_type": "code",
   "execution_count": 19,
   "metadata": {},
   "outputs": [
    {
     "data": {
      "text/plain": [
       "44852"
      ]
     },
     "execution_count": 19,
     "metadata": {},
     "output_type": "execute_result"
    }
   ],
   "source": [
    "power.read(power_volt5v)"
   ]
  },
  {
   "cell_type": "code",
   "execution_count": 18,
   "metadata": {},
   "outputs": [
    {
     "data": {
      "text/plain": [
       "326"
      ]
     },
     "execution_count": 18,
     "metadata": {},
     "output_type": "execute_result"
    }
   ],
   "source": [
    "power.read(power_current5v)"
   ]
  },
  {
   "cell_type": "code",
   "execution_count": 19,
   "metadata": {},
   "outputs": [
    {
     "data": {
      "text/plain": [
       "0"
      ]
     },
     "execution_count": 19,
     "metadata": {},
     "output_type": "execute_result"
    }
   ],
   "source": [
    "power.read(power_status)"
   ]
  },
  {
   "cell_type": "code",
   "execution_count": 20,
   "metadata": {},
   "outputs": [],
   "source": [
    "power.write(power_command, power_out_enable)"
   ]
  },
  {
   "cell_type": "code",
   "execution_count": 18,
   "metadata": {},
   "outputs": [],
   "source": [
    "power.write(power_volt_output, 0x00)"
   ]
  },
  {
   "cell_type": "code",
   "execution_count": 22,
   "metadata": {},
   "outputs": [],
   "source": [
    "power.write(power_command, power_clear)"
   ]
  },
  {
   "cell_type": "code",
   "execution_count": 21,
   "metadata": {},
   "outputs": [],
   "source": [
    "power.write(power_command, 0x0)"
   ]
  },
  {
   "cell_type": "code",
   "execution_count": 92,
   "metadata": {},
   "outputs": [],
   "source": [
    "power.write(power_command, power_trigsw | power_out_enable)"
   ]
  },
  {
   "cell_type": "code",
   "execution_count": 100,
   "metadata": {},
   "outputs": [
    {
     "data": {
      "text/plain": [
       "3.13751220703125"
      ]
     },
     "execution_count": 100,
     "metadata": {},
     "output_type": "execute_result"
    }
   ],
   "source": [
    "power_volt(power_avgvolt3v3)"
   ]
  },
  {
   "cell_type": "code",
   "execution_count": 101,
   "metadata": {},
   "outputs": [
    {
     "data": {
      "text/plain": [
       "3.14453125"
      ]
     },
     "execution_count": 101,
     "metadata": {},
     "output_type": "execute_result"
    }
   ],
   "source": [
    "power_volt(power_maxvolt3v3)"
   ]
  },
  {
   "cell_type": "code",
   "execution_count": 108,
   "metadata": {},
   "outputs": [
    {
     "data": {
      "text/plain": [
       "3.1386566162109375"
      ]
     },
     "execution_count": 108,
     "metadata": {},
     "output_type": "execute_result"
    }
   ],
   "source": [
    "power_volt(power_volt3v3)"
   ]
  },
  {
   "cell_type": "code",
   "execution_count": 13,
   "metadata": {},
   "outputs": [
    {
     "data": {
      "text/plain": [
       "0.011139085984588388"
      ]
     },
     "execution_count": 13,
     "metadata": {},
     "output_type": "execute_result"
    }
   ],
   "source": [
    "power_volt(power_volt5v)"
   ]
  },
  {
   "cell_type": "code",
   "execution_count": 104,
   "metadata": {},
   "outputs": [
    {
     "data": {
      "text/plain": [
       "1.040496826171875"
      ]
     },
     "execution_count": 104,
     "metadata": {},
     "output_type": "execute_result"
    }
   ],
   "source": [
    "power_volt(power_avgvolt5v)"
   ]
  },
  {
   "cell_type": "code",
   "execution_count": 105,
   "metadata": {},
   "outputs": [
    {
     "data": {
      "text/plain": [
       "1.0465240478515625"
      ]
     },
     "execution_count": 105,
     "metadata": {},
     "output_type": "execute_result"
    }
   ],
   "source": [
    "power_volt(power_maxvolt5v)"
   ]
  },
  {
   "cell_type": "code",
   "execution_count": 99,
   "metadata": {},
   "outputs": [],
   "source": [
    "power.write(power_command, power_out_enable)"
   ]
  },
  {
   "cell_type": "code",
   "execution_count": null,
   "metadata": {},
   "outputs": [],
   "source": []
  },
  {
   "cell_type": "code",
   "execution_count": 48,
   "metadata": {},
   "outputs": [
    {
     "data": {
      "text/plain": [
       "0"
      ]
     },
     "execution_count": 48,
     "metadata": {},
     "output_type": "execute_result"
    }
   ],
   "source": [
    "power.read(power_status)"
   ]
  },
  {
   "cell_type": "code",
   "execution_count": 106,
   "metadata": {},
   "outputs": [
    {
     "data": {
      "text/plain": [
       "1048575"
      ]
     },
     "execution_count": 106,
     "metadata": {},
     "output_type": "execute_result"
    }
   ],
   "source": [
    "power.read(power_sampelcount)"
   ]
  },
  {
   "cell_type": "code",
   "execution_count": 108,
   "metadata": {
    "collapsed": true
   },
   "outputs": [],
   "source": []
  },
  {
   "cell_type": "code",
   "execution_count": 91,
   "metadata": {},
   "outputs": [],
   "source": []
  },
  {
   "cell_type": "code",
   "execution_count": null,
   "metadata": {},
   "outputs": [
    {
     "name": "stdout",
     "output_type": "stream",
     "text": [
      "Code, ADC Value, ADC Volts, Actual Volts\n",
      "0 , 44861 , 3.4243533989471273 , 3.65\n",
      "1 , 44182 , 3.37270160982681 , 3.6\n",
      "2 , 43564 , 3.323414969100481 , 3.55\n",
      "3 , 42872 , 3.273823147936217 , 3.5\n",
      "4 , 42259 , 3.223086900129702 , 3.45\n",
      "5 , 41602 , 3.1730373083085373 , 3.4\n",
      "6 , 40941 , 3.1217669947356375 , 3.35\n",
      "7 , 40238 , 3.075455863279164 , 3.3\n",
      "8 , 39645 , 3.0241092545967803 , 3.25\n",
      "9 , 39002 , 2.9790188448920425 , 3.2\n",
      "10 , 38337 , 2.9253833829251543 , 3.15\n",
      "11 , 37687 , 2.874799725337606 , 3.1\n",
      "12 , 37020 , 2.826352330815595 , 3.05\n",
      "13 , 36416 , 2.777065690089265 , 3.0\n",
      "14 , 35711 , 2.7278553444724194 , 2.95\n",
      "15 , 35080 , 2.6756694895857174 , 2.9\n",
      "16 , 34530 , 2.6346990157930876 , 2.85\n",
      "17 , 33877 , 2.583962767986572 , 2.8\n",
      "18 , 33225 , 2.5357442587930112 , 2.75\n",
      "19 , 32561 , 2.485847257190814 , 2.7\n",
      "20 , 31949 , 2.4361028458075835 , 2.65\n",
      "21 , 31290 , 2.388189517051957 , 2.6\n",
      "22 , 30627 , 2.3356984817273214 , 2.55\n",
      "23 , 29951 , 2.28549629968719 , 2.5\n",
      "24 , 29336 , 2.242923628595407 , 2.45\n",
      "25 , 28663 , 2.18646524757763 , 2.4\n",
      "26 , 28022 , 2.139620050354772 , 2.35\n",
      "27 , 27358 , 2.087510490577554 , 2.3\n",
      "28 , 26729 , 2.0404364080262454 , 2.25\n",
      "29 , 26065 , 1.991607537956817 , 2.2\n",
      "30 , 25478 , 1.940642404821851 , 2.15\n",
      "31 , 24787 , 1.8903639276722362 , 2.1\n",
      "32 , 24317 , 1.8544289311055162 , 2.05\n",
      "33 , 23688 , 1.804074158846418 , 2.0\n",
      "34 , 23030 , 1.756923781185626 , 1.95\n",
      "35 , 22386 , 1.7077897306782635 , 1.9\n",
      "36 , 21753 , 1.6584267948424507 , 1.85\n",
      "37 , 21100 , 1.6096742198825056 , 1.8\n",
      "38 , 20469 , 1.5610742351415274 , 1.75\n",
      "39 , 19844 , 1.5100328068970779 , 1.7\n",
      "40 , 19191 , 1.4652475776302738 , 1.65\n",
      "41 , 18540 , 1.4140535591668575 , 1.6\n",
      "42 , 17933 , 1.3689631494621195 , 1.55\n",
      "43 , 17286 , 1.3188372625314717 , 1.5\n",
      "44 , 16670 , 1.274433508812085 , 1.45\n",
      "45 , 16045 , 1.2276646066987107 , 1.4\n",
      "46 , 15445 , 1.1793698023956665 , 1.35\n",
      "47 , 14848 , 1.132448310063325 , 1.3\n",
      "48 , 14281 , 1.0891889829861905 , 1.25\n",
      "49 , 13665 , 1.0439459830624858 , 1.2\n",
      "50 , 13060 , 0.9968719005111772 , 1.15\n",
      "51 , 12466 , 0.9523918516823071 , 1.1\n",
      "52 , 11849 , 0.9050125886930648 , 1.05\n",
      "53 , 11296 , 0.861829556725414 , 1.0\n",
      "54 , 10732 , 0.8137636377508202 , 0.95\n",
      "55 , 10051 , 0.7713435568780042 , 0.9\n"
     ]
    }
   ],
   "source": [
    "# JP1 must be in the VAR position\n",
    "# J18 must be closed\n",
    "# Nothing should be connected to the Target connector\n",
    "import time\n",
    "power.write(power_volt_output, 0x00)\n",
    "power.write(power_command, power_out_enable)\n",
    "print(\"Code, ADC Value, ADC Volts, Actual Volts\")\n",
    "for i in range(2**6):\n",
    "    power.write(power_volt_output, i)\n",
    "    time.sleep(1)\n",
    "    t = 0\n",
    "    while (power.read(power_status) & 0x01) != 0x01 and t <=10:\n",
    "        t=t+1\n",
    "        time.sleep(0.1)\n",
    "    print(i, \",\", power.read(power_volt5v), \",\", power_volt(power_volt5v), \",\" , (365-i*5)/100 )    \n",
    "power.write(power_command, 0x0)\n",
    "time.sleep(1)\n",
    "print(\"Off\", \",\", power.read(power_volt5v), \",\", power_volt(power_volt5v), \",\" , 0)\n",
    "\n"
   ]
  },
  {
   "cell_type": "code",
   "execution_count": null,
   "metadata": {
    "collapsed": true
   },
   "outputs": [],
   "source": []
  }
 ],
 "metadata": {
  "kernelspec": {
   "display_name": "Python 3",
   "language": "python",
   "name": "python3"
  },
  "language_info": {
   "codemirror_mode": {
    "name": "ipython",
    "version": 3
   },
   "file_extension": ".py",
   "mimetype": "text/x-python",
   "name": "python",
   "nbconvert_exporter": "python",
   "pygments_lexer": "ipython3",
   "version": "3.6.0"
  }
 },
 "nbformat": 4,
 "nbformat_minor": 2
}
