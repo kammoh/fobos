{
 "cells": [
  {
   "cell_type": "code",
   "execution_count": 1,
   "metadata": {},
   "outputs": [
    {
     "ename": "ModuleNotFoundError",
     "evalue": "No module named 'fobos'",
     "output_type": "error",
     "traceback": [
      "\u001b[0;31m---------------------------------------------------------------------------\u001b[0m",
      "\u001b[0;31mModuleNotFoundError\u001b[0m                       Traceback (most recent call last)",
      "Input \u001b[0;32mIn [1]\u001b[0m, in \u001b[0;36m<cell line: 6>\u001b[0;34m()\u001b[0m\n\u001b[1;32m      4\u001b[0m \u001b[38;5;28;01mimport\u001b[39;00m \u001b[38;5;21;01mshutil\u001b[39;00m\n\u001b[1;32m      5\u001b[0m \u001b[38;5;28;01mimport\u001b[39;00m \u001b[38;5;21;01mnumpy\u001b[39;00m\n\u001b[0;32m----> 6\u001b[0m \u001b[38;5;28;01mimport\u001b[39;00m \u001b[38;5;21;01mfobos\u001b[39;00m\n\u001b[1;32m      7\u001b[0m WORKSPACE \u001b[38;5;241m=\u001b[39m \u001b[38;5;124m\"\u001b[39m\u001b[38;5;124m/home/xilinx/fobosworkspace\u001b[39m\u001b[38;5;124m\"\u001b[39m\n\u001b[1;32m      8\u001b[0m PROJECT_NAME \u001b[38;5;241m=\u001b[39m\u001b[38;5;124m\"\u001b[39m\u001b[38;5;124maes_tvla\u001b[39m\u001b[38;5;124m\"\u001b[39m\n",
      "\u001b[0;31mModuleNotFoundError\u001b[0m: No module named 'fobos'"
     ]
    }
   ],
   "source": [
    "import binascii\n",
    "import time\n",
    "import os\n",
    "import shutil\n",
    "import numpy\n",
    "import foboslib\n",
    "WORKSPACE = \"/home/xilinx/fobosworkspace\"\n",
    "PROJECT_NAME =\"aes_tvla\"\n",
    "DIN_FILE_NAME = \"dinFileFVR.txt\"\n",
    "CIPHER_FILE = \"ciphertext.txt\"\n",
    "FVR_FILE_NAME = \"fvrChoice.txt\"\n",
    "TRACE_FILE = \"powerTrace.npy\"\n",
    "DUT_BIT_FILE = \"FOBOS_DUT.bit\"\n",
    "TRACE_NUM = 10\n",
    "OUT_LEN = 16\n",
    "\n",
    "\n",
    "\n",
    "#Scope ########################################################################################################\n",
    "scopConfig = {\n",
    "         'OSCILLOSCOPE'       : 'AGILENT', #AGILENT|OPENADC\n",
    "         'OSCILLOSCOPE_IP'    : 'localhost',\n",
    "         'OSCILLOSCOPE_PORT'  : '5025',\n",
    "         'AUTOSCALE'          : 'NO',   # YES|NO    \n",
    "         'IMPEDANCE'          : 'ONEMEG', #FIFTY|ONEMEG\n",
    "         # VOLTAGE AND TIME RANGE OPTIONS        \n",
    "         'CHANNEL1_RANGE'     : '0.100V',\n",
    "         'CHANNEL2_RANGE'     : '6V',\n",
    "         'CHANNEL3_RANGE'     : 'OFF', # ON|OFF|voltage range\n",
    "         'CHANNEL4_RANGE'     : 'OFF', # ON|OFF|voltage range\n",
    "         'TIME_RANGE'         :  '0.000003',\n",
    "         'TIMEBASE_REF'       : 'LEFT',    \n",
    "         # TRIGGER OPTIONS\n",
    "         'TRIGGER_SOURCE'     : 'CHANNEL2',\n",
    "         'TRIGGER_MODE'       : 'EDGE',   \n",
    "         'TRIGGER_SWEEP'      : 'NORM',\n",
    "         'TRIGGER_LEVEL'      : '0.5',\n",
    "         'TRIGGER_SLOPE'      : 'POSITIVE',\n",
    "         # ACQUIRE OPTIONS\n",
    "         'ACQUIRE_TYPE'       : 'NORM', # NORM|PEAK|HRES|AVER\n",
    "         'ACQUIRE_MODE'       : 'RTIM'   # RTIM | ETIM| SEG\n",
    "}\n",
    "scope = fobos.Scope()\n",
    "scope.setConfig(scopConfig)\n",
    "print(scope.getConfig())\n",
    "scope.openConnection()\n",
    "scope.applyConfig()\n",
    "\n"
   ]
  },
  {
   "cell_type": "code",
   "execution_count": 24,
   "metadata": {
    "collapsed": true,
    "jupyter": {
     "outputs_hidden": true
    },
    "tags": []
   },
   "outputs": [],
   "source": [
    "#dutcomm register offsets\n",
    "dutcomm_START       = 0x00\n",
    "dutcomm_STATUS      = 0x04\n",
    "dutcomm_EXP_OUT_LEN = 0x0c\n",
    "##########################\n",
    "#dutctrl register offsets\n",
    "dutctrl_TRGLEN     = 0x00\n",
    "dutctrl_TRGWIAT    = 0x04\n",
    "dutctrl_TRGMODE    = 0x08\n",
    "#trigger settings\n",
    "TRG_NORM            = 0X00\n",
    "TRG_FULL            = 0x01\n",
    "TRG_NORM_CLK        = 0x02\n",
    "TRG_FULL_CLK        = 0x03\n",
    "##########################\n",
    "#config parameters\n",
    "OUT_LEN    = 4  # in 32 bit words\n",
    "TV_LEN              = 12 # in 32 bit words\n",
    "\n",
    "##########################\n",
    "import pynq.lib.dma\n",
    "from pynq import Xlnk\n",
    "import numpy as np\n",
    "from pynq import Overlay\n",
    "import sys\n",
    "import time\n",
    "##########################\n",
    "ol = Overlay(\"ctrl_top_wrapper.bit\")\n",
    "xlnk = Xlnk()\n",
    "dma = ol.axi_dma_0\n",
    "#help(ol)"
   ]
  },
  {
   "cell_type": "code",
   "execution_count": 25,
   "metadata": {
    "collapsed": true,
    "jupyter": {
     "outputs_hidden": true
    },
    "tags": []
   },
   "outputs": [],
   "source": [
    "dutcomm = ol.dutcomm_0\n",
    "#dutcomm.read(dutcomm_STATUS)\n",
    "dut_ctrl = ol.dut_controller_0\n"
   ]
  },
  {
   "cell_type": "code",
   "execution_count": 26,
   "metadata": {
    "collapsed": true,
    "jupyter": {
     "outputs_hidden": true
    }
   },
   "outputs": [],
   "source": [
    "#configure dutcomm expected_output_lenght\n",
    "dutcomm = ol.dutcomm_0\n",
    "dutcomm.write(dutcomm_EXP_OUT_LEN,4)\n",
    "#set trigger to full\n",
    "dut_ctrl.write(dutctrl_TRGMODE, TRG_FULL)\n"
   ]
  },
  {
   "cell_type": "code",
   "execution_count": 27,
   "metadata": {
    "collapsed": true,
    "jupyter": {
     "outputs_hidden": true
    }
   },
   "outputs": [],
   "source": [
    "#test vector\n",
    "tv = [0x00c00010, 0x59390499, 0x79b065ad, 0x57f2548b, 0x2b539aa1, \n",
    "      0x00c10010, 0x11352d06, 0xd4fc0fb3, 0xc0fda1b8, 0x94d8aa1f,\n",
    "      0x00810010, 0x00800001]"
   ]
  },
  {
   "cell_type": "code",
   "execution_count": 28,
   "metadata": {
    "collapsed": true,
    "jupyter": {
     "outputs_hidden": true
    }
   },
   "outputs": [],
   "source": [
    "#scope.arm()"
   ]
  },
  {
   "cell_type": "code",
   "execution_count": 29,
   "metadata": {},
   "outputs": [
    {
     "name": "stdout",
     "output_type": "stream",
     "text": [
      "Programming device using the following commands:\n",
      "sudo -u xilinx djtgcfg init -d Nexys3\n",
      "sudo -u xilinx djtgcfg prog -d Nexys3 -i 0 -f /home/xilinx/fobosworkspace/aes_tvla/FOBOS_DUT.bit\n",
      "b'Programming device. Do not touch your board. This may take a few minutes...\\nProgramming succeeded.\\n'\n",
      "Successfully created new capture directory at /home/xilinx/fobosworkspace/aes_tvla/capture/attempt-1\n",
      "Cutting trace parameters: start=43, end = 950\n",
      "Time elapsed = 1001.0979251861572 seconds.\n"
     ]
    }
   ],
   "source": [
    "##########################\n",
    "###configure worksapce\n",
    "pm = fobos.ProjectManager()\n",
    "pm.setWorkSpaceDir(WORKSPACE)\n",
    "pm.setProjName(PROJECT_NAME)\n",
    "projDir = pm.getProjDir()\n",
    "\n",
    "#program DUT\n",
    "dut = fobos.Nexys3DUT()\n",
    "bitFile = os.path.join(projDir, DUT_BIT_FILE)\n",
    "dut.setBitFile(bitFile)\n",
    "dut.program()\n",
    "##############\n",
    "tvFileName = os.path.join(projDir, DIN_FILE_NAME)\n",
    "tvFile = open(tvFileName, \"r\")\n",
    "captureDir = pm.getCaptureDir()\n",
    "cipherFileName = os.path.join(captureDir, CIPHER_FILE)\n",
    "cipherFile = open(cipherFileName, \"w\")\n",
    "traceFileName = os.path.join(captureDir, TRACE_FILE)\n",
    "traceFile = open(traceFileName, \"a+b\")\n",
    "shutil.copy(tvFileName, captureDir)\n",
    "fvrFileName = os.path.join(projDir, FVR_FILE_NAME)\n",
    "shutil.copy(fvrFileName, captureDir)\n",
    "#########################\n",
    "TRACE_NUM = 10000\n",
    "tic = time.time()\n",
    "input_buffer = xlnk.cma_array(shape=(TV_LEN,), dtype=np.uint32)\n",
    "output_buffer = xlnk.cma_array(shape=(OUT_LEN,), dtype=np.uint32)\n",
    "scope.arm()\n",
    "time.sleep(1)\n",
    "lines = tvFile.readlines()\n",
    "for traceNum in range(TRACE_NUM):\n",
    "    #get one line of dinFile and convert every 8 characters into 32bit int\n",
    "    #interpret data as hex\n",
    "    line = lines[traceNum].strip()\n",
    "    tv = [int(line[i:i+8],16) for i in range(0, len(line), 8)]\n",
    "    time.sleep(0.05) #this delay seem to be needed\n",
    "    for i in range(0, TV_LEN):\n",
    "       input_buffer[i] = tv[i]\n",
    "    \n",
    "    dma.recvchannel.transfer(output_buffer) #configure dma to receive\n",
    "    dma.sendchannel.transfer(input_buffer)  #configure dma to send \n",
    "    dma.sendchannel.wait()\n",
    "    dma.recvchannel.wait()\n",
    "    #get trigger once to use it to align\n",
    "    if traceNum == 0:\n",
    "        trigTrace = scope.readChannel('CHAN2')\n",
    "        #print(trigTrace)\n",
    "        start, end = scope.getCutPoints(trigTrace)\n",
    "        print(\"Cutting trace parameters: start=%d, end = %d\" % (start, end))\n",
    "    trace = scope.readChannel('CHAN1')[start:end]\n",
    "    #print(trace.shape)\n",
    "    #trace = trace[start:end]\n",
    "    if traceNum != TRACE_NUM - 1: #after you finish do not arm scope. It will hang\n",
    "        scope.arm()\n",
    "    #covert 32 bit int array into string\n",
    "    result = ''.join(['{:08x}'.format(output_buffer[i]) for i in range(0, 4)])\n",
    "    cipherFile.write(result + '\\n')\n",
    "    numpy.save(traceFile, trace)\n",
    "    if traceNum % 10 == 0:\n",
    "        sys.stdout.write(\"Progress: %d\\r\" % (traceNum/TRACE_NUM *100 ))\n",
    "        sys.stdout.flush()\n",
    "    #time.sleep(1)\n",
    "\n",
    "input_buffer.freebuffer()\n",
    "output_buffer.freebuffer()\n",
    "cipherFile.close()\n",
    "tvFile.close()\n",
    "traceFile.close()\n",
    "    \n",
    "toc = time.time()\n",
    "print(\"Time elapsed = {} seconds.\".format(toc - tic))"
   ]
  },
  {
   "cell_type": "code",
   "execution_count": 44,
   "metadata": {},
   "outputs": [
    {
     "name": "stdout",
     "output_type": "stream",
     "text": [
      "/home/xilinx/fobosworkspace/aes/capture/attempt-4/powerTrace.npy\n",
      "(907,)\n"
     ]
    },
    {
     "data": {
      "image/png": "[encoded data removed]",
      "text/plain": [
       "<matplotlib.figure.Figure at 0x1eb528b0>"
      ]
     },
     "metadata": {},
     "output_type": "display_data"
    }
   ],
   "source": [
    "import matplotlib.pyplot as plt\n",
    "f = open(traceFileName, 'rb')\n",
    "print(traceFileName)\n",
    "dataToPlot = numpy.load(f)\n",
    "plt.plot(dataToPlot)\n",
    "print(dataToPlot.shape)\n",
    "plt.show()"
   ]
  },
  {
   "cell_type": "code",
   "execution_count": null,
   "metadata": {
    "collapsed": true,
    "jupyter": {
     "outputs_hidden": true
    }
   },
   "outputs": [],
   "source": [
    "\n",
    "\n"
   ]
  }
 ],
 "metadata": {
  "kernelspec": {
   "display_name": "Python 3.9.6 64-bit",
   "language": "python",
   "name": "python3"
  },
  "language_info": {
   "codemirror_mode": {
    "name": "ipython",
    "version": 3
   },
   "file_extension": ".py",
   "mimetype": "text/x-python",
   "name": "python",
   "nbconvert_exporter": "python",
   "pygments_lexer": "ipython3",
   "version": "3.9.6"
  },
  "vscode": {
   "interpreter": {
    "hash": "31f2aee4e71d21fbe5cf8b01ff0e069b9275f58929596ceb00d14d90e3e16cd6"
   }
  }
 },
 "nbformat": 4,
 "nbformat_minor": 4
}
