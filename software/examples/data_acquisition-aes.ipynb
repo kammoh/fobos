{
 "cells": [
  {
   "cell_type": "markdown",
   "metadata": {},
   "source": [
    "## Data Acquisition Example\n"
   ]
  },
  {
   "cell_type": "code",
   "execution_count": null,
   "metadata": {},
   "outputs": [],
   "source": [
    "# import libraries\n",
    "import os\n",
    "import sys\n",
    "import shutil\n",
    "import json\n",
    "import numpy as np\n",
    "import foboslib.pynqctrl\n",
    "from foboslib.fobosctrl import FOBOSCtrl\n",
    "from foboslib.fobosTVGen import FobosTVGen\n",
    "import foboslib.projmgr\n",
    "import foboslib.nexys3dut\n",
    "#######################################################\n",
    "# Acquisition Configuration\n",
    "acqConf = {}\n",
    "# Connection to Control Board\n",
    "acqConf['ip'] = '192.168.10.99'\n",
    "acqConf['port'] = 9995\n",
    "# File Names and Locations\n",
    "acqConf['workspace'] = \"fobosworkspace\"     # Folder to store projects\n",
    "acqConf['projectName'] = \"aes\"              # Name of this project. Files will be in workspace/projectName/\n",
    "acqConf['keyFile'] = \"key.txt\"              # key used for encryption / decryption\n",
    "acqConf['bitFile'] = \"half_duplex_dut.bit\"  # Bitstream for programming the DUT (target) \n",
    "acqConf['plainFile'] = \"plaintext.txt\"      # plaintext in hex\n",
    "acqConf['dinFile'] = \"dinFile.txt\"          # test vectors in FOBOS format incl. plaintext and key\n",
    "acqConf['cipherFile'] = \"ciphertext.txt\"    # observed ciphertext, result from applying test vectors\n",
    "acqConf['traceFile']  = \"powerTraces.npy\"   # Name of file for recording power traces\n",
    "# Cipher Specific Information\n",
    "acqConf['blockSize'] = 16                     # size of a block of plaintext in bytes\n",
    "acqConf['cipherSize'] =  16                   # size of a block of ciphertext in bytes\n",
    "acqConf['keySize'] =  16                      # size of the key in bytes"
   ]
  },
  {
   "cell_type": "code",
   "execution_count": null,
   "metadata": {},
   "outputs": [],
   "source": [
    "#Acquistion configuration\n",
    "acqConf['traceNum'] = 10             # number of traces to run [default: 10]\n",
    "acqConf['DUTClk'] = 5                 # clock frequency of the DUT in MHz, [range: 1 - 100]\n",
    "acqConf['samplingFreq'] =  20          # sampling frequency of the Oscilloscope in Msps [default: 50][range: 1 - 100]\n",
    "acqConf['samplesPerTrace'] = 200        # number of sample in one trace [range: 1 - 2^17]\n",
    "acqConf['ADCGain'] = 40              # amplification of ADC input signal [default: 40][range: 0 - 60]"
   ]
  },
  {
   "cell_type": "code",
   "execution_count": null,
   "metadata": {},
   "outputs": [],
   "source": [
    "# Configure project directories\n",
    "pm = foboslib.projmgr.ProjectManager()\n",
    "pm.setWorkSpaceDir(acqConf['workspace'])\n",
    "pm.setProjName(acqConf['projectName'])\n",
    "projDir = pm.getProjDir()\n",
    "# Generate test vectors\n",
    "tvGen = FobosTVGen(traceNum=acqConf['traceNum'],\n",
    "                   blockSize=acqConf['blockSize'],\n",
    "                   keySize=acqConf['keySize'],\n",
    "                   cipherSize=acqConf['cipherSize'],\n",
    "                   dinFile= os.path.join(projDir, acqConf['dinFile']),\n",
    "                   plaintextFile=os.path.join(projDir, acqConf['plainFile']),\n",
    "                   keyFile=os.path.join(projDir, acqConf['keyFile'])\n",
    "                   )\n",
    "tvGen.generateTVs()"
   ]
  },
  {
   "cell_type": "code",
   "execution_count": null,
   "metadata": {
    "scrolled": true
   },
   "outputs": [],
   "source": [
    "# connect to hardware and lock it ######################################\n",
    "ctrl = foboslib.pynqctrl.PYNQCtrl(acqConf['ip'], acqConf['port'])\n",
    "# Apply config to ctrl board ###########################################\n",
    "try:\n",
    "    ctrl.setDUTClk(acqConf['DUTClk'])\n",
    "    ctrl.setDUTInterface(FOBOSCtrl.INTERFACE_4BIT)\n",
    "    ctrl.setOutLen(acqConf['cipherSize'])\n",
    "    ctrl.setTriggerMode(FOBOSCtrl.TRG_FULL)\n",
    "    # configure trace sampling #############################################\n",
    "    ctrl.setSamplingFrequency(acqConf['samplingFreq'])\n",
    "    ctrl.setADCGain(acqConf['ADCGain'])\n",
    "    ctrl.setSamplesPerTrace(acqConf['samplesPerTrace'])\n",
    "except Exception as e:\n",
    "    print(e)\n",
    "    ctrl.disconnect()\n",
    "else:\n",
    "    # program DUT ##########################################################\n",
    "    #dut = foboslib.nexys3dut.Nexys3DUT()\n",
    "    #bitFile = os.path.join(projDir, acqConf['bitFile'])\n",
    "    #dut.setBitFile(bitFile)\n",
    "    #dut.program()\n",
    "    # prepare i/o files ####################################################\n",
    "    tvFileName = os.path.join(projDir, acqConf['dinFile'])\n",
    "    plainFileName = os.path.join(projDir, acqConf['plainFile'])\n",
    "    tvFile = open(tvFileName, \"r\")\n",
    "    captureDir = pm.getCaptureDir()\n",
    "    cipherFileName = os.path.join(captureDir, acqConf['cipherFile'])\n",
    "    cipherFile = open(cipherFileName, \"w\")\n",
    "    traceFileName = os.path.join(captureDir, acqConf['traceFile'])\n",
    "    traceFile = open(traceFileName, \"a+b\")\n",
    "    shutil.copy(tvFileName, captureDir)\n",
    "    shutil.copy(plainFileName, captureDir)\n",
    "    # save config to a file\n",
    "    configFile = open(os.path.join(captureDir, 'acquisitionConfig.json'), \"w\")\n",
    "    configFile.write(json.dumps(acqConf, indent=4))\n",
    "    #configFile.write(ctrl.config)\n",
    "    #print(ctrl.config)\n",
    "    configFile.close()\n",
    "    # Get traces############################################################\n",
    "    print('Processing test vectors ...')\n",
    "    traceNum = 0\n",
    "    while traceNum < acqConf['traceNum']:\n",
    "        data = tvFile.readline()\n",
    "        status, result, trace = ctrl.processData2(data, acqConf['cipherSize'])\n",
    "        cipherFile.write(result + \"\\n\")\n",
    "        np.save(traceFile, trace)\n",
    "        if traceNum % 100 == 0:\n",
    "            sys.stdout.write('Progress:' + \"{:.2f}\".format(traceNum/acqConf['traceNum']*100) + '%\\r')\n",
    "            sys.stdout.flush()\n",
    "        traceNum += 1\n",
    "    print('Data acquisition complete.')\n",
    "    ctrl.disconnect() # release and reset control board.\n",
    "    traceFile.close()\n",
    "    cipherFile.close()\n",
    "    tvFile.close()"
   ]
  },
  {
   "cell_type": "code",
   "execution_count": null,
   "metadata": {},
   "outputs": [],
   "source": [
    "import matplotlib.pyplot as plt\n",
    "fig = plt.figure()\n",
    "fig.patch.set_facecolor('white')\n",
    "plt.rcParams.update({'font.size': 18})\n",
    "traceFile = open(traceFileName, \"r+b\")\n",
    "maxtrace = 100\n",
    "plt.figure(figsize=(10,8))\n",
    "plt.xlabel('Sample')\n",
    "plt.ylabel('Amplitude')\n",
    "plt.title('Captured Traces')\n",
    "for i in range(min(maxtrace, acqConf['traceNum'])):\n",
    "    trace = np.load(traceFile)\n",
    "    plt.plot(trace)\n",
    "\n",
    "plt.savefig(os.path.join(captureDir, 'traces.png'),facecolor=fig.get_facecolor())\n",
    "# plt.close()\n",
    "traceFile.close()"
   ]
  },
  {
   "cell_type": "code",
   "execution_count": null,
   "metadata": {},
   "outputs": [],
   "source": []
  }
 ],
 "metadata": {
  "kernelspec": {
   "display_name": "Python 3 (ipykernel)",
   "language": "python",
   "name": "python3"
  },
  "language_info": {
   "codemirror_mode": {
    "name": "ipython",
    "version": 3
   },
   "file_extension": ".py",
   "mimetype": "text/x-python",
   "name": "python",
   "nbconvert_exporter": "python",
   "pygments_lexer": "ipython3",
   "version": "3.8.10"
  },
  "toc-autonumbering": false,
  "toc-showcode": false,
  "toc-showmarkdowntxt": false
 },
 "nbformat": 4,
 "nbformat_minor": 4
}
